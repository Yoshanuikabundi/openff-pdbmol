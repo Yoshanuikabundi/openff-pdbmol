{
 "cells": [
  {
   "cell_type": "code",
   "execution_count": 1,
   "id": "5f76ef1d-2249-49fc-b021-681d48fd779e",
   "metadata": {
    "execution": {
     "iopub.execute_input": "2024-07-18T08:20:52.006336Z",
     "iopub.status.busy": "2024-07-18T08:20:52.006246Z",
     "iopub.status.idle": "2024-07-18T08:20:52.478893Z",
     "shell.execute_reply": "2024-07-18T08:20:52.478585Z",
     "shell.execute_reply.started": "2024-07-18T08:20:52.006326Z"
    }
   },
   "outputs": [
    {
     "data": {
      "application/vnd.jupyter.widget-view+json": {
       "model_id": "65ca3c0699ee4ed0bca490dc01a92f1c",
       "version_major": 2,
       "version_minor": 0
      },
      "text/plain": []
     },
     "metadata": {},
     "output_type": "display_data"
    }
   ],
   "source": [
    "from pathlib import Path\n",
    "\n",
    "import mdtraj\n",
    "import nglview\n",
    "import numpy as np\n",
    "import openmm\n",
    "import openmm.app\n",
    "import openmm.unit\n",
    "from openff.units import ensure_quantity\n",
    "import polars as pl\n",
    "\n",
    "def nglview_show_openmm(\n",
    "    topology: openmm.app.Topology, positions, image_molecules=False\n",
    "):\n",
    "    top = mdtraj.Topology.from_openmm(topology)\n",
    "\n",
    "    if isinstance(positions, str) or isinstance(positions, Path):\n",
    "        traj = mdtraj.load(positions, top=top)\n",
    "        if image_molecules:\n",
    "            traj.image_molecules(inplace=True)\n",
    "    else:\n",
    "        positions = ensure_quantity(positions, \"openmm\").value_in_unit(\n",
    "            openmm.unit.nanometer\n",
    "        )\n",
    "        xyz = np.asarray([positions])\n",
    "        box_vectors = topology.getPeriodicBoxVectors()\n",
    "        if box_vectors is not None:\n",
    "            (\n",
    "                l1,\n",
    "                l2,\n",
    "                l3,\n",
    "                alpha,\n",
    "                beta,\n",
    "                gamma,\n",
    "            ) = mdtraj.utils.box_vectors_to_lengths_and_angles(\n",
    "                *np.asarray(box_vectors.value_in_unit(openmm.unit.nanometer))\n",
    "            )\n",
    "            unitcell_angles, unitcell_lengths = [alpha, beta, gamma], [l1, l2, l3]\n",
    "        else:\n",
    "            unitcell_angles, unitcell_lengths = None, None\n",
    "        traj = mdtraj.Trajectory(\n",
    "            xyz, top, unitcell_lengths=unitcell_lengths, unitcell_angles=unitcell_angles\n",
    "        )\n",
    "    return nglview.show_mdtraj(traj)"
   ]
  },
  {
   "cell_type": "code",
   "execution_count": 2,
   "id": "879e2bf0-26c9-4540-8149-36642020a002",
   "metadata": {
    "execution": {
     "iopub.execute_input": "2024-07-18T08:20:52.479457Z",
     "iopub.status.busy": "2024-07-18T08:20:52.479314Z",
     "iopub.status.idle": "2024-07-18T08:20:52.516284Z",
     "shell.execute_reply": "2024-07-18T08:20:52.515974Z",
     "shell.execute_reply.started": "2024-07-18T08:20:52.479445Z"
    }
   },
   "outputs": [],
   "source": [
    "import gzip\n",
    "import string\n",
    "from collections import defaultdict\n",
    "from itertools import batched\n",
    "from multiprocessing import Pool\n",
    "from pathlib import Path\n",
    "\n",
    "import polars as pl\n",
    "from pdbfixer import PDBFixer\n",
    "\n",
    "datadir = Path(\"/home/joshmitchell/Downloads/pdb\")\n",
    "\n",
    "%load_ext snakeviz"
   ]
  },
  {
   "cell_type": "code",
   "execution_count": 3,
   "id": "2713895e-f416-445a-b0a6-33e0b44d6472",
   "metadata": {
    "execution": {
     "iopub.execute_input": "2024-07-18T08:20:52.516747Z",
     "iopub.status.busy": "2024-07-18T08:20:52.516643Z",
     "iopub.status.idle": "2024-07-18T08:20:52.519115Z",
     "shell.execute_reply": "2024-07-18T08:20:52.518870Z",
     "shell.execute_reply.started": "2024-07-18T08:20:52.516737Z"
    }
   },
   "outputs": [],
   "source": [
    "metals_atomic_numbers = [\n",
    "    3,\n",
    "    4,\n",
    "    11,\n",
    "    12,\n",
    "    13,\n",
    "    19,\n",
    "    20,\n",
    "    21,\n",
    "    22,\n",
    "    23,\n",
    "    24,\n",
    "    25,\n",
    "    26,\n",
    "    27,\n",
    "    28,\n",
    "    29,\n",
    "    30,\n",
    "    31,\n",
    "    37,\n",
    "    38,\n",
    "    39,\n",
    "    40,\n",
    "    41,\n",
    "    42,\n",
    "    43,\n",
    "    44,\n",
    "    45,\n",
    "    46,\n",
    "    47,\n",
    "    48,\n",
    "    49,\n",
    "    50,\n",
    "    55,\n",
    "    56,\n",
    "    57,\n",
    "    58,\n",
    "    59,\n",
    "    60,\n",
    "    61,\n",
    "    62,\n",
    "    63,\n",
    "    64,\n",
    "    65,\n",
    "    66,\n",
    "    67,\n",
    "    68,\n",
    "    69,\n",
    "    70,\n",
    "    71,\n",
    "    72,\n",
    "    73,\n",
    "    74,\n",
    "    75,\n",
    "    76,\n",
    "    77,\n",
    "    78,\n",
    "    79,\n",
    "    80,\n",
    "    81,\n",
    "    82,\n",
    "    83,\n",
    "    84,\n",
    "    87,\n",
    "    88,\n",
    "    89,\n",
    "    90,\n",
    "    91,\n",
    "    92,\n",
    "    93,\n",
    "    94,\n",
    "    95,\n",
    "    96,\n",
    "    97,\n",
    "    98,\n",
    "    99,\n",
    "    100,\n",
    "    101,\n",
    "    102,\n",
    "    103,\n",
    "    104,\n",
    "    105,\n",
    "    106,\n",
    "    107,\n",
    "    108,\n",
    "    109,\n",
    "    110,\n",
    "    111,\n",
    "    112,\n",
    "    113,\n",
    "    114,\n",
    "    115,\n",
    "    116,\n",
    "]"
   ]
  },
  {
   "cell_type": "code",
   "execution_count": 4,
   "id": "550a194a-f326-40f8-bf47-6333c995d745",
   "metadata": {
    "execution": {
     "iopub.execute_input": "2024-07-18T08:20:52.520783Z",
     "iopub.status.busy": "2024-07-18T08:20:52.520696Z",
     "iopub.status.idle": "2024-07-18T08:20:52.527969Z",
     "shell.execute_reply": "2024-07-18T08:20:52.527719Z",
     "shell.execute_reply.started": "2024-07-18T08:20:52.520775Z"
    }
   },
   "outputs": [],
   "source": [
    "schema = {\n",
    "    \"id\": pl.datatypes.String,\n",
    "    \"err\": pl.datatypes.String,\n",
    "    \"n_chains\": pl.datatypes.UInt64,\n",
    "    \"n_atoms\": pl.datatypes.UInt64,\n",
    "    \"n_hydrogens\": pl.datatypes.UInt64,\n",
    "    \"n_carbon\": pl.datatypes.UInt64,\n",
    "    \"n_oxygen\": pl.datatypes.UInt64,\n",
    "    \"n_nitrogen\": pl.datatypes.UInt64,\n",
    "    \"n_phosphorus\": pl.datatypes.UInt64,\n",
    "    \"n_sulfur\": pl.datatypes.UInt64,\n",
    "    \"n_metals\": pl.datatypes.UInt64,\n",
    "    \"n_no_element\": pl.datatypes.UInt64,\n",
    "    **{\n",
    "        f\"chain_{c}_seq\": pl.datatypes.List(pl.datatypes.String)\n",
    "        for c in string.printable\n",
    "    },\n",
    "    **{\n",
    "        f\"chain_{c}_res\": pl.datatypes.List(pl.datatypes.String)\n",
    "        for c in string.printable\n",
    "    },\n",
    "}"
   ]
  },
  {
   "cell_type": "code",
   "execution_count": 5,
   "id": "20b51c1a-ba3f-4a10-bc21-52d1298a260c",
   "metadata": {
    "execution": {
     "iopub.execute_input": "2024-07-18T08:20:52.760984Z",
     "iopub.status.busy": "2024-07-18T08:20:52.760847Z",
     "iopub.status.idle": "2024-07-18T08:22:50.438939Z",
     "shell.execute_reply": "2024-07-18T08:22:50.438490Z",
     "shell.execute_reply.started": "2024-07-18T08:20:52.760973Z"
    }
   },
   "outputs": [
    {
     "name": "stdout",
     "output_type": "stream",
     "text": [
      "0\n",
      "1\n",
      "2\n"
     ]
    }
   ],
   "source": [
    "# %%snakeviz\n",
    "\n",
    "chunk_size = 100\n",
    "threads = 24\n",
    "\n",
    "df = pl.DataFrame(schema=schema)\n",
    "\n",
    "\n",
    "def proc_batch(batch):\n",
    "    data = {k: [] for k in schema}\n",
    "    for path in batch:\n",
    "        for column in data.values():\n",
    "            column.append(None)\n",
    "        data[\"id\"][-1] = path.stem[3:-4]\n",
    "        try:\n",
    "            with gzip.open(path, \"r\") as f:\n",
    "                fixer = PDBFixer(pdbfile=f)\n",
    "        except Exception as e:\n",
    "            data[\"err\"][-1] = repr(e)\n",
    "            continue\n",
    "\n",
    "        data[\"n_chains\"][-1] = fixer.topology.getNumChains()\n",
    "        data[\"n_atoms\"][-1] = fixer.topology.getNumAtoms()\n",
    "        elements = [\n",
    "            atom.element for atom in fixer.topology.atoms() if atom.element is not None\n",
    "        ]\n",
    "        \n",
    "        data[\"n_no_element\"][-1] = fixer.topology.getNumAtoms() - len(elements)\n",
    "        data[\"n_hydrogens\"][-1] = sum(\n",
    "            1 for element in elements if element.symbol == \"H\"\n",
    "        )\n",
    "        data[\"n_carbon\"][-1] = sum(1 for element in elements if element.symbol == \"C\")\n",
    "        data[\"n_oxygen\"][-1] = sum(1 for element in elements if element.symbol == \"O\")\n",
    "        data[\"n_nitrogen\"][-1] = sum(1 for element in elements if element.symbol == \"N\")\n",
    "        data[\"n_phosphorus\"][-1] = sum(\n",
    "            1 for element in elements if element.symbol == \"P\"\n",
    "        )\n",
    "        data[\"n_sulfur\"][-1] = sum(1 for element in elements if element.symbol == \"S\")\n",
    "        data[\"n_metals\"][-1] = sum(\n",
    "            1 for element in elements if element.atomic_number in metals_atomic_numbers\n",
    "        )\n",
    "        for sequence in fixer.sequences:\n",
    "            data[f\"chain_{sequence.chainId}_seq\"][-1] = sequence.residues\n",
    "        for chain in fixer.topology.chains():\n",
    "            data[f\"chain_{chain.id}_res\"][-1] = [res.name for res in chain.residues()]\n",
    "\n",
    "    return pl.DataFrame(data, schema=schema)\n",
    "\n",
    "\n",
    "for i, batch in enumerate(batched(datadir.glob(\"*/*.ent.gz\"), n=chunk_size * threads)):\n",
    "    print(i)\n",
    "    with Pool() as pool:\n",
    "        df = pl.concat(\n",
    "            [\n",
    "                df,\n",
    "                *pool.imap_unordered(\n",
    "                    proc_batch,\n",
    "                    batched(batch, chunk_size),\n",
    "                ),\n",
    "            ]\n",
    "        )\n",
    "    df.rechunk()\n",
    "    if i >= 2:\n",
    "        break\n",
    "\n",
    "# df.write_parquet(datadir / \"dataframe.parquet\")"
   ]
  },
  {
   "cell_type": "code",
   "execution_count": 8,
   "id": "13a215ae-161f-422f-83bd-88b92e4a759e",
   "metadata": {
    "execution": {
     "iopub.execute_input": "2024-07-18T05:15:03.922855Z",
     "iopub.status.busy": "2024-07-18T05:15:03.922427Z",
     "iopub.status.idle": "2024-07-18T05:15:05.433549Z",
     "shell.execute_reply": "2024-07-18T05:15:05.433224Z",
     "shell.execute_reply.started": "2024-07-18T05:15:03.922834Z"
    }
   },
   "outputs": [
    {
     "data": {
      "text/html": [
       "<div><style>\n",
       ".dataframe > thead > tr,\n",
       ".dataframe > tbody > tr {\n",
       "  text-align: right;\n",
       "  white-space: pre-wrap;\n",
       "}\n",
       "</style>\n",
       "<small>shape: (10, 212)</small><table border=\"1\" class=\"dataframe\"><thead><tr><th>id</th><th>err</th><th>n_chains</th><th>n_atoms</th><th>n_hydrogens</th><th>n_carbon</th><th>n_oxygen</th><th>n_nitrogen</th><th>n_phosphorus</th><th>n_sulfur</th><th>n_metals</th><th>n_no_element</th><th>chain_0_seq</th><th>chain_1_seq</th><th>chain_2_seq</th><th>chain_3_seq</th><th>chain_4_seq</th><th>chain_5_seq</th><th>chain_6_seq</th><th>chain_7_seq</th><th>chain_8_seq</th><th>chain_9_seq</th><th>chain_a_seq</th><th>chain_b_seq</th><th>chain_c_seq</th><th>chain_d_seq</th><th>chain_e_seq</th><th>chain_f_seq</th><th>chain_g_seq</th><th>chain_h_seq</th><th>chain_i_seq</th><th>chain_j_seq</th><th>chain_k_seq</th><th>chain_l_seq</th><th>chain_m_seq</th><th>chain_n_seq</th><th>chain_o_seq</th><th>&hellip;</th><th>chain_&quot;_res</th><th>chain_#_res</th><th>chain_$_res</th><th>chain_%_res</th><th>chain_&amp;_res</th><th>chain_&#x27;_res</th><th>chain_(_res</th><th>chain_)_res</th><th>chain_*_res</th><th>chain_+_res</th><th>chain_,_res</th><th>chain_-_res</th><th>chain_._res</th><th>chain_/_res</th><th>chain_:_res</th><th>chain_;_res</th><th>chain_&lt;_res</th><th>chain_=_res</th><th>chain_&gt;_res</th><th>chain_?_res</th><th>chain_@_res</th><th>chain_[_res</th><th>chain_\\_res</th><th>chain_]_res</th><th>chain_^_res</th><th>chain___res</th><th>chain_`_res</th><th>chain_{_res</th><th>chain_|_res</th><th>chain_}_res</th><th>chain_~_res</th><th>chain_ _res</th><th>chain_\t_res</th><th>chain_\n",
       "_res</th><th>chain_\r",
       "_res</th><th>chain_\u000b",
       "_res</th><th>chain_\f",
       "_res</th></tr><tr><td>str</td><td>str</td><td>u64</td><td>u64</td><td>u64</td><td>u64</td><td>u64</td><td>u64</td><td>u64</td><td>u64</td><td>u64</td><td>u64</td><td>list[str]</td><td>list[str]</td><td>list[str]</td><td>list[str]</td><td>list[str]</td><td>list[str]</td><td>list[str]</td><td>list[str]</td><td>list[str]</td><td>list[str]</td><td>list[str]</td><td>list[str]</td><td>list[str]</td><td>list[str]</td><td>list[str]</td><td>list[str]</td><td>list[str]</td><td>list[str]</td><td>list[str]</td><td>list[str]</td><td>list[str]</td><td>list[str]</td><td>list[str]</td><td>list[str]</td><td>list[str]</td><td>&hellip;</td><td>list[str]</td><td>list[str]</td><td>list[str]</td><td>list[str]</td><td>list[str]</td><td>list[str]</td><td>list[str]</td><td>list[str]</td><td>list[str]</td><td>list[str]</td><td>list[str]</td><td>list[str]</td><td>list[str]</td><td>list[str]</td><td>list[str]</td><td>list[str]</td><td>list[str]</td><td>list[str]</td><td>list[str]</td><td>list[str]</td><td>list[str]</td><td>list[str]</td><td>list[str]</td><td>list[str]</td><td>list[str]</td><td>list[str]</td><td>list[str]</td><td>list[str]</td><td>list[str]</td><td>list[str]</td><td>list[str]</td><td>list[str]</td><td>list[str]</td><td>list[str]</td><td>list[str]</td><td>list[str]</td><td>list[str]</td></tr></thead><tbody><tr><td>&quot;6xcb&quot;</td><td>null</td><td>2</td><td>3663</td><td>0</td><td>2174</td><td>929</td><td>550</td><td>0</td><td>9</td><td>1</td><td>0</td><td>null</td><td>null</td><td>null</td><td>null</td><td>null</td><td>null</td><td>null</td><td>null</td><td>null</td><td>null</td><td>null</td><td>null</td><td>null</td><td>null</td><td>null</td><td>null</td><td>null</td><td>null</td><td>null</td><td>null</td><td>null</td><td>null</td><td>null</td><td>null</td><td>null</td><td>&hellip;</td><td>null</td><td>null</td><td>null</td><td>null</td><td>null</td><td>null</td><td>null</td><td>null</td><td>null</td><td>null</td><td>null</td><td>null</td><td>null</td><td>null</td><td>null</td><td>null</td><td>null</td><td>null</td><td>null</td><td>null</td><td>null</td><td>null</td><td>null</td><td>null</td><td>null</td><td>null</td><td>null</td><td>null</td><td>null</td><td>null</td><td>null</td><td>null</td><td>null</td><td>null</td><td>null</td><td>null</td><td>null</td></tr><tr><td>&quot;7xca&quot;</td><td>null</td><td>4</td><td>3314</td><td>0</td><td>2050</td><td>708</td><td>540</td><td>0</td><td>14</td><td>1</td><td>0</td><td>null</td><td>null</td><td>null</td><td>null</td><td>null</td><td>null</td><td>null</td><td>null</td><td>null</td><td>null</td><td>null</td><td>null</td><td>null</td><td>null</td><td>null</td><td>null</td><td>null</td><td>null</td><td>null</td><td>null</td><td>null</td><td>null</td><td>null</td><td>null</td><td>null</td><td>&hellip;</td><td>null</td><td>null</td><td>null</td><td>null</td><td>null</td><td>null</td><td>null</td><td>null</td><td>null</td><td>null</td><td>null</td><td>null</td><td>null</td><td>null</td><td>null</td><td>null</td><td>null</td><td>null</td><td>null</td><td>null</td><td>null</td><td>null</td><td>null</td><td>null</td><td>null</td><td>null</td><td>null</td><td>null</td><td>null</td><td>null</td><td>null</td><td>null</td><td>null</td><td>null</td><td>null</td><td>null</td><td>null</td></tr><tr><td>&quot;7xcd&quot;</td><td>null</td><td>2</td><td>1592</td><td>0</td><td>931</td><td>419</td><td>234</td><td>0</td><td>2</td><td>0</td><td>0</td><td>null</td><td>null</td><td>null</td><td>null</td><td>null</td><td>null</td><td>null</td><td>null</td><td>null</td><td>null</td><td>null</td><td>null</td><td>null</td><td>null</td><td>null</td><td>null</td><td>null</td><td>null</td><td>null</td><td>null</td><td>null</td><td>null</td><td>null</td><td>null</td><td>null</td><td>&hellip;</td><td>null</td><td>null</td><td>null</td><td>null</td><td>null</td><td>null</td><td>null</td><td>null</td><td>null</td><td>null</td><td>null</td><td>null</td><td>null</td><td>null</td><td>null</td><td>null</td><td>null</td><td>null</td><td>null</td><td>null</td><td>null</td><td>null</td><td>null</td><td>null</td><td>null</td><td>null</td><td>null</td><td>null</td><td>null</td><td>null</td><td>null</td><td>null</td><td>null</td><td>null</td><td>null</td><td>null</td><td>null</td></tr><tr><td>&quot;7xc8&quot;</td><td>null</td><td>2</td><td>1818</td><td>0</td><td>1100</td><td>400</td><td>305</td><td>0</td><td>13</td><td>0</td><td>0</td><td>null</td><td>null</td><td>null</td><td>null</td><td>null</td><td>null</td><td>null</td><td>null</td><td>null</td><td>null</td><td>null</td><td>null</td><td>null</td><td>null</td><td>null</td><td>null</td><td>null</td><td>null</td><td>null</td><td>null</td><td>null</td><td>null</td><td>null</td><td>null</td><td>null</td><td>&hellip;</td><td>null</td><td>null</td><td>null</td><td>null</td><td>null</td><td>null</td><td>null</td><td>null</td><td>null</td><td>null</td><td>null</td><td>null</td><td>null</td><td>null</td><td>null</td><td>null</td><td>null</td><td>null</td><td>null</td><td>null</td><td>null</td><td>null</td><td>null</td><td>null</td><td>null</td><td>null</td><td>null</td><td>null</td><td>null</td><td>null</td><td>null</td><td>null</td><td>null</td><td>null</td><td>null</td><td>null</td><td>null</td></tr><tr><td>&quot;2xck&quot;</td><td>null</td><td>2</td><td>2468</td><td>0</td><td>1500</td><td>577</td><td>380</td><td>1</td><td>10</td><td>0</td><td>0</td><td>null</td><td>null</td><td>null</td><td>null</td><td>null</td><td>null</td><td>null</td><td>null</td><td>null</td><td>null</td><td>null</td><td>null</td><td>null</td><td>null</td><td>null</td><td>null</td><td>null</td><td>null</td><td>null</td><td>null</td><td>null</td><td>null</td><td>null</td><td>null</td><td>null</td><td>&hellip;</td><td>null</td><td>null</td><td>null</td><td>null</td><td>null</td><td>null</td><td>null</td><td>null</td><td>null</td><td>null</td><td>null</td><td>null</td><td>null</td><td>null</td><td>null</td><td>null</td><td>null</td><td>null</td><td>null</td><td>null</td><td>null</td><td>null</td><td>null</td><td>null</td><td>null</td><td>null</td><td>null</td><td>null</td><td>null</td><td>null</td><td>null</td><td>null</td><td>null</td><td>null</td><td>null</td><td>null</td><td>null</td></tr><tr><td>&quot;6xcv&quot;</td><td>null</td><td>4</td><td>8036</td><td>0</td><td>4741</td><td>1987</td><td>1286</td><td>0</td><td>22</td><td>0</td><td>0</td><td>null</td><td>null</td><td>null</td><td>null</td><td>null</td><td>null</td><td>null</td><td>null</td><td>null</td><td>null</td><td>null</td><td>null</td><td>null</td><td>null</td><td>null</td><td>null</td><td>null</td><td>null</td><td>null</td><td>null</td><td>null</td><td>null</td><td>null</td><td>null</td><td>null</td><td>&hellip;</td><td>null</td><td>null</td><td>null</td><td>null</td><td>null</td><td>null</td><td>null</td><td>null</td><td>null</td><td>null</td><td>null</td><td>null</td><td>null</td><td>null</td><td>null</td><td>null</td><td>null</td><td>null</td><td>null</td><td>null</td><td>null</td><td>null</td><td>null</td><td>null</td><td>null</td><td>null</td><td>null</td><td>null</td><td>null</td><td>null</td><td>null</td><td>null</td><td>null</td><td>null</td><td>null</td><td>null</td><td>null</td></tr><tr><td>&quot;1xcg&quot;</td><td>null</td><td>8</td><td>8750</td><td>0</td><td>5467</td><td>1709</td><td>1524</td><td>0</td><td>50</td><td>0</td><td>0</td><td>null</td><td>null</td><td>null</td><td>null</td><td>null</td><td>null</td><td>null</td><td>null</td><td>null</td><td>null</td><td>null</td><td>null</td><td>null</td><td>null</td><td>null</td><td>null</td><td>null</td><td>null</td><td>null</td><td>null</td><td>null</td><td>null</td><td>null</td><td>null</td><td>null</td><td>&hellip;</td><td>null</td><td>null</td><td>null</td><td>null</td><td>null</td><td>null</td><td>null</td><td>null</td><td>null</td><td>null</td><td>null</td><td>null</td><td>null</td><td>null</td><td>null</td><td>null</td><td>null</td><td>null</td><td>null</td><td>null</td><td>null</td><td>null</td><td>null</td><td>null</td><td>null</td><td>null</td><td>null</td><td>null</td><td>null</td><td>null</td><td>null</td><td>null</td><td>null</td><td>null</td><td>null</td><td>null</td><td>null</td></tr><tr><td>&quot;4xcj&quot;</td><td>null</td><td>2</td><td>1801</td><td>0</td><td>1074</td><td>441</td><td>276</td><td>2</td><td>7</td><td>1</td><td>0</td><td>null</td><td>null</td><td>null</td><td>null</td><td>null</td><td>null</td><td>null</td><td>null</td><td>null</td><td>null</td><td>null</td><td>null</td><td>null</td><td>null</td><td>null</td><td>null</td><td>null</td><td>null</td><td>null</td><td>null</td><td>null</td><td>null</td><td>null</td><td>null</td><td>null</td><td>&hellip;</td><td>null</td><td>null</td><td>null</td><td>null</td><td>null</td><td>null</td><td>null</td><td>null</td><td>null</td><td>null</td><td>null</td><td>null</td><td>null</td><td>null</td><td>null</td><td>null</td><td>null</td><td>null</td><td>null</td><td>null</td><td>null</td><td>null</td><td>null</td><td>null</td><td>null</td><td>null</td><td>null</td><td>null</td><td>null</td><td>null</td><td>null</td><td>null</td><td>null</td><td>null</td><td>null</td><td>null</td><td>null</td></tr><tr><td>&quot;1xcb&quot;</td><td>null</td><td>14</td><td>11140</td><td>0</td><td>7125</td><td>2022</td><td>1959</td><td>14</td><td>7</td><td>5</td><td>0</td><td>null</td><td>null</td><td>null</td><td>null</td><td>null</td><td>null</td><td>null</td><td>null</td><td>null</td><td>null</td><td>null</td><td>null</td><td>null</td><td>null</td><td>null</td><td>null</td><td>null</td><td>null</td><td>null</td><td>null</td><td>null</td><td>null</td><td>null</td><td>null</td><td>null</td><td>&hellip;</td><td>null</td><td>null</td><td>null</td><td>null</td><td>null</td><td>null</td><td>null</td><td>null</td><td>null</td><td>null</td><td>null</td><td>null</td><td>null</td><td>null</td><td>null</td><td>null</td><td>null</td><td>null</td><td>null</td><td>null</td><td>null</td><td>null</td><td>null</td><td>null</td><td>null</td><td>null</td><td>null</td><td>null</td><td>null</td><td>null</td><td>null</td><td>null</td><td>null</td><td>null</td><td>null</td><td>null</td><td>null</td></tr><tr><td>&quot;6xcr&quot;</td><td>null</td><td>1</td><td>617</td><td>314</td><td>193</td><td>58</td><td>48</td><td>0</td><td>4</td><td>0</td><td>0</td><td>null</td><td>null</td><td>null</td><td>null</td><td>null</td><td>null</td><td>null</td><td>null</td><td>null</td><td>null</td><td>null</td><td>null</td><td>null</td><td>null</td><td>null</td><td>null</td><td>null</td><td>null</td><td>null</td><td>null</td><td>null</td><td>null</td><td>null</td><td>null</td><td>null</td><td>&hellip;</td><td>null</td><td>null</td><td>null</td><td>null</td><td>null</td><td>null</td><td>null</td><td>null</td><td>null</td><td>null</td><td>null</td><td>null</td><td>null</td><td>null</td><td>null</td><td>null</td><td>null</td><td>null</td><td>null</td><td>null</td><td>null</td><td>null</td><td>null</td><td>null</td><td>null</td><td>null</td><td>null</td><td>null</td><td>null</td><td>null</td><td>null</td><td>null</td><td>null</td><td>null</td><td>null</td><td>null</td><td>null</td></tr></tbody></table></div>"
      ],
      "text/plain": [
       "shape: (10, 212)\n",
       "┌──────┬──────┬──────────┬─────────┬───┬───────────┬────────────┬────────────┬────────────┐\n",
       "│ id   ┆ err  ┆ n_chains ┆ n_atoms ┆ … ┆ chain_    ┆ chain_\n",
       "_res ┆ chain_\n",
       "_res ┆ chain_\n",
       "_res │\n",
       "│ ---  ┆ ---  ┆ ---      ┆ ---     ┆   ┆ _res      ┆ ---        ┆ ---        ┆ ---        │\n",
       "│ str  ┆ str  ┆ u64      ┆ u64     ┆   ┆ ---       ┆ list[str]  ┆ list[str]  ┆ list[str]  │\n",
       "│      ┆      ┆          ┆         ┆   ┆ list[str] ┆            ┆            ┆            │\n",
       "╞══════╪══════╪══════════╪═════════╪═══╪═══════════╪════════════╪════════════╪════════════╡\n",
       "│ 6xcb ┆ null ┆ 2        ┆ 3663    ┆ … ┆ null      ┆ null       ┆ null       ┆ null       │\n",
       "│ 7xca ┆ null ┆ 4        ┆ 3314    ┆ … ┆ null      ┆ null       ┆ null       ┆ null       │\n",
       "│ 7xcd ┆ null ┆ 2        ┆ 1592    ┆ … ┆ null      ┆ null       ┆ null       ┆ null       │\n",
       "│ 7xc8 ┆ null ┆ 2        ┆ 1818    ┆ … ┆ null      ┆ null       ┆ null       ┆ null       │\n",
       "│ 2xck ┆ null ┆ 2        ┆ 2468    ┆ … ┆ null      ┆ null       ┆ null       ┆ null       │\n",
       "│ 6xcv ┆ null ┆ 4        ┆ 8036    ┆ … ┆ null      ┆ null       ┆ null       ┆ null       │\n",
       "│ 1xcg ┆ null ┆ 8        ┆ 8750    ┆ … ┆ null      ┆ null       ┆ null       ┆ null       │\n",
       "│ 4xcj ┆ null ┆ 2        ┆ 1801    ┆ … ┆ null      ┆ null       ┆ null       ┆ null       │\n",
       "│ 1xcb ┆ null ┆ 14       ┆ 11140   ┆ … ┆ null      ┆ null       ┆ null       ┆ null       │\n",
       "│ 6xcr ┆ null ┆ 1        ┆ 617     ┆ … ┆ null      ┆ null       ┆ null       ┆ null       │\n",
       "└──────┴──────┴──────────┴─────────┴───┴───────────┴────────────┴────────────┴────────────┘"
      ]
     },
     "execution_count": 8,
     "metadata": {},
     "output_type": "execute_result"
    }
   ],
   "source": [
    "proc_batch(list(datadir.glob(\"*/*.ent.gz\"))[0:10])"
   ]
  },
  {
   "cell_type": "code",
   "execution_count": 75,
   "id": "a10d812f-4acc-4d1b-b004-d1873c0c3b62",
   "metadata": {
    "execution": {
     "iopub.execute_input": "2024-06-14T12:23:03.524286Z",
     "iopub.status.busy": "2024-06-14T12:23:03.523996Z",
     "iopub.status.idle": "2024-06-14T12:23:04.068813Z",
     "shell.execute_reply": "2024-06-14T12:23:04.068558Z",
     "shell.execute_reply.started": "2024-06-14T12:23:03.524271Z"
    }
   },
   "outputs": [
    {
     "data": {
      "text/html": [
       "<div><style>\n",
       ".dataframe > thead > tr,\n",
       ".dataframe > tbody > tr {\n",
       "  text-align: right;\n",
       "  white-space: pre-wrap;\n",
       "}\n",
       "</style>\n",
       "<small>shape: (183, 212)</small><table border=\"1\" class=\"dataframe\"><thead><tr><th>id</th><th>err</th><th>n_chains</th><th>n_atoms</th><th>n_hydrogens</th><th>n_carbon</th><th>n_oxygen</th><th>n_nitrogen</th><th>n_phosphorus</th><th>n_sulfur</th><th>n_metals</th><th>n_no_element</th><th>chain_0_seq</th><th>chain_1_seq</th><th>chain_2_seq</th><th>chain_3_seq</th><th>chain_4_seq</th><th>chain_5_seq</th><th>chain_6_seq</th><th>chain_7_seq</th><th>chain_8_seq</th><th>chain_9_seq</th><th>chain_a_seq</th><th>chain_b_seq</th><th>chain_c_seq</th><th>chain_d_seq</th><th>chain_e_seq</th><th>chain_f_seq</th><th>chain_g_seq</th><th>chain_h_seq</th><th>chain_i_seq</th><th>chain_j_seq</th><th>chain_k_seq</th><th>chain_l_seq</th><th>chain_m_seq</th><th>chain_n_seq</th><th>chain_o_seq</th><th>&hellip;</th><th>chain_&quot;_res</th><th>chain_#_res</th><th>chain_$_res</th><th>chain_%_res</th><th>chain_&amp;_res</th><th>chain_&#x27;_res</th><th>chain_(_res</th><th>chain_)_res</th><th>chain_*_res</th><th>chain_+_res</th><th>chain_,_res</th><th>chain_-_res</th><th>chain_._res</th><th>chain_/_res</th><th>chain_:_res</th><th>chain_;_res</th><th>chain_&lt;_res</th><th>chain_=_res</th><th>chain_&gt;_res</th><th>chain_?_res</th><th>chain_@_res</th><th>chain_[_res</th><th>chain_\\_res</th><th>chain_]_res</th><th>chain_^_res</th><th>chain___res</th><th>chain_`_res</th><th>chain_{_res</th><th>chain_|_res</th><th>chain_}_res</th><th>chain_~_res</th><th>chain_ _res</th><th>chain_\t_res</th><th>chain_\n",
       "_res</th><th>chain_\r",
       "_res</th><th>chain_\u000b",
       "_res</th><th>chain_\f",
       "_res</th></tr><tr><td>str</td><td>str</td><td>u64</td><td>u64</td><td>u64</td><td>u64</td><td>u64</td><td>u64</td><td>u64</td><td>u64</td><td>u64</td><td>u64</td><td>list[str]</td><td>list[str]</td><td>list[str]</td><td>list[str]</td><td>list[str]</td><td>list[str]</td><td>list[str]</td><td>list[str]</td><td>list[str]</td><td>list[str]</td><td>list[str]</td><td>list[str]</td><td>list[str]</td><td>list[str]</td><td>list[str]</td><td>list[str]</td><td>list[str]</td><td>list[str]</td><td>list[str]</td><td>list[str]</td><td>list[str]</td><td>list[str]</td><td>list[str]</td><td>list[str]</td><td>list[str]</td><td>&hellip;</td><td>list[str]</td><td>list[str]</td><td>list[str]</td><td>list[str]</td><td>list[str]</td><td>list[str]</td><td>list[str]</td><td>list[str]</td><td>list[str]</td><td>list[str]</td><td>list[str]</td><td>list[str]</td><td>list[str]</td><td>list[str]</td><td>list[str]</td><td>list[str]</td><td>list[str]</td><td>list[str]</td><td>list[str]</td><td>list[str]</td><td>list[str]</td><td>list[str]</td><td>list[str]</td><td>list[str]</td><td>list[str]</td><td>list[str]</td><td>list[str]</td><td>list[str]</td><td>list[str]</td><td>list[str]</td><td>list[str]</td><td>list[str]</td><td>list[str]</td><td>list[str]</td><td>list[str]</td><td>list[str]</td><td>list[str]</td></tr></thead><tbody><tr><td>&quot;1joq&quot;</td><td>&quot;ValueError(&quot;could not convert …</td><td>null</td><td>null</td><td>null</td><td>null</td><td>null</td><td>null</td><td>null</td><td>null</td><td>null</td><td>null</td><td>null</td><td>null</td><td>null</td><td>null</td><td>null</td><td>null</td><td>null</td><td>null</td><td>null</td><td>null</td><td>null</td><td>null</td><td>null</td><td>null</td><td>null</td><td>null</td><td>null</td><td>null</td><td>null</td><td>null</td><td>null</td><td>null</td><td>null</td><td>null</td><td>null</td><td>&hellip;</td><td>null</td><td>null</td><td>null</td><td>null</td><td>null</td><td>null</td><td>null</td><td>null</td><td>null</td><td>null</td><td>null</td><td>null</td><td>null</td><td>null</td><td>null</td><td>null</td><td>null</td><td>null</td><td>null</td><td>null</td><td>null</td><td>null</td><td>null</td><td>null</td><td>null</td><td>null</td><td>null</td><td>null</td><td>null</td><td>null</td><td>null</td><td>null</td><td>null</td><td>null</td><td>null</td><td>null</td><td>null</td></tr><tr><td>&quot;1jox&quot;</td><td>&quot;ValueError(&quot;could not convert …</td><td>null</td><td>null</td><td>null</td><td>null</td><td>null</td><td>null</td><td>null</td><td>null</td><td>null</td><td>null</td><td>null</td><td>null</td><td>null</td><td>null</td><td>null</td><td>null</td><td>null</td><td>null</td><td>null</td><td>null</td><td>null</td><td>null</td><td>null</td><td>null</td><td>null</td><td>null</td><td>null</td><td>null</td><td>null</td><td>null</td><td>null</td><td>null</td><td>null</td><td>null</td><td>null</td><td>&hellip;</td><td>null</td><td>null</td><td>null</td><td>null</td><td>null</td><td>null</td><td>null</td><td>null</td><td>null</td><td>null</td><td>null</td><td>null</td><td>null</td><td>null</td><td>null</td><td>null</td><td>null</td><td>null</td><td>null</td><td>null</td><td>null</td><td>null</td><td>null</td><td>null</td><td>null</td><td>null</td><td>null</td><td>null</td><td>null</td><td>null</td><td>null</td><td>null</td><td>null</td><td>null</td><td>null</td><td>null</td><td>null</td></tr><tr><td>&quot;1jo1&quot;</td><td>&quot;ValueError(&quot;could not convert …</td><td>null</td><td>null</td><td>null</td><td>null</td><td>null</td><td>null</td><td>null</td><td>null</td><td>null</td><td>null</td><td>null</td><td>null</td><td>null</td><td>null</td><td>null</td><td>null</td><td>null</td><td>null</td><td>null</td><td>null</td><td>null</td><td>null</td><td>null</td><td>null</td><td>null</td><td>null</td><td>null</td><td>null</td><td>null</td><td>null</td><td>null</td><td>null</td><td>null</td><td>null</td><td>null</td><td>&hellip;</td><td>null</td><td>null</td><td>null</td><td>null</td><td>null</td><td>null</td><td>null</td><td>null</td><td>null</td><td>null</td><td>null</td><td>null</td><td>null</td><td>null</td><td>null</td><td>null</td><td>null</td><td>null</td><td>null</td><td>null</td><td>null</td><td>null</td><td>null</td><td>null</td><td>null</td><td>null</td><td>null</td><td>null</td><td>null</td><td>null</td><td>null</td><td>null</td><td>null</td><td>null</td><td>null</td><td>null</td><td>null</td></tr><tr><td>&quot;1jor&quot;</td><td>&quot;ValueError(&quot;could not convert …</td><td>null</td><td>null</td><td>null</td><td>null</td><td>null</td><td>null</td><td>null</td><td>null</td><td>null</td><td>null</td><td>null</td><td>null</td><td>null</td><td>null</td><td>null</td><td>null</td><td>null</td><td>null</td><td>null</td><td>null</td><td>null</td><td>null</td><td>null</td><td>null</td><td>null</td><td>null</td><td>null</td><td>null</td><td>null</td><td>null</td><td>null</td><td>null</td><td>null</td><td>null</td><td>null</td><td>&hellip;</td><td>null</td><td>null</td><td>null</td><td>null</td><td>null</td><td>null</td><td>null</td><td>null</td><td>null</td><td>null</td><td>null</td><td>null</td><td>null</td><td>null</td><td>null</td><td>null</td><td>null</td><td>null</td><td>null</td><td>null</td><td>null</td><td>null</td><td>null</td><td>null</td><td>null</td><td>null</td><td>null</td><td>null</td><td>null</td><td>null</td><td>null</td><td>null</td><td>null</td><td>null</td><td>null</td><td>null</td><td>null</td></tr><tr><td>&quot;1jo5&quot;</td><td>&quot;ValueError(&quot;could not convert …</td><td>null</td><td>null</td><td>null</td><td>null</td><td>null</td><td>null</td><td>null</td><td>null</td><td>null</td><td>null</td><td>null</td><td>null</td><td>null</td><td>null</td><td>null</td><td>null</td><td>null</td><td>null</td><td>null</td><td>null</td><td>null</td><td>null</td><td>null</td><td>null</td><td>null</td><td>null</td><td>null</td><td>null</td><td>null</td><td>null</td><td>null</td><td>null</td><td>null</td><td>null</td><td>null</td><td>&hellip;</td><td>null</td><td>null</td><td>null</td><td>null</td><td>null</td><td>null</td><td>null</td><td>null</td><td>null</td><td>null</td><td>null</td><td>null</td><td>null</td><td>null</td><td>null</td><td>null</td><td>null</td><td>null</td><td>null</td><td>null</td><td>null</td><td>null</td><td>null</td><td>null</td><td>null</td><td>null</td><td>null</td><td>null</td><td>null</td><td>null</td><td>null</td><td>null</td><td>null</td><td>null</td><td>null</td><td>null</td><td>null</td></tr><tr><td>&hellip;</td><td>&hellip;</td><td>&hellip;</td><td>&hellip;</td><td>&hellip;</td><td>&hellip;</td><td>&hellip;</td><td>&hellip;</td><td>&hellip;</td><td>&hellip;</td><td>&hellip;</td><td>&hellip;</td><td>&hellip;</td><td>&hellip;</td><td>&hellip;</td><td>&hellip;</td><td>&hellip;</td><td>&hellip;</td><td>&hellip;</td><td>&hellip;</td><td>&hellip;</td><td>&hellip;</td><td>&hellip;</td><td>&hellip;</td><td>&hellip;</td><td>&hellip;</td><td>&hellip;</td><td>&hellip;</td><td>&hellip;</td><td>&hellip;</td><td>&hellip;</td><td>&hellip;</td><td>&hellip;</td><td>&hellip;</td><td>&hellip;</td><td>&hellip;</td><td>&hellip;</td><td>&hellip;</td><td>&hellip;</td><td>&hellip;</td><td>&hellip;</td><td>&hellip;</td><td>&hellip;</td><td>&hellip;</td><td>&hellip;</td><td>&hellip;</td><td>&hellip;</td><td>&hellip;</td><td>&hellip;</td><td>&hellip;</td><td>&hellip;</td><td>&hellip;</td><td>&hellip;</td><td>&hellip;</td><td>&hellip;</td><td>&hellip;</td><td>&hellip;</td><td>&hellip;</td><td>&hellip;</td><td>&hellip;</td><td>&hellip;</td><td>&hellip;</td><td>&hellip;</td><td>&hellip;</td><td>&hellip;</td><td>&hellip;</td><td>&hellip;</td><td>&hellip;</td><td>&hellip;</td><td>&hellip;</td><td>&hellip;</td><td>&hellip;</td><td>&hellip;</td><td>&hellip;</td><td>&hellip;</td></tr><tr><td>&quot;1ik1&quot;</td><td>&quot;ValueError(&quot;could not convert …</td><td>null</td><td>null</td><td>null</td><td>null</td><td>null</td><td>null</td><td>null</td><td>null</td><td>null</td><td>null</td><td>null</td><td>null</td><td>null</td><td>null</td><td>null</td><td>null</td><td>null</td><td>null</td><td>null</td><td>null</td><td>null</td><td>null</td><td>null</td><td>null</td><td>null</td><td>null</td><td>null</td><td>null</td><td>null</td><td>null</td><td>null</td><td>null</td><td>null</td><td>null</td><td>null</td><td>&hellip;</td><td>null</td><td>null</td><td>null</td><td>null</td><td>null</td><td>null</td><td>null</td><td>null</td><td>null</td><td>null</td><td>null</td><td>null</td><td>null</td><td>null</td><td>null</td><td>null</td><td>null</td><td>null</td><td>null</td><td>null</td><td>null</td><td>null</td><td>null</td><td>null</td><td>null</td><td>null</td><td>null</td><td>null</td><td>null</td><td>null</td><td>null</td><td>null</td><td>null</td><td>null</td><td>null</td><td>null</td><td>null</td></tr><tr><td>&quot;1j46&quot;</td><td>&quot;ValueError(&quot;could not convert …</td><td>null</td><td>null</td><td>null</td><td>null</td><td>null</td><td>null</td><td>null</td><td>null</td><td>null</td><td>null</td><td>null</td><td>null</td><td>null</td><td>null</td><td>null</td><td>null</td><td>null</td><td>null</td><td>null</td><td>null</td><td>null</td><td>null</td><td>null</td><td>null</td><td>null</td><td>null</td><td>null</td><td>null</td><td>null</td><td>null</td><td>null</td><td>null</td><td>null</td><td>null</td><td>null</td><td>&hellip;</td><td>null</td><td>null</td><td>null</td><td>null</td><td>null</td><td>null</td><td>null</td><td>null</td><td>null</td><td>null</td><td>null</td><td>null</td><td>null</td><td>null</td><td>null</td><td>null</td><td>null</td><td>null</td><td>null</td><td>null</td><td>null</td><td>null</td><td>null</td><td>null</td><td>null</td><td>null</td><td>null</td><td>null</td><td>null</td><td>null</td><td>null</td><td>null</td><td>null</td><td>null</td><td>null</td><td>null</td><td>null</td></tr><tr><td>&quot;1k0v&quot;</td><td>&quot;ValueError(&quot;could not convert …</td><td>null</td><td>null</td><td>null</td><td>null</td><td>null</td><td>null</td><td>null</td><td>null</td><td>null</td><td>null</td><td>null</td><td>null</td><td>null</td><td>null</td><td>null</td><td>null</td><td>null</td><td>null</td><td>null</td><td>null</td><td>null</td><td>null</td><td>null</td><td>null</td><td>null</td><td>null</td><td>null</td><td>null</td><td>null</td><td>null</td><td>null</td><td>null</td><td>null</td><td>null</td><td>null</td><td>&hellip;</td><td>null</td><td>null</td><td>null</td><td>null</td><td>null</td><td>null</td><td>null</td><td>null</td><td>null</td><td>null</td><td>null</td><td>null</td><td>null</td><td>null</td><td>null</td><td>null</td><td>null</td><td>null</td><td>null</td><td>null</td><td>null</td><td>null</td><td>null</td><td>null</td><td>null</td><td>null</td><td>null</td><td>null</td><td>null</td><td>null</td><td>null</td><td>null</td><td>null</td><td>null</td><td>null</td><td>null</td><td>null</td></tr><tr><td>&quot;1k0h&quot;</td><td>&quot;ValueError(&quot;could not convert …</td><td>null</td><td>null</td><td>null</td><td>null</td><td>null</td><td>null</td><td>null</td><td>null</td><td>null</td><td>null</td><td>null</td><td>null</td><td>null</td><td>null</td><td>null</td><td>null</td><td>null</td><td>null</td><td>null</td><td>null</td><td>null</td><td>null</td><td>null</td><td>null</td><td>null</td><td>null</td><td>null</td><td>null</td><td>null</td><td>null</td><td>null</td><td>null</td><td>null</td><td>null</td><td>null</td><td>&hellip;</td><td>null</td><td>null</td><td>null</td><td>null</td><td>null</td><td>null</td><td>null</td><td>null</td><td>null</td><td>null</td><td>null</td><td>null</td><td>null</td><td>null</td><td>null</td><td>null</td><td>null</td><td>null</td><td>null</td><td>null</td><td>null</td><td>null</td><td>null</td><td>null</td><td>null</td><td>null</td><td>null</td><td>null</td><td>null</td><td>null</td><td>null</td><td>null</td><td>null</td><td>null</td><td>null</td><td>null</td><td>null</td></tr><tr><td>&quot;1k0s&quot;</td><td>&quot;ValueError(&quot;could not convert …</td><td>null</td><td>null</td><td>null</td><td>null</td><td>null</td><td>null</td><td>null</td><td>null</td><td>null</td><td>null</td><td>null</td><td>null</td><td>null</td><td>null</td><td>null</td><td>null</td><td>null</td><td>null</td><td>null</td><td>null</td><td>null</td><td>null</td><td>null</td><td>null</td><td>null</td><td>null</td><td>null</td><td>null</td><td>null</td><td>null</td><td>null</td><td>null</td><td>null</td><td>null</td><td>null</td><td>&hellip;</td><td>null</td><td>null</td><td>null</td><td>null</td><td>null</td><td>null</td><td>null</td><td>null</td><td>null</td><td>null</td><td>null</td><td>null</td><td>null</td><td>null</td><td>null</td><td>null</td><td>null</td><td>null</td><td>null</td><td>null</td><td>null</td><td>null</td><td>null</td><td>null</td><td>null</td><td>null</td><td>null</td><td>null</td><td>null</td><td>null</td><td>null</td><td>null</td><td>null</td><td>null</td><td>null</td><td>null</td><td>null</td></tr></tbody></table></div>"
      ],
      "text/plain": [
       "shape: (183, 212)\n",
       "┌──────┬───────────────┬──────────┬─────────┬───┬───────────┬────────────┬────────────┬────────────┐\n",
       "│ id   ┆ err           ┆ n_chains ┆ n_atoms ┆ … ┆ chain_    ┆ chain_\n",
       "_res ┆ chain_\n",
       "_res ┆ chain_\n",
       "_res │\n",
       "│ ---  ┆ ---           ┆ ---      ┆ ---     ┆   ┆ _res      ┆ ---        ┆ ---        ┆ ---        │\n",
       "│ str  ┆ str           ┆ u64      ┆ u64     ┆   ┆ ---       ┆ list[str]  ┆ list[str]  ┆ list[str]  │\n",
       "│      ┆               ┆          ┆         ┆   ┆ list[str] ┆            ┆            ┆            │\n",
       "╞══════╪═══════════════╪══════════╪═════════╪═══╪═══════════╪════════════╪════════════╪════════════╡\n",
       "│ 1joq ┆ ValueError(\"c ┆ null     ┆ null    ┆ … ┆ null      ┆ null       ┆ null       ┆ null       │\n",
       "│      ┆ ould not      ┆          ┆         ┆   ┆           ┆            ┆            ┆            │\n",
       "│      ┆ convert …     ┆          ┆         ┆   ┆           ┆            ┆            ┆            │\n",
       "│ 1jox ┆ ValueError(\"c ┆ null     ┆ null    ┆ … ┆ null      ┆ null       ┆ null       ┆ null       │\n",
       "│      ┆ ould not      ┆          ┆         ┆   ┆           ┆            ┆            ┆            │\n",
       "│      ┆ convert …     ┆          ┆         ┆   ┆           ┆            ┆            ┆            │\n",
       "│ 1jo1 ┆ ValueError(\"c ┆ null     ┆ null    ┆ … ┆ null      ┆ null       ┆ null       ┆ null       │\n",
       "│      ┆ ould not      ┆          ┆         ┆   ┆           ┆            ┆            ┆            │\n",
       "│      ┆ convert …     ┆          ┆         ┆   ┆           ┆            ┆            ┆            │\n",
       "│ 1jor ┆ ValueError(\"c ┆ null     ┆ null    ┆ … ┆ null      ┆ null       ┆ null       ┆ null       │\n",
       "│      ┆ ould not      ┆          ┆         ┆   ┆           ┆            ┆            ┆            │\n",
       "│      ┆ convert …     ┆          ┆         ┆   ┆           ┆            ┆            ┆            │\n",
       "│ 1jo5 ┆ ValueError(\"c ┆ null     ┆ null    ┆ … ┆ null      ┆ null       ┆ null       ┆ null       │\n",
       "│      ┆ ould not      ┆          ┆         ┆   ┆           ┆            ┆            ┆            │\n",
       "│      ┆ convert …     ┆          ┆         ┆   ┆           ┆            ┆            ┆            │\n",
       "│ …    ┆ …             ┆ …        ┆ …       ┆ … ┆ …         ┆ …          ┆ …          ┆ …          │\n",
       "│ 1ik1 ┆ ValueError(\"c ┆ null     ┆ null    ┆ … ┆ null      ┆ null       ┆ null       ┆ null       │\n",
       "│      ┆ ould not      ┆          ┆         ┆   ┆           ┆            ┆            ┆            │\n",
       "│      ┆ convert …     ┆          ┆         ┆   ┆           ┆            ┆            ┆            │\n",
       "│ 1j46 ┆ ValueError(\"c ┆ null     ┆ null    ┆ … ┆ null      ┆ null       ┆ null       ┆ null       │\n",
       "│      ┆ ould not      ┆          ┆         ┆   ┆           ┆            ┆            ┆            │\n",
       "│      ┆ convert …     ┆          ┆         ┆   ┆           ┆            ┆            ┆            │\n",
       "│ 1k0v ┆ ValueError(\"c ┆ null     ┆ null    ┆ … ┆ null      ┆ null       ┆ null       ┆ null       │\n",
       "│      ┆ ould not      ┆          ┆         ┆   ┆           ┆            ┆            ┆            │\n",
       "│      ┆ convert …     ┆          ┆         ┆   ┆           ┆            ┆            ┆            │\n",
       "│ 1k0h ┆ ValueError(\"c ┆ null     ┆ null    ┆ … ┆ null      ┆ null       ┆ null       ┆ null       │\n",
       "│      ┆ ould not      ┆          ┆         ┆   ┆           ┆            ┆            ┆            │\n",
       "│      ┆ convert …     ┆          ┆         ┆   ┆           ┆            ┆            ┆            │\n",
       "│ 1k0s ┆ ValueError(\"c ┆ null     ┆ null    ┆ … ┆ null      ┆ null       ┆ null       ┆ null       │\n",
       "│      ┆ ould not      ┆          ┆         ┆   ┆           ┆            ┆            ┆            │\n",
       "│      ┆ convert …     ┆          ┆         ┆   ┆           ┆            ┆            ┆            │\n",
       "└──────┴───────────────┴──────────┴─────────┴───┴───────────┴────────────┴────────────┴────────────┘"
      ]
     },
     "execution_count": 75,
     "metadata": {},
     "output_type": "execute_result"
    }
   ],
   "source": [
    "df.filter(pl.col(\"err\").is_not_null())"
   ]
  },
  {
   "cell_type": "code",
   "execution_count": 78,
   "id": "9813efd6-fba5-434e-a61b-269a59f2016b",
   "metadata": {
    "execution": {
     "iopub.execute_input": "2024-06-14T12:28:53.524207Z",
     "iopub.status.busy": "2024-06-14T12:28:53.523882Z",
     "iopub.status.idle": "2024-06-14T12:28:53.529343Z",
     "shell.execute_reply": "2024-06-14T12:28:53.529117Z",
     "shell.execute_reply.started": "2024-06-14T12:28:53.524192Z"
    }
   },
   "outputs": [
    {
     "data": {
      "text/html": [
       "<div><style>\n",
       ".dataframe > thead > tr,\n",
       ".dataframe > tbody > tr {\n",
       "  text-align: right;\n",
       "  white-space: pre-wrap;\n",
       "}\n",
       "</style>\n",
       "<small>shape: (215_535, 136)</small><table border=\"1\" class=\"dataframe\"><thead><tr><th>id</th><th>err</th><th>n_chains</th><th>n_atoms</th><th>n_hydrogens</th><th>n_carbon</th><th>n_oxygen</th><th>n_nitrogen</th><th>n_phosphorus</th><th>n_sulfur</th><th>n_metals</th><th>n_no_element</th><th>chain_0_seq</th><th>chain_1_seq</th><th>chain_2_seq</th><th>chain_3_seq</th><th>chain_4_seq</th><th>chain_5_seq</th><th>chain_6_seq</th><th>chain_7_seq</th><th>chain_8_seq</th><th>chain_9_seq</th><th>chain_a_seq</th><th>chain_b_seq</th><th>chain_c_seq</th><th>chain_d_seq</th><th>chain_e_seq</th><th>chain_f_seq</th><th>chain_g_seq</th><th>chain_h_seq</th><th>chain_i_seq</th><th>chain_j_seq</th><th>chain_k_seq</th><th>chain_l_seq</th><th>chain_m_seq</th><th>chain_n_seq</th><th>chain_o_seq</th><th>&hellip;</th><th>chain_p_res</th><th>chain_q_res</th><th>chain_r_res</th><th>chain_s_res</th><th>chain_t_res</th><th>chain_u_res</th><th>chain_v_res</th><th>chain_w_res</th><th>chain_x_res</th><th>chain_y_res</th><th>chain_z_res</th><th>chain_A_res</th><th>chain_B_res</th><th>chain_C_res</th><th>chain_D_res</th><th>chain_E_res</th><th>chain_F_res</th><th>chain_G_res</th><th>chain_H_res</th><th>chain_I_res</th><th>chain_J_res</th><th>chain_K_res</th><th>chain_L_res</th><th>chain_M_res</th><th>chain_N_res</th><th>chain_O_res</th><th>chain_P_res</th><th>chain_Q_res</th><th>chain_R_res</th><th>chain_S_res</th><th>chain_T_res</th><th>chain_U_res</th><th>chain_V_res</th><th>chain_W_res</th><th>chain_X_res</th><th>chain_Y_res</th><th>chain_Z_res</th></tr><tr><td>str</td><td>str</td><td>u64</td><td>u64</td><td>u64</td><td>u64</td><td>u64</td><td>u64</td><td>u64</td><td>u64</td><td>u64</td><td>u64</td><td>list[str]</td><td>list[str]</td><td>list[str]</td><td>list[str]</td><td>list[str]</td><td>list[str]</td><td>list[str]</td><td>list[str]</td><td>list[str]</td><td>list[str]</td><td>list[str]</td><td>list[str]</td><td>list[str]</td><td>list[str]</td><td>list[str]</td><td>list[str]</td><td>list[str]</td><td>list[str]</td><td>list[str]</td><td>list[str]</td><td>list[str]</td><td>list[str]</td><td>list[str]</td><td>list[str]</td><td>list[str]</td><td>&hellip;</td><td>list[str]</td><td>list[str]</td><td>list[str]</td><td>list[str]</td><td>list[str]</td><td>list[str]</td><td>list[str]</td><td>list[str]</td><td>list[str]</td><td>list[str]</td><td>list[str]</td><td>list[str]</td><td>list[str]</td><td>list[str]</td><td>list[str]</td><td>list[str]</td><td>list[str]</td><td>list[str]</td><td>list[str]</td><td>list[str]</td><td>list[str]</td><td>list[str]</td><td>list[str]</td><td>list[str]</td><td>list[str]</td><td>list[str]</td><td>list[str]</td><td>list[str]</td><td>list[str]</td><td>list[str]</td><td>list[str]</td><td>list[str]</td><td>list[str]</td><td>list[str]</td><td>list[str]</td><td>list[str]</td><td>list[str]</td></tr></thead><tbody><tr><td>&quot;1jo8&quot;</td><td>null</td><td>2</td><td>611</td><td>0</td><td>302</td><td>238</td><td>69</td><td>0</td><td>2</td><td>0</td><td>0</td><td>null</td><td>null</td><td>null</td><td>null</td><td>null</td><td>null</td><td>null</td><td>null</td><td>null</td><td>null</td><td>null</td><td>null</td><td>null</td><td>null</td><td>null</td><td>null</td><td>null</td><td>null</td><td>null</td><td>null</td><td>null</td><td>null</td><td>null</td><td>null</td><td>null</td><td>&hellip;</td><td>null</td><td>null</td><td>null</td><td>null</td><td>null</td><td>null</td><td>null</td><td>null</td><td>null</td><td>null</td><td>null</td><td>[&quot;SO4&quot;, &quot;SO4&quot;, … &quot;HOH&quot;]</td><td>null</td><td>null</td><td>null</td><td>null</td><td>null</td><td>null</td><td>null</td><td>null</td><td>null</td><td>null</td><td>null</td><td>null</td><td>null</td><td>null</td><td>null</td><td>null</td><td>null</td><td>null</td><td>null</td><td>null</td><td>null</td><td>null</td><td>null</td><td>null</td><td>null</td></tr><tr><td>&quot;5jo0&quot;</td><td>null</td><td>6</td><td>6995</td><td>0</td><td>4268</td><td>1606</td><td>1077</td><td>2</td><td>40</td><td>2</td><td>0</td><td>null</td><td>null</td><td>null</td><td>null</td><td>null</td><td>null</td><td>null</td><td>null</td><td>null</td><td>null</td><td>null</td><td>null</td><td>null</td><td>null</td><td>null</td><td>null</td><td>null</td><td>null</td><td>null</td><td>null</td><td>null</td><td>null</td><td>null</td><td>null</td><td>null</td><td>&hellip;</td><td>null</td><td>null</td><td>null</td><td>null</td><td>null</td><td>null</td><td>null</td><td>null</td><td>null</td><td>null</td><td>null</td><td>[&quot;HOH&quot;, &quot;HOH&quot;, … &quot;HOH&quot;]</td><td>[&quot;HOH&quot;, &quot;HOH&quot;, … &quot;HOH&quot;]</td><td>null</td><td>null</td><td>null</td><td>null</td><td>null</td><td>null</td><td>null</td><td>null</td><td>null</td><td>null</td><td>null</td><td>null</td><td>null</td><td>null</td><td>null</td><td>null</td><td>null</td><td>null</td><td>null</td><td>null</td><td>null</td><td>null</td><td>null</td><td>null</td></tr><tr><td>&quot;4jox&quot;</td><td>null</td><td>2</td><td>991</td><td>0</td><td>565</td><td>264</td><td>161</td><td>0</td><td>1</td><td>0</td><td>0</td><td>null</td><td>null</td><td>null</td><td>null</td><td>null</td><td>null</td><td>null</td><td>null</td><td>null</td><td>null</td><td>null</td><td>null</td><td>null</td><td>null</td><td>null</td><td>null</td><td>null</td><td>null</td><td>null</td><td>null</td><td>null</td><td>null</td><td>null</td><td>null</td><td>null</td><td>&hellip;</td><td>null</td><td>null</td><td>null</td><td>null</td><td>null</td><td>null</td><td>null</td><td>null</td><td>null</td><td>null</td><td>null</td><td>[&quot;HOH&quot;, &quot;HOH&quot;, … &quot;HOH&quot;]</td><td>null</td><td>null</td><td>null</td><td>null</td><td>null</td><td>null</td><td>null</td><td>null</td><td>null</td><td>null</td><td>null</td><td>null</td><td>null</td><td>null</td><td>null</td><td>null</td><td>null</td><td>null</td><td>null</td><td>null</td><td>null</td><td>null</td><td>null</td><td>null</td><td>null</td></tr><tr><td>&quot;7jog&quot;</td><td>null</td><td>5</td><td>1309</td><td>453</td><td>409</td><td>248</td><td>158</td><td>40</td><td>0</td><td>0</td><td>0</td><td>null</td><td>null</td><td>null</td><td>null</td><td>null</td><td>null</td><td>null</td><td>null</td><td>null</td><td>null</td><td>null</td><td>null</td><td>null</td><td>null</td><td>null</td><td>null</td><td>null</td><td>null</td><td>null</td><td>null</td><td>null</td><td>null</td><td>null</td><td>null</td><td>null</td><td>&hellip;</td><td>null</td><td>null</td><td>null</td><td>null</td><td>null</td><td>null</td><td>null</td><td>null</td><td>null</td><td>null</td><td>null</td><td>[&quot;DG&quot;, &quot;DA&quot;, … &quot;DA&quot;]</td><td>[&quot;DT&quot;, &quot;DC&quot;, … &quot;DA&quot;]</td><td>[&quot;DT&quot;, &quot;DC&quot;, … &quot;DC&quot;]</td><td>[&quot;CAC&quot;]</td><td>null</td><td>null</td><td>null</td><td>null</td><td>null</td><td>null</td><td>null</td><td>null</td><td>null</td><td>null</td><td>null</td><td>null</td><td>null</td><td>null</td><td>null</td><td>null</td><td>null</td><td>null</td><td>null</td><td>null</td><td>null</td><td>null</td></tr><tr><td>&quot;5jox&quot;</td><td>null</td><td>6</td><td>8853</td><td>0</td><td>5012</td><td>2495</td><td>1316</td><td>0</td><td>30</td><td>0</td><td>0</td><td>null</td><td>null</td><td>null</td><td>null</td><td>null</td><td>null</td><td>null</td><td>null</td><td>null</td><td>null</td><td>null</td><td>null</td><td>null</td><td>null</td><td>null</td><td>null</td><td>null</td><td>null</td><td>null</td><td>null</td><td>null</td><td>null</td><td>null</td><td>null</td><td>null</td><td>&hellip;</td><td>null</td><td>null</td><td>null</td><td>null</td><td>null</td><td>null</td><td>null</td><td>null</td><td>null</td><td>null</td><td>null</td><td>[&quot;HOH&quot;, &quot;HOH&quot;, … &quot;HOH&quot;]</td><td>[&quot;HOH&quot;, &quot;HOH&quot;, … &quot;HOH&quot;]</td><td>null</td><td>null</td><td>null</td><td>null</td><td>null</td><td>null</td><td>null</td><td>null</td><td>null</td><td>null</td><td>null</td><td>null</td><td>null</td><td>null</td><td>null</td><td>null</td><td>null</td><td>null</td><td>null</td><td>null</td><td>null</td><td>null</td><td>null</td><td>null</td></tr><tr><td>&hellip;</td><td>&hellip;</td><td>&hellip;</td><td>&hellip;</td><td>&hellip;</td><td>&hellip;</td><td>&hellip;</td><td>&hellip;</td><td>&hellip;</td><td>&hellip;</td><td>&hellip;</td><td>&hellip;</td><td>&hellip;</td><td>&hellip;</td><td>&hellip;</td><td>&hellip;</td><td>&hellip;</td><td>&hellip;</td><td>&hellip;</td><td>&hellip;</td><td>&hellip;</td><td>&hellip;</td><td>&hellip;</td><td>&hellip;</td><td>&hellip;</td><td>&hellip;</td><td>&hellip;</td><td>&hellip;</td><td>&hellip;</td><td>&hellip;</td><td>&hellip;</td><td>&hellip;</td><td>&hellip;</td><td>&hellip;</td><td>&hellip;</td><td>&hellip;</td><td>&hellip;</td><td>&hellip;</td><td>&hellip;</td><td>&hellip;</td><td>&hellip;</td><td>&hellip;</td><td>&hellip;</td><td>&hellip;</td><td>&hellip;</td><td>&hellip;</td><td>&hellip;</td><td>&hellip;</td><td>&hellip;</td><td>&hellip;</td><td>&hellip;</td><td>&hellip;</td><td>&hellip;</td><td>&hellip;</td><td>&hellip;</td><td>&hellip;</td><td>&hellip;</td><td>&hellip;</td><td>&hellip;</td><td>&hellip;</td><td>&hellip;</td><td>&hellip;</td><td>&hellip;</td><td>&hellip;</td><td>&hellip;</td><td>&hellip;</td><td>&hellip;</td><td>&hellip;</td><td>&hellip;</td><td>&hellip;</td><td>&hellip;</td><td>&hellip;</td><td>&hellip;</td><td>&hellip;</td><td>&hellip;</td></tr><tr><td>&quot;3j32&quot;</td><td>null</td><td>2</td><td>6606</td><td>0</td><td>6606</td><td>0</td><td>0</td><td>0</td><td>0</td><td>0</td><td>0</td><td>null</td><td>null</td><td>null</td><td>null</td><td>null</td><td>null</td><td>null</td><td>null</td><td>null</td><td>null</td><td>null</td><td>null</td><td>null</td><td>null</td><td>null</td><td>null</td><td>null</td><td>null</td><td>null</td><td>null</td><td>null</td><td>null</td><td>null</td><td>null</td><td>null</td><td>&hellip;</td><td>null</td><td>null</td><td>null</td><td>null</td><td>null</td><td>null</td><td>null</td><td>null</td><td>null</td><td>null</td><td>null</td><td>[&quot;ASP&quot;, &quot;ASN&quot;, … &quot;ALA&quot;]</td><td>[&quot;ASP&quot;, &quot;ASN&quot;, … &quot;ALA&quot;]</td><td>null</td><td>null</td><td>null</td><td>null</td><td>null</td><td>null</td><td>null</td><td>null</td><td>null</td><td>null</td><td>null</td><td>null</td><td>null</td><td>null</td><td>null</td><td>null</td><td>null</td><td>null</td><td>null</td><td>null</td><td>null</td><td>null</td><td>null</td><td>null</td></tr><tr><td>&quot;4j3l&quot;</td><td>null</td><td>2</td><td>1886</td><td>0</td><td>1076</td><td>487</td><td>308</td><td>0</td><td>13</td><td>1</td><td>0</td><td>null</td><td>null</td><td>null</td><td>null</td><td>null</td><td>null</td><td>null</td><td>null</td><td>null</td><td>null</td><td>null</td><td>null</td><td>null</td><td>null</td><td>null</td><td>null</td><td>null</td><td>null</td><td>null</td><td>null</td><td>null</td><td>null</td><td>null</td><td>null</td><td>null</td><td>&hellip;</td><td>null</td><td>null</td><td>null</td><td>null</td><td>null</td><td>null</td><td>null</td><td>null</td><td>null</td><td>null</td><td>null</td><td>[&quot;ZN&quot;, &quot;SO4&quot;, … &quot;HOH&quot;]</td><td>null</td><td>null</td><td>null</td><td>null</td><td>null</td><td>null</td><td>null</td><td>null</td><td>null</td><td>null</td><td>null</td><td>null</td><td>null</td><td>null</td><td>null</td><td>null</td><td>null</td><td>null</td><td>null</td><td>null</td><td>null</td><td>null</td><td>null</td><td>null</td><td>null</td></tr><tr><td>&quot;4j3g&quot;</td><td>null</td><td>12</td><td>5647</td><td>0</td><td>3206</td><td>1515</td><td>910</td><td>0</td><td>14</td><td>2</td><td>0</td><td>null</td><td>null</td><td>null</td><td>null</td><td>null</td><td>null</td><td>null</td><td>null</td><td>null</td><td>null</td><td>null</td><td>null</td><td>null</td><td>null</td><td>null</td><td>null</td><td>null</td><td>null</td><td>null</td><td>null</td><td>null</td><td>null</td><td>null</td><td>null</td><td>null</td><td>&hellip;</td><td>null</td><td>null</td><td>null</td><td>null</td><td>null</td><td>null</td><td>null</td><td>null</td><td>null</td><td>null</td><td>null</td><td>[&quot;HOH&quot;, &quot;HOH&quot;, … &quot;HOH&quot;]</td><td>[&quot;HOH&quot;, &quot;HOH&quot;, … &quot;HOH&quot;]</td><td>[&quot;HOH&quot;, &quot;HOH&quot;, … &quot;HOH&quot;]</td><td>[&quot;HOH&quot;, &quot;HOH&quot;, … &quot;HOH&quot;]</td><td>null</td><td>null</td><td>null</td><td>null</td><td>null</td><td>null</td><td>null</td><td>null</td><td>null</td><td>null</td><td>null</td><td>null</td><td>null</td><td>null</td><td>null</td><td>null</td><td>null</td><td>null</td><td>null</td><td>null</td><td>null</td><td>null</td></tr><tr><td>&quot;5j3v&quot;</td><td>null</td><td>4</td><td>13357</td><td>0</td><td>8558</td><td>2455</td><td>2242</td><td>0</td><td>102</td><td>0</td><td>0</td><td>null</td><td>null</td><td>null</td><td>null</td><td>null</td><td>null</td><td>null</td><td>null</td><td>null</td><td>null</td><td>null</td><td>null</td><td>null</td><td>null</td><td>null</td><td>null</td><td>null</td><td>null</td><td>null</td><td>null</td><td>null</td><td>null</td><td>null</td><td>null</td><td>null</td><td>&hellip;</td><td>null</td><td>null</td><td>null</td><td>null</td><td>null</td><td>null</td><td>null</td><td>null</td><td>null</td><td>null</td><td>null</td><td>[&quot;ASP&quot;, &quot;GLU&quot;, … &quot;TYR&quot;]</td><td>[&quot;ASP&quot;, &quot;THR&quot;, … &quot;GLY&quot;]</td><td>[&quot;THR&quot;, &quot;GLY&quot;, … &quot;LYS&quot;]</td><td>[&quot;THR&quot;, &quot;GLY&quot;, … &quot;LYS&quot;]</td><td>null</td><td>null</td><td>null</td><td>null</td><td>null</td><td>null</td><td>null</td><td>null</td><td>null</td><td>null</td><td>null</td><td>null</td><td>null</td><td>null</td><td>null</td><td>null</td><td>null</td><td>null</td><td>null</td><td>null</td><td>null</td><td>null</td></tr><tr><td>&quot;2j3n&quot;</td><td>null</td><td>18</td><td>23294</td><td>0</td><td>14677</td><td>4508</td><td>3959</td><td>30</td><td>120</td><td>0</td><td>0</td><td>null</td><td>null</td><td>null</td><td>null</td><td>null</td><td>null</td><td>null</td><td>null</td><td>null</td><td>null</td><td>null</td><td>null</td><td>null</td><td>null</td><td>null</td><td>null</td><td>null</td><td>null</td><td>null</td><td>null</td><td>null</td><td>null</td><td>null</td><td>null</td><td>null</td><td>&hellip;</td><td>null</td><td>null</td><td>null</td><td>null</td><td>null</td><td>null</td><td>null</td><td>null</td><td>null</td><td>null</td><td>null</td><td>[&quot;HOH&quot;, &quot;HOH&quot;, … &quot;HOH&quot;]</td><td>[&quot;HOH&quot;, &quot;HOH&quot;, … &quot;HOH&quot;]</td><td>[&quot;HOH&quot;, &quot;HOH&quot;, … &quot;HOH&quot;]</td><td>[&quot;HOH&quot;, &quot;HOH&quot;, … &quot;HOH&quot;]</td><td>[&quot;HOH&quot;, &quot;HOH&quot;, … &quot;HOH&quot;]</td><td>[&quot;HOH&quot;, &quot;HOH&quot;, … &quot;HOH&quot;]</td><td>null</td><td>null</td><td>null</td><td>null</td><td>null</td><td>null</td><td>null</td><td>null</td><td>null</td><td>null</td><td>null</td><td>null</td><td>null</td><td>null</td><td>null</td><td>null</td><td>null</td><td>null</td><td>null</td><td>null</td></tr></tbody></table></div>"
      ],
      "text/plain": [
       "shape: (215_535, 136)\n",
       "┌──────┬──────┬──────────┬─────────┬───┬─────────────┬─────────────┬─────────────┬─────────────┐\n",
       "│ id   ┆ err  ┆ n_chains ┆ n_atoms ┆ … ┆ chain_W_res ┆ chain_X_res ┆ chain_Y_res ┆ chain_Z_res │\n",
       "│ ---  ┆ ---  ┆ ---      ┆ ---     ┆   ┆ ---         ┆ ---         ┆ ---         ┆ ---         │\n",
       "│ str  ┆ str  ┆ u64      ┆ u64     ┆   ┆ list[str]   ┆ list[str]   ┆ list[str]   ┆ list[str]   │\n",
       "╞══════╪══════╪══════════╪═════════╪═══╪═════════════╪═════════════╪═════════════╪═════════════╡\n",
       "│ 1jo8 ┆ null ┆ 2        ┆ 611     ┆ … ┆ null        ┆ null        ┆ null        ┆ null        │\n",
       "│ 5jo0 ┆ null ┆ 6        ┆ 6995    ┆ … ┆ null        ┆ null        ┆ null        ┆ null        │\n",
       "│ 4jox ┆ null ┆ 2        ┆ 991     ┆ … ┆ null        ┆ null        ┆ null        ┆ null        │\n",
       "│ 7jog ┆ null ┆ 5        ┆ 1309    ┆ … ┆ null        ┆ null        ┆ null        ┆ null        │\n",
       "│ 5jox ┆ null ┆ 6        ┆ 8853    ┆ … ┆ null        ┆ null        ┆ null        ┆ null        │\n",
       "│ …    ┆ …    ┆ …        ┆ …       ┆ … ┆ …           ┆ …           ┆ …           ┆ …           │\n",
       "│ 3j32 ┆ null ┆ 2        ┆ 6606    ┆ … ┆ null        ┆ null        ┆ null        ┆ null        │\n",
       "│ 4j3l ┆ null ┆ 2        ┆ 1886    ┆ … ┆ null        ┆ null        ┆ null        ┆ null        │\n",
       "│ 4j3g ┆ null ┆ 12       ┆ 5647    ┆ … ┆ null        ┆ null        ┆ null        ┆ null        │\n",
       "│ 5j3v ┆ null ┆ 4        ┆ 13357   ┆ … ┆ null        ┆ null        ┆ null        ┆ null        │\n",
       "│ 2j3n ┆ null ┆ 18       ┆ 23294   ┆ … ┆ null        ┆ null        ┆ null        ┆ null        │\n",
       "└──────┴──────┴──────────┴─────────┴───┴─────────────┴─────────────┴─────────────┴─────────────┘"
      ]
     },
     "execution_count": 78,
     "metadata": {},
     "output_type": "execute_result"
    }
   ],
   "source": [
    "df[[s.name for s in df if not (s.null_count() == df.height)]]"
   ]
  },
  {
   "cell_type": "code",
   "execution_count": 87,
   "id": "66ad52ac-e786-48d8-bb72-caa0ed696cd7",
   "metadata": {
    "execution": {
     "iopub.execute_input": "2024-06-14T12:36:36.459890Z",
     "iopub.status.busy": "2024-06-14T12:36:36.459713Z",
     "iopub.status.idle": "2024-06-14T12:36:37.130341Z",
     "shell.execute_reply": "2024-06-14T12:36:37.130032Z",
     "shell.execute_reply.started": "2024-06-14T12:36:36.459878Z"
    }
   },
   "outputs": [
    {
     "name": "stderr",
     "output_type": "stream",
     "text": [
      "/tmp/ipykernel_37019/3072398956.py:1: DeprecationWarning: `is_not` is deprecated. It has been renamed to `not_`.\n",
      "  df.filter(pl.col(\"n_hydrogens\").eq(0).is_not())\n"
     ]
    },
    {
     "data": {
      "text/html": [
       "<div><style>\n",
       ".dataframe > thead > tr,\n",
       ".dataframe > tbody > tr {\n",
       "  text-align: right;\n",
       "  white-space: pre-wrap;\n",
       "}\n",
       "</style>\n",
       "<small>shape: (35_818, 212)</small><table border=\"1\" class=\"dataframe\"><thead><tr><th>id</th><th>err</th><th>n_chains</th><th>n_atoms</th><th>n_hydrogens</th><th>n_carbon</th><th>n_oxygen</th><th>n_nitrogen</th><th>n_phosphorus</th><th>n_sulfur</th><th>n_metals</th><th>n_no_element</th><th>chain_0_seq</th><th>chain_1_seq</th><th>chain_2_seq</th><th>chain_3_seq</th><th>chain_4_seq</th><th>chain_5_seq</th><th>chain_6_seq</th><th>chain_7_seq</th><th>chain_8_seq</th><th>chain_9_seq</th><th>chain_a_seq</th><th>chain_b_seq</th><th>chain_c_seq</th><th>chain_d_seq</th><th>chain_e_seq</th><th>chain_f_seq</th><th>chain_g_seq</th><th>chain_h_seq</th><th>chain_i_seq</th><th>chain_j_seq</th><th>chain_k_seq</th><th>chain_l_seq</th><th>chain_m_seq</th><th>chain_n_seq</th><th>chain_o_seq</th><th>&hellip;</th><th>chain_&quot;_res</th><th>chain_#_res</th><th>chain_$_res</th><th>chain_%_res</th><th>chain_&amp;_res</th><th>chain_&#x27;_res</th><th>chain_(_res</th><th>chain_)_res</th><th>chain_*_res</th><th>chain_+_res</th><th>chain_,_res</th><th>chain_-_res</th><th>chain_._res</th><th>chain_/_res</th><th>chain_:_res</th><th>chain_;_res</th><th>chain_&lt;_res</th><th>chain_=_res</th><th>chain_&gt;_res</th><th>chain_?_res</th><th>chain_@_res</th><th>chain_[_res</th><th>chain_\\_res</th><th>chain_]_res</th><th>chain_^_res</th><th>chain___res</th><th>chain_`_res</th><th>chain_{_res</th><th>chain_|_res</th><th>chain_}_res</th><th>chain_~_res</th><th>chain_ _res</th><th>chain_\t_res</th><th>chain_\n",
       "_res</th><th>chain_\r",
       "_res</th><th>chain_\u000b",
       "_res</th><th>chain_\f",
       "_res</th></tr><tr><td>str</td><td>str</td><td>u64</td><td>u64</td><td>u64</td><td>u64</td><td>u64</td><td>u64</td><td>u64</td><td>u64</td><td>u64</td><td>u64</td><td>list[str]</td><td>list[str]</td><td>list[str]</td><td>list[str]</td><td>list[str]</td><td>list[str]</td><td>list[str]</td><td>list[str]</td><td>list[str]</td><td>list[str]</td><td>list[str]</td><td>list[str]</td><td>list[str]</td><td>list[str]</td><td>list[str]</td><td>list[str]</td><td>list[str]</td><td>list[str]</td><td>list[str]</td><td>list[str]</td><td>list[str]</td><td>list[str]</td><td>list[str]</td><td>list[str]</td><td>list[str]</td><td>&hellip;</td><td>list[str]</td><td>list[str]</td><td>list[str]</td><td>list[str]</td><td>list[str]</td><td>list[str]</td><td>list[str]</td><td>list[str]</td><td>list[str]</td><td>list[str]</td><td>list[str]</td><td>list[str]</td><td>list[str]</td><td>list[str]</td><td>list[str]</td><td>list[str]</td><td>list[str]</td><td>list[str]</td><td>list[str]</td><td>list[str]</td><td>list[str]</td><td>list[str]</td><td>list[str]</td><td>list[str]</td><td>list[str]</td><td>list[str]</td><td>list[str]</td><td>list[str]</td><td>list[str]</td><td>list[str]</td><td>list[str]</td><td>list[str]</td><td>list[str]</td><td>list[str]</td><td>list[str]</td><td>list[str]</td><td>list[str]</td></tr></thead><tbody><tr><td>&quot;7jog&quot;</td><td>null</td><td>5</td><td>1309</td><td>453</td><td>409</td><td>248</td><td>158</td><td>40</td><td>0</td><td>0</td><td>0</td><td>null</td><td>null</td><td>null</td><td>null</td><td>null</td><td>null</td><td>null</td><td>null</td><td>null</td><td>null</td><td>null</td><td>null</td><td>null</td><td>null</td><td>null</td><td>null</td><td>null</td><td>null</td><td>null</td><td>null</td><td>null</td><td>null</td><td>null</td><td>null</td><td>null</td><td>&hellip;</td><td>null</td><td>null</td><td>null</td><td>null</td><td>null</td><td>null</td><td>null</td><td>null</td><td>null</td><td>null</td><td>null</td><td>null</td><td>null</td><td>null</td><td>null</td><td>null</td><td>null</td><td>null</td><td>null</td><td>null</td><td>null</td><td>null</td><td>null</td><td>null</td><td>null</td><td>null</td><td>null</td><td>null</td><td>null</td><td>null</td><td>null</td><td>null</td><td>null</td><td>null</td><td>null</td><td>null</td><td>null</td></tr><tr><td>&quot;7job&quot;</td><td>null</td><td>2</td><td>2280</td><td>6</td><td>1318</td><td>595</td><td>355</td><td>0</td><td>5</td><td>1</td><td>0</td><td>null</td><td>null</td><td>null</td><td>null</td><td>null</td><td>null</td><td>null</td><td>null</td><td>null</td><td>null</td><td>null</td><td>null</td><td>null</td><td>null</td><td>null</td><td>null</td><td>null</td><td>null</td><td>null</td><td>null</td><td>null</td><td>null</td><td>null</td><td>null</td><td>null</td><td>&hellip;</td><td>null</td><td>null</td><td>null</td><td>null</td><td>null</td><td>null</td><td>null</td><td>null</td><td>null</td><td>null</td><td>null</td><td>null</td><td>null</td><td>null</td><td>null</td><td>null</td><td>null</td><td>null</td><td>null</td><td>null</td><td>null</td><td>null</td><td>null</td><td>null</td><td>null</td><td>null</td><td>null</td><td>null</td><td>null</td><td>null</td><td>null</td><td>null</td><td>null</td><td>null</td><td>null</td><td>null</td><td>null</td></tr><tr><td>&quot;4jom&quot;</td><td>null</td><td>2</td><td>14275</td><td>7094</td><td>4545</td><td>1373</td><td>1218</td><td>3</td><td>40</td><td>2</td><td>0</td><td>null</td><td>null</td><td>null</td><td>null</td><td>null</td><td>null</td><td>null</td><td>null</td><td>null</td><td>null</td><td>null</td><td>null</td><td>null</td><td>null</td><td>null</td><td>null</td><td>null</td><td>null</td><td>null</td><td>null</td><td>null</td><td>null</td><td>null</td><td>null</td><td>null</td><td>&hellip;</td><td>null</td><td>null</td><td>null</td><td>null</td><td>null</td><td>null</td><td>null</td><td>null</td><td>null</td><td>null</td><td>null</td><td>null</td><td>null</td><td>null</td><td>null</td><td>null</td><td>null</td><td>null</td><td>null</td><td>null</td><td>null</td><td>null</td><td>null</td><td>null</td><td>null</td><td>null</td><td>null</td><td>null</td><td>null</td><td>null</td><td>null</td><td>null</td><td>null</td><td>null</td><td>null</td><td>null</td><td>null</td></tr><tr><td>&quot;2joz&quot;</td><td>null</td><td>1</td><td>2126</td><td>1043</td><td>672</td><td>218</td><td>187</td><td>0</td><td>6</td><td>0</td><td>0</td><td>null</td><td>null</td><td>null</td><td>null</td><td>null</td><td>null</td><td>null</td><td>null</td><td>null</td><td>null</td><td>null</td><td>null</td><td>null</td><td>null</td><td>null</td><td>null</td><td>null</td><td>null</td><td>null</td><td>null</td><td>null</td><td>null</td><td>null</td><td>null</td><td>null</td><td>&hellip;</td><td>null</td><td>null</td><td>null</td><td>null</td><td>null</td><td>null</td><td>null</td><td>null</td><td>null</td><td>null</td><td>null</td><td>null</td><td>null</td><td>null</td><td>null</td><td>null</td><td>null</td><td>null</td><td>null</td><td>null</td><td>null</td><td>null</td><td>null</td><td>null</td><td>null</td><td>null</td><td>null</td><td>null</td><td>null</td><td>null</td><td>null</td><td>null</td><td>null</td><td>null</td><td>null</td><td>null</td><td>null</td></tr><tr><td>&quot;2jon&quot;</td><td>null</td><td>1</td><td>1414</td><td>673</td><td>458</td><td>148</td><td>128</td><td>0</td><td>7</td><td>0</td><td>0</td><td>null</td><td>null</td><td>null</td><td>null</td><td>null</td><td>null</td><td>null</td><td>null</td><td>null</td><td>null</td><td>null</td><td>null</td><td>null</td><td>null</td><td>null</td><td>null</td><td>null</td><td>null</td><td>null</td><td>null</td><td>null</td><td>null</td><td>null</td><td>null</td><td>null</td><td>&hellip;</td><td>null</td><td>null</td><td>null</td><td>null</td><td>null</td><td>null</td><td>null</td><td>null</td><td>null</td><td>null</td><td>null</td><td>null</td><td>null</td><td>null</td><td>null</td><td>null</td><td>null</td><td>null</td><td>null</td><td>null</td><td>null</td><td>null</td><td>null</td><td>null</td><td>null</td><td>null</td><td>null</td><td>null</td><td>null</td><td>null</td><td>null</td><td>null</td><td>null</td><td>null</td><td>null</td><td>null</td><td>null</td></tr><tr><td>&hellip;</td><td>&hellip;</td><td>&hellip;</td><td>&hellip;</td><td>&hellip;</td><td>&hellip;</td><td>&hellip;</td><td>&hellip;</td><td>&hellip;</td><td>&hellip;</td><td>&hellip;</td><td>&hellip;</td><td>&hellip;</td><td>&hellip;</td><td>&hellip;</td><td>&hellip;</td><td>&hellip;</td><td>&hellip;</td><td>&hellip;</td><td>&hellip;</td><td>&hellip;</td><td>&hellip;</td><td>&hellip;</td><td>&hellip;</td><td>&hellip;</td><td>&hellip;</td><td>&hellip;</td><td>&hellip;</td><td>&hellip;</td><td>&hellip;</td><td>&hellip;</td><td>&hellip;</td><td>&hellip;</td><td>&hellip;</td><td>&hellip;</td><td>&hellip;</td><td>&hellip;</td><td>&hellip;</td><td>&hellip;</td><td>&hellip;</td><td>&hellip;</td><td>&hellip;</td><td>&hellip;</td><td>&hellip;</td><td>&hellip;</td><td>&hellip;</td><td>&hellip;</td><td>&hellip;</td><td>&hellip;</td><td>&hellip;</td><td>&hellip;</td><td>&hellip;</td><td>&hellip;</td><td>&hellip;</td><td>&hellip;</td><td>&hellip;</td><td>&hellip;</td><td>&hellip;</td><td>&hellip;</td><td>&hellip;</td><td>&hellip;</td><td>&hellip;</td><td>&hellip;</td><td>&hellip;</td><td>&hellip;</td><td>&hellip;</td><td>&hellip;</td><td>&hellip;</td><td>&hellip;</td><td>&hellip;</td><td>&hellip;</td><td>&hellip;</td><td>&hellip;</td><td>&hellip;</td><td>&hellip;</td></tr><tr><td>&quot;5j36&quot;</td><td>null</td><td>15</td><td>16883</td><td>8221</td><td>5325</td><td>1857</td><td>1465</td><td>5</td><td>10</td><td>0</td><td>0</td><td>null</td><td>null</td><td>null</td><td>null</td><td>null</td><td>null</td><td>null</td><td>null</td><td>null</td><td>null</td><td>null</td><td>null</td><td>null</td><td>null</td><td>null</td><td>null</td><td>null</td><td>null</td><td>null</td><td>null</td><td>null</td><td>null</td><td>null</td><td>null</td><td>null</td><td>&hellip;</td><td>null</td><td>null</td><td>null</td><td>null</td><td>null</td><td>null</td><td>null</td><td>null</td><td>null</td><td>null</td><td>null</td><td>null</td><td>null</td><td>null</td><td>null</td><td>null</td><td>null</td><td>null</td><td>null</td><td>null</td><td>null</td><td>null</td><td>null</td><td>null</td><td>null</td><td>null</td><td>null</td><td>null</td><td>null</td><td>null</td><td>null</td><td>null</td><td>null</td><td>null</td><td>null</td><td>null</td><td>null</td></tr><tr><td>&quot;6j3x&quot;</td><td>null</td><td>3</td><td>6658</td><td>3043</td><td>2074</td><td>940</td><td>589</td><td>0</td><td>10</td><td>2</td><td>0</td><td>null</td><td>null</td><td>null</td><td>null</td><td>null</td><td>null</td><td>null</td><td>null</td><td>null</td><td>null</td><td>null</td><td>null</td><td>null</td><td>null</td><td>null</td><td>null</td><td>null</td><td>null</td><td>null</td><td>null</td><td>null</td><td>null</td><td>null</td><td>null</td><td>null</td><td>&hellip;</td><td>null</td><td>null</td><td>null</td><td>null</td><td>null</td><td>null</td><td>null</td><td>null</td><td>null</td><td>null</td><td>null</td><td>null</td><td>null</td><td>null</td><td>null</td><td>null</td><td>null</td><td>null</td><td>null</td><td>null</td><td>null</td><td>null</td><td>null</td><td>null</td><td>null</td><td>null</td><td>null</td><td>null</td><td>null</td><td>null</td><td>null</td><td>null</td><td>null</td><td>null</td><td>null</td><td>null</td><td>null</td></tr><tr><td>&quot;8j3v&quot;</td><td>null</td><td>1</td><td>1016</td><td>525</td><td>322</td><td>84</td><td>85</td><td>0</td><td>0</td><td>0</td><td>0</td><td>null</td><td>null</td><td>null</td><td>null</td><td>null</td><td>null</td><td>null</td><td>null</td><td>null</td><td>null</td><td>null</td><td>null</td><td>null</td><td>null</td><td>null</td><td>null</td><td>null</td><td>null</td><td>null</td><td>null</td><td>null</td><td>null</td><td>null</td><td>null</td><td>null</td><td>&hellip;</td><td>null</td><td>null</td><td>null</td><td>null</td><td>null</td><td>null</td><td>null</td><td>null</td><td>null</td><td>null</td><td>null</td><td>null</td><td>null</td><td>null</td><td>null</td><td>null</td><td>null</td><td>null</td><td>null</td><td>null</td><td>null</td><td>null</td><td>null</td><td>null</td><td>null</td><td>null</td><td>null</td><td>null</td><td>null</td><td>null</td><td>null</td><td>null</td><td>null</td><td>null</td><td>null</td><td>null</td><td>null</td></tr><tr><td>&quot;8j3q&quot;</td><td>null</td><td>1</td><td>871</td><td>430</td><td>266</td><td>82</td><td>82</td><td>0</td><td>11</td><td>0</td><td>0</td><td>null</td><td>null</td><td>null</td><td>null</td><td>null</td><td>null</td><td>null</td><td>null</td><td>null</td><td>null</td><td>null</td><td>null</td><td>null</td><td>null</td><td>null</td><td>null</td><td>null</td><td>null</td><td>null</td><td>null</td><td>null</td><td>null</td><td>null</td><td>null</td><td>null</td><td>&hellip;</td><td>null</td><td>null</td><td>null</td><td>null</td><td>null</td><td>null</td><td>null</td><td>null</td><td>null</td><td>null</td><td>null</td><td>null</td><td>null</td><td>null</td><td>null</td><td>null</td><td>null</td><td>null</td><td>null</td><td>null</td><td>null</td><td>null</td><td>null</td><td>null</td><td>null</td><td>null</td><td>null</td><td>null</td><td>null</td><td>null</td><td>null</td><td>null</td><td>null</td><td>null</td><td>null</td><td>null</td><td>null</td></tr><tr><td>&quot;1j3x&quot;</td><td>null</td><td>1</td><td>1256</td><td>624</td><td>390</td><td>120</td><td>116</td><td>0</td><td>6</td><td>0</td><td>0</td><td>null</td><td>null</td><td>null</td><td>null</td><td>null</td><td>null</td><td>null</td><td>null</td><td>null</td><td>null</td><td>null</td><td>null</td><td>null</td><td>null</td><td>null</td><td>null</td><td>null</td><td>null</td><td>null</td><td>null</td><td>null</td><td>null</td><td>null</td><td>null</td><td>null</td><td>&hellip;</td><td>null</td><td>null</td><td>null</td><td>null</td><td>null</td><td>null</td><td>null</td><td>null</td><td>null</td><td>null</td><td>null</td><td>null</td><td>null</td><td>null</td><td>null</td><td>null</td><td>null</td><td>null</td><td>null</td><td>null</td><td>null</td><td>null</td><td>null</td><td>null</td><td>null</td><td>null</td><td>null</td><td>null</td><td>null</td><td>null</td><td>null</td><td>null</td><td>null</td><td>null</td><td>null</td><td>null</td><td>null</td></tr></tbody></table></div>"
      ],
      "text/plain": [
       "shape: (35_818, 212)\n",
       "┌──────┬──────┬──────────┬─────────┬───┬───────────┬────────────┬────────────┬────────────┐\n",
       "│ id   ┆ err  ┆ n_chains ┆ n_atoms ┆ … ┆ chain_    ┆ chain_\n",
       "_res ┆ chain_\n",
       "_res ┆ chain_\n",
       "_res │\n",
       "│ ---  ┆ ---  ┆ ---      ┆ ---     ┆   ┆ _res      ┆ ---        ┆ ---        ┆ ---        │\n",
       "│ str  ┆ str  ┆ u64      ┆ u64     ┆   ┆ ---       ┆ list[str]  ┆ list[str]  ┆ list[str]  │\n",
       "│      ┆      ┆          ┆         ┆   ┆ list[str] ┆            ┆            ┆            │\n",
       "╞══════╪══════╪══════════╪═════════╪═══╪═══════════╪════════════╪════════════╪════════════╡\n",
       "│ 7jog ┆ null ┆ 5        ┆ 1309    ┆ … ┆ null      ┆ null       ┆ null       ┆ null       │\n",
       "│ 7job ┆ null ┆ 2        ┆ 2280    ┆ … ┆ null      ┆ null       ┆ null       ┆ null       │\n",
       "│ 4jom ┆ null ┆ 2        ┆ 14275   ┆ … ┆ null      ┆ null       ┆ null       ┆ null       │\n",
       "│ 2joz ┆ null ┆ 1        ┆ 2126    ┆ … ┆ null      ┆ null       ┆ null       ┆ null       │\n",
       "│ 2jon ┆ null ┆ 1        ┆ 1414    ┆ … ┆ null      ┆ null       ┆ null       ┆ null       │\n",
       "│ …    ┆ …    ┆ …        ┆ …       ┆ … ┆ …         ┆ …          ┆ …          ┆ …          │\n",
       "│ 5j36 ┆ null ┆ 15       ┆ 16883   ┆ … ┆ null      ┆ null       ┆ null       ┆ null       │\n",
       "│ 6j3x ┆ null ┆ 3        ┆ 6658    ┆ … ┆ null      ┆ null       ┆ null       ┆ null       │\n",
       "│ 8j3v ┆ null ┆ 1        ┆ 1016    ┆ … ┆ null      ┆ null       ┆ null       ┆ null       │\n",
       "│ 8j3q ┆ null ┆ 1        ┆ 871     ┆ … ┆ null      ┆ null       ┆ null       ┆ null       │\n",
       "│ 1j3x ┆ null ┆ 1        ┆ 1256    ┆ … ┆ null      ┆ null       ┆ null       ┆ null       │\n",
       "└──────┴──────┴──────────┴─────────┴───┴───────────┴────────────┴────────────┴────────────┘"
      ]
     },
     "execution_count": 87,
     "metadata": {},
     "output_type": "execute_result"
    }
   ],
   "source": [
    "df.filter(pl.col(\"n_hydrogens\").eq(0).is_not())"
   ]
  },
  {
   "cell_type": "code",
   "execution_count": null,
   "id": "426174b5-b5be-43d8-9be1-acad79c22232",
   "metadata": {},
   "outputs": [],
   "source": []
  }
 ],
 "metadata": {
  "kernelspec": {
   "display_name": "Python 3 (ipykernel)",
   "language": "python",
   "name": "python3"
  },
  "language_info": {
   "codemirror_mode": {
    "name": "ipython",
    "version": 3
   },
   "file_extension": ".py",
   "mimetype": "text/x-python",
   "name": "python",
   "nbconvert_exporter": "python",
   "pygments_lexer": "ipython3",
   "version": "3.12.3"
  },
  "widgets": {
   "application/vnd.jupyter.widget-state+json": {
    "state": {},
    "version_major": 2,
    "version_minor": 0
   }
  }
 },
 "nbformat": 4,
 "nbformat_minor": 5
}
