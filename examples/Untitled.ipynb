{
 "cells": [
  {
   "cell_type": "code",
   "execution_count": 2,
   "id": "0046a54d-908c-473f-ae02-4d2d2b707643",
   "metadata": {
    "execution": {
     "iopub.execute_input": "2024-09-10T09:54:43.824145Z",
     "iopub.status.busy": "2024-09-10T09:54:43.823868Z",
     "iopub.status.idle": "2024-09-10T09:54:44.146594Z",
     "shell.execute_reply": "2024-09-10T09:54:44.146207Z",
     "shell.execute_reply.started": "2024-09-10T09:54:43.824134Z"
    }
   },
   "outputs": [
    {
     "ename": "NameError",
     "evalue": "name 'molecule' is not defined",
     "output_type": "error",
     "traceback": [
      "\u001b[0;31m---------------------------------------------------------------------------\u001b[0m",
      "\u001b[0;31mValueError\u001b[0m                                Traceback (most recent call last)",
      "Cell \u001b[0;32mIn[2], line 11\u001b[0m\n\u001b[1;32m     10\u001b[0m \u001b[38;5;28;01mtry\u001b[39;00m:\n\u001b[0;32m---> 11\u001b[0m     \u001b[43mtopology\u001b[49m\u001b[38;5;241;43m.\u001b[39;49m\u001b[43mmolecule\u001b[49m\u001b[43m(\u001b[49m\u001b[43mi\u001b[49m\u001b[43m)\u001b[49m\u001b[38;5;241;43m.\u001b[39;49m\u001b[43massign_partial_charges\u001b[49m\u001b[43m(\u001b[49m\n\u001b[1;32m     12\u001b[0m \u001b[43m        \u001b[49m\u001b[43mpartial_charge_method\u001b[49m\u001b[38;5;241;43m=\u001b[39;49m\u001b[38;5;124;43m\"\u001b[39;49m\u001b[38;5;124;43mam1bcc\u001b[39;49m\u001b[38;5;124;43m\"\u001b[39;49m\n\u001b[1;32m     13\u001b[0m \u001b[43m    \u001b[49m\u001b[43m)\u001b[49m\n\u001b[1;32m     14\u001b[0m \u001b[38;5;28;01mexcept\u001b[39;00m \u001b[38;5;167;01mValueError\u001b[39;00m:\n",
      "File \u001b[0;32m~/Documents/openff/openff-pdbscan/.soap/test/lib/python3.12/site-packages/openff/toolkit/topology/molecule.py:2671\u001b[0m, in \u001b[0;36mFrozenMolecule.assign_partial_charges\u001b[0;34m(self, partial_charge_method, strict_n_conformers, use_conformers, toolkit_registry, normalize_partial_charges)\u001b[0m\n\u001b[1;32m   2666\u001b[0m \u001b[38;5;28;01mif\u001b[39;00m \u001b[38;5;28misinstance\u001b[39m(toolkit_registry, ToolkitRegistry):\n\u001b[1;32m   2667\u001b[0m     \u001b[38;5;66;03m# We may need to try several toolkitwrappers to find one\u001b[39;00m\n\u001b[1;32m   2668\u001b[0m     \u001b[38;5;66;03m# that supports the desired partial charge method, so we\u001b[39;00m\n\u001b[1;32m   2669\u001b[0m     \u001b[38;5;66;03m# tell the ToolkitRegistry to continue trying ToolkitWrappers\u001b[39;00m\n\u001b[1;32m   2670\u001b[0m     \u001b[38;5;66;03m# if one raises an error (raise_exception_types=[])\u001b[39;00m\n\u001b[0;32m-> 2671\u001b[0m     \u001b[43mtoolkit_registry\u001b[49m\u001b[38;5;241;43m.\u001b[39;49m\u001b[43mcall\u001b[49m\u001b[43m(\u001b[49m\n\u001b[1;32m   2672\u001b[0m \u001b[43m        \u001b[49m\u001b[38;5;124;43m\"\u001b[39;49m\u001b[38;5;124;43massign_partial_charges\u001b[39;49m\u001b[38;5;124;43m\"\u001b[39;49m\u001b[43m,\u001b[49m\n\u001b[1;32m   2673\u001b[0m \u001b[43m        \u001b[49m\u001b[43mmolecule\u001b[49m\u001b[38;5;241;43m=\u001b[39;49m\u001b[38;5;28;43mself\u001b[39;49m\u001b[43m,\u001b[49m\n\u001b[1;32m   2674\u001b[0m \u001b[43m        \u001b[49m\u001b[43mpartial_charge_method\u001b[49m\u001b[38;5;241;43m=\u001b[39;49m\u001b[43mpartial_charge_method\u001b[49m\u001b[43m,\u001b[49m\n\u001b[1;32m   2675\u001b[0m \u001b[43m        \u001b[49m\u001b[43muse_conformers\u001b[49m\u001b[38;5;241;43m=\u001b[39;49m\u001b[43muse_conformers\u001b[49m\u001b[43m,\u001b[49m\n\u001b[1;32m   2676\u001b[0m \u001b[43m        \u001b[49m\u001b[43mstrict_n_conformers\u001b[49m\u001b[38;5;241;43m=\u001b[39;49m\u001b[43mstrict_n_conformers\u001b[49m\u001b[43m,\u001b[49m\n\u001b[1;32m   2677\u001b[0m \u001b[43m        \u001b[49m\u001b[43mnormalize_partial_charges\u001b[49m\u001b[38;5;241;43m=\u001b[39;49m\u001b[43mnormalize_partial_charges\u001b[49m\u001b[43m,\u001b[49m\n\u001b[1;32m   2678\u001b[0m \u001b[43m        \u001b[49m\u001b[43mraise_exception_types\u001b[49m\u001b[38;5;241;43m=\u001b[39;49m\u001b[43m[\u001b[49m\u001b[43m]\u001b[49m\u001b[43m,\u001b[49m\n\u001b[1;32m   2679\u001b[0m \u001b[43m        \u001b[49m\u001b[43m_cls\u001b[49m\u001b[38;5;241;43m=\u001b[39;49m\u001b[38;5;28;43mself\u001b[39;49m\u001b[38;5;241;43m.\u001b[39;49m\u001b[38;5;18;43m__class__\u001b[39;49m\u001b[43m,\u001b[49m\n\u001b[1;32m   2680\u001b[0m \u001b[43m    \u001b[49m\u001b[43m)\u001b[49m\n\u001b[1;32m   2681\u001b[0m \u001b[38;5;28;01melif\u001b[39;00m \u001b[38;5;28misinstance\u001b[39m(toolkit_registry, ToolkitWrapper):\n",
      "File \u001b[0;32m~/Documents/openff/openff-pdbscan/.soap/test/lib/python3.12/site-packages/openff/toolkit/utils/toolkit_registry.py:384\u001b[0m, in \u001b[0;36mToolkitRegistry.call\u001b[0;34m(self, method_name, raise_exception_types, *args, **kwargs)\u001b[0m\n\u001b[1;32m    383\u001b[0m     msg \u001b[38;5;241m+\u001b[39m\u001b[38;5;241m=\u001b[39m \u001b[38;5;124mf\u001b[39m\u001b[38;5;124m\"\u001b[39m\u001b[38;5;124m \u001b[39m\u001b[38;5;132;01m{\u001b[39;00mtoolkit\u001b[38;5;132;01m}\u001b[39;00m\u001b[38;5;124m \u001b[39m\u001b[38;5;132;01m{\u001b[39;00m\u001b[38;5;28mtype\u001b[39m(error)\u001b[38;5;132;01m}\u001b[39;00m\u001b[38;5;124m : \u001b[39m\u001b[38;5;132;01m{\u001b[39;00merror\u001b[38;5;132;01m}\u001b[39;00m\u001b[38;5;130;01m\\n\u001b[39;00m\u001b[38;5;124m\"\u001b[39m\n\u001b[0;32m--> 384\u001b[0m \u001b[38;5;28;01mraise\u001b[39;00m \u001b[38;5;167;01mValueError\u001b[39;00m(msg)\n",
      "\u001b[0;31mValueError\u001b[0m: No registered toolkits can provide the capability \"assign_partial_charges\" for args \"()\" and kwargs \"{'molecule': Molecule with name '' and SMILES '[H][C]1=[C]([H])[c]2[c]([c]([H])[c]3[c]([H])[c]([H])[c]([H])[c]([H])[c]3[c]2[H])[N]2[C]1=[C]([H])[C]([H])=[C]2[C]12[C]([H])([H])[C]([H])([C]1([H])[H])[C]2([H])[H]', 'partial_charge_method': 'am1bcc', 'use_conformers': None, 'strict_n_conformers': False, 'normalize_partial_charges': True, '_cls': <class 'openff.toolkit.topology.molecule.Molecule'>}\"\nAvailable toolkits are: [ToolkitWrapper around The RDKit version 2024.03.3, ToolkitWrapper around Built-in Toolkit version None]\n ToolkitWrapper around The RDKit version 2024.03.3 <class 'openff.toolkit.utils.exceptions.ChargeMethodUnavailableError'> : partial_charge_method 'am1bcc' is not available from RDKitToolkitWrapper. Available charge methods are {'mmff94': {}, 'gasteiger': {}}\n ToolkitWrapper around Built-in Toolkit version None <class 'openff.toolkit.utils.exceptions.ChargeMethodUnavailableError'> : Partial charge method \"am1bcc\"\" is not supported by the Built-in toolkit. Available charge methods are {'zeros': {'rec_confs': 0, 'min_confs': 0, 'max_confs': 0}, 'formal_charge': {'rec_confs': 0, 'min_confs': 0, 'max_confs': 0}}\n",
      "\nDuring handling of the above exception, another exception occurred:\n",
      "\u001b[0;31mNameError\u001b[0m                                 Traceback (most recent call last)",
      "Cell \u001b[0;32mIn[2], line 17\u001b[0m\n\u001b[1;32m     11\u001b[0m         topology\u001b[38;5;241m.\u001b[39mmolecule(i)\u001b[38;5;241m.\u001b[39massign_partial_charges(\n\u001b[1;32m     12\u001b[0m             partial_charge_method\u001b[38;5;241m=\u001b[39m\u001b[38;5;124m\"\u001b[39m\u001b[38;5;124mam1bcc\u001b[39m\u001b[38;5;124m\"\u001b[39m\n\u001b[1;32m     13\u001b[0m         )\n\u001b[1;32m     14\u001b[0m     \u001b[38;5;28;01mexcept\u001b[39;00m \u001b[38;5;167;01mValueError\u001b[39;00m:\n\u001b[1;32m     15\u001b[0m         topology\u001b[38;5;241m.\u001b[39mmolecule(i)\u001b[38;5;241m.\u001b[39massign_partial_charges(\n\u001b[1;32m     16\u001b[0m             partial_charge_method\u001b[38;5;241m=\u001b[39m\u001b[38;5;124m\"\u001b[39m\u001b[38;5;124mam1bcc\u001b[39m\u001b[38;5;124m\"\u001b[39m, \n\u001b[0;32m---> 17\u001b[0m             use_conformers\u001b[38;5;241m=\u001b[39m\u001b[43mmolecule\u001b[49m\u001b[38;5;241m.\u001b[39mconformers,\n\u001b[1;32m     18\u001b[0m         )\n\u001b[1;32m     20\u001b[0m interchange \u001b[38;5;241m=\u001b[39m forcefield\u001b[38;5;241m.\u001b[39mcreate_interchange(\n\u001b[1;32m     21\u001b[0m     topology, \n\u001b[1;32m     22\u001b[0m     charge_from_molecules\u001b[38;5;241m=\u001b[39m[\n\u001b[0;32m   (...)\u001b[0m\n\u001b[1;32m     25\u001b[0m     ]\n\u001b[1;32m     26\u001b[0m )\n",
      "\u001b[0;31mNameError\u001b[0m: name 'molecule' is not defined"
     ]
    }
   ],
   "source": [
    "from openff.toolkit import ForceField, Topology, Molecule\n",
    "\n",
    "topology = Topology.from_molecules(\n",
    "    [Molecule.from_smiles(\"n12c(ccc2C34CC(C4)C3)ccc5cc6ccccc6cc51\")]\n",
    ")\n",
    "forcefield  = ForceField(\"openff-2.2.0.offxml\")\n",
    "problematic_molecule_indices = [0]\n",
    "\n",
    "for i in problematic_molecule_indices:\n",
    "    try:\n",
    "        topology.molecule(i).assign_partial_charges(\n",
    "            partial_charge_method=\"am1bcc\"\n",
    "        )\n",
    "    except ValueError:\n",
    "        topology.molecule(i).assign_partial_charges(\n",
    "            partial_charge_method=\"am1bcc\", \n",
    "            use_conformers=molecule.conformers,\n",
    "        )\n",
    "\n",
    "interchange = forcefield.create_interchange(\n",
    "    topology, \n",
    "    charge_from_molecules=[\n",
    "        topology.molecule(i) \n",
    "        for i in problematic_molecule_indices\n",
    "    ]\n",
    ")"
   ]
  },
  {
   "cell_type": "code",
   "execution_count": null,
   "id": "f9dc13d9-ad77-41a4-993a-8c114ebee057",
   "metadata": {},
   "outputs": [],
   "source": []
  }
 ],
 "metadata": {
  "kernelspec": {
   "display_name": "Python 3 (ipykernel)",
   "language": "python",
   "name": "python3"
  },
  "language_info": {
   "codemirror_mode": {
    "name": "ipython",
    "version": 3
   },
   "file_extension": ".py",
   "mimetype": "text/x-python",
   "name": "python",
   "nbconvert_exporter": "python",
   "pygments_lexer": "ipython3",
   "version": "3.12.3"
  },
  "widgets": {
   "application/vnd.jupyter.widget-state+json": {
    "state": {},
    "version_major": 2,
    "version_minor": 0
   }
  }
 },
 "nbformat": 4,
 "nbformat_minor": 5
}
