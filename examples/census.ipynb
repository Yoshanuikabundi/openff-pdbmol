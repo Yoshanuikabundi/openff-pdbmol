{
 "cells": [
  {
   "cell_type": "code",
   "execution_count": 1,
   "id": "cbaf601f-7a8f-4c29-a70f-77ed9190b355",
   "metadata": {
    "execution": {
     "iopub.execute_input": "2024-11-03T01:47:40.795548Z",
     "iopub.status.busy": "2024-11-03T01:47:40.795382Z",
     "iopub.status.idle": "2024-11-03T01:47:42.523769Z",
     "shell.execute_reply": "2024-11-03T01:47:42.523472Z",
     "shell.execute_reply.started": "2024-11-03T01:47:40.795534Z"
    }
   },
   "outputs": [
    {
     "data": {
      "application/vnd.jupyter.widget-view+json": {
       "model_id": "c2fa748d3c5f414aa28ac68c06d5a1b3",
       "version_major": 2,
       "version_minor": 0
      },
      "text/plain": []
     },
     "metadata": {},
     "output_type": "display_data"
    },
    {
     "data": {
      "text/plain": [
       "{'id': String,\n",
       " 'err': String,\n",
       " 'lineNo': Int32,\n",
       " 'serial': Int32,\n",
       " 'name': String,\n",
       " 'altLoc': String,\n",
       " 'resName': String,\n",
       " 'chainID': String,\n",
       " 'resSeq': Int32,\n",
       " 'iCode': String,\n",
       " 'x': Float32,\n",
       " 'y': Float32,\n",
       " 'z': Float32,\n",
       " 'occupancy': Float32,\n",
       " 'tempFactor': Float32,\n",
       " 'element': String,\n",
       " 'charge': String,\n",
       " 'terminated': Boolean,\n",
       " 'modelNo': Int32,\n",
       " 'conects': List(Int32)}"
      ]
     },
     "execution_count": 1,
     "metadata": {},
     "output_type": "execute_result"
    }
   ],
   "source": [
    "from openff.pdbscan.polars import COORD_LINE_SCHEMA as schema\n",
    "\n",
    "schema"
   ]
  },
  {
   "cell_type": "code",
   "execution_count": 3,
   "id": "3852ef5e-a315-46b1-a8c6-d5bfc71d4493",
   "metadata": {
    "execution": {
     "iopub.execute_input": "2024-11-03T01:47:58.008180Z",
     "iopub.status.busy": "2024-11-03T01:47:58.008003Z",
     "iopub.status.idle": "2024-11-03T01:48:22.237772Z",
     "shell.execute_reply": "2024-11-03T01:48:22.237438Z",
     "shell.execute_reply.started": "2024-11-03T01:47:58.008167Z"
    }
   },
   "outputs": [],
   "source": [
    "import polars as pl\n",
    "\n",
    "all_ids = (\n",
    "    pl.scan_parquet(\"/home/joshmitchell/Downloads/pdb/coords_parquet/coords_*.parquet\")\n",
    "    .select(pl.col(\"id\"))\n",
    "    .unique()\n",
    "    .collect(streaming=True)\n",
    ")"
   ]
  },
  {
   "cell_type": "code",
   "execution_count": 17,
   "id": "60d525f0-ae20-4132-8839-e73d6e095e89",
   "metadata": {
    "execution": {
     "iopub.execute_input": "2024-11-03T01:53:38.588843Z",
     "iopub.status.busy": "2024-11-03T01:53:38.588691Z",
     "iopub.status.idle": "2024-11-03T01:53:38.614403Z",
     "shell.execute_reply": "2024-11-03T01:53:38.614136Z",
     "shell.execute_reply.started": "2024-11-03T01:53:38.588832Z"
    }
   },
   "outputs": [],
   "source": [
    "import numpy as np\n",
    "\n",
    "all_ids_shuffled = np.array(all_ids['id'])\n",
    "np.random.shuffle(all_ids_shuffled)"
   ]
  },
  {
   "cell_type": "code",
   "execution_count": 19,
   "id": "31145bad-8a64-4504-acbc-a68a45a8d172",
   "metadata": {
    "execution": {
     "iopub.execute_input": "2024-11-03T01:53:59.019371Z",
     "iopub.status.busy": "2024-11-03T01:53:59.019191Z",
     "iopub.status.idle": "2024-11-03T01:53:59.096035Z",
     "shell.execute_reply": "2024-11-03T01:53:59.095724Z",
     "shell.execute_reply.started": "2024-11-03T01:53:59.019357Z"
    }
   },
   "outputs": [],
   "source": [
    "with open(\"../../pdb-census/pdbfix/all_pdb_ids_shuffled.txt\", 'w') as f:\n",
    "    for pdbid in all_ids_shuffled:\n",
    "        print(pdbid, file=f)"
   ]
  },
  {
   "cell_type": "code",
   "execution_count": 2,
   "id": "614b8672-37fb-46c0-80c8-622eea55e5f3",
   "metadata": {
    "execution": {
     "iopub.execute_input": "2024-09-05T07:09:31.669282Z",
     "iopub.status.busy": "2024-09-05T07:09:31.669136Z",
     "iopub.status.idle": "2024-09-05T07:09:40.780759Z",
     "shell.execute_reply": "2024-09-05T07:09:40.780401Z",
     "shell.execute_reply.started": "2024-09-05T07:09:31.669271Z"
    }
   },
   "outputs": [],
   "source": [
    "import polars as pl\n",
    "\n",
    "protein_residues = [\n",
    "    \"ALA\",\n",
    "    \"ARG\",\n",
    "    \"ASN\",\n",
    "    \"ASP\",\n",
    "    \"CYS\",\n",
    "    \"GLU\",\n",
    "    \"GLN\",\n",
    "    \"GLY\",\n",
    "    \"HIS\",\n",
    "    \"ILE\",\n",
    "    \"LEU\",\n",
    "    \"LYS\",\n",
    "    \"MET\",\n",
    "    \"PHE\",\n",
    "    \"PRO\",\n",
    "    \"SER\",\n",
    "    \"THR\",\n",
    "    \"TRP\",\n",
    "    \"TYR\",\n",
    "    \"VAL\",\n",
    "]\n",
    "ids_with_hets = (\n",
    "    pl.scan_parquet(\"/home/joshmitchell/Downloads/pdb/coords_parquet/coords_*.parquet\")\n",
    "    .filter(pl.col(\"resName\").is_in(protein_residues).not_())\n",
    "    .select(pl.col(\"id\"))\n",
    "    .unique()\n",
    "    .collect(streaming=True)\n",
    ")"
   ]
  },
  {
   "cell_type": "code",
   "execution_count": 3,
   "id": "7bbb97f3-2eaa-41a3-b82f-ec8cd0137f9c",
   "metadata": {
    "execution": {
     "iopub.execute_input": "2024-09-05T07:09:40.782591Z",
     "iopub.status.busy": "2024-09-05T07:09:40.782493Z",
     "iopub.status.idle": "2024-09-05T07:09:40.785636Z",
     "shell.execute_reply": "2024-09-05T07:09:40.785384Z",
     "shell.execute_reply.started": "2024-09-05T07:09:40.782581Z"
    }
   },
   "outputs": [
    {
     "data": {
      "text/plain": [
       "197263"
      ]
     },
     "execution_count": 3,
     "metadata": {},
     "output_type": "execute_result"
    }
   ],
   "source": [
    "len(ids_with_hets)"
   ]
  },
  {
   "cell_type": "code",
   "execution_count": 4,
   "id": "e247bbca-ce83-49bb-8e85-3a9002237111",
   "metadata": {
    "execution": {
     "iopub.execute_input": "2024-09-05T07:09:40.786084Z",
     "iopub.status.busy": "2024-09-05T07:09:40.785989Z",
     "iopub.status.idle": "2024-09-05T07:10:04.602344Z",
     "shell.execute_reply": "2024-09-05T07:10:04.602048Z",
     "shell.execute_reply.started": "2024-09-05T07:09:40.786075Z"
    }
   },
   "outputs": [
    {
     "data": {
      "text/plain": [
       "18272"
      ]
     },
     "execution_count": 4,
     "metadata": {},
     "output_type": "execute_result"
    }
   ],
   "source": [
    "ids_without_hets = (\n",
    "    pl.scan_parquet(\"/home/joshmitchell/Downloads/pdb/coords_parquet/coords_*.parquet\")\n",
    "    .select(pl.col(\"id\"))\n",
    "    .unique()\n",
    "    .filter(pl.col(\"id\").is_in(ids_with_hets).not_())\n",
    "    .collect(streaming=True)\n",
    ")\n",
    "ids_without_hets = set(tup[0] for tup in ids_without_hets.iter_rows())\n",
    "len(ids_without_hets)"
   ]
  },
  {
   "cell_type": "code",
   "execution_count": 5,
   "id": "a734aefe-fd64-4021-a14d-f19fc87a109c",
   "metadata": {
    "execution": {
     "iopub.execute_input": "2024-09-05T07:10:04.602875Z",
     "iopub.status.busy": "2024-09-05T07:10:04.602771Z",
     "iopub.status.idle": "2024-09-05T07:10:05.507118Z",
     "shell.execute_reply": "2024-09-05T07:10:05.506756Z",
     "shell.execute_reply.started": "2024-09-05T07:10:04.602864Z"
    }
   },
   "outputs": [],
   "source": [
    "from pathlib import Path\n",
    "\n",
    "protein_only_pdbs = {\n",
    "    path\n",
    "    for path in Path(\"/home/joshmitchell/Downloads/pdb\").glob(\"*/*.ent.gz\")\n",
    "    if path.stem[3:7] in ids_without_hets\n",
    "}\n",
    "assert len(protein_only_pdbs) == len(ids_without_hets)"
   ]
  },
  {
   "cell_type": "code",
   "execution_count": 6,
   "id": "3cd7fa23-ce99-44d8-8554-612d54e72712",
   "metadata": {
    "execution": {
     "iopub.execute_input": "2024-09-05T07:10:05.507947Z",
     "iopub.status.busy": "2024-09-05T07:10:05.507844Z",
     "iopub.status.idle": "2024-09-05T07:10:05.511293Z",
     "shell.execute_reply": "2024-09-05T07:10:05.511000Z",
     "shell.execute_reply.started": "2024-09-05T07:10:05.507938Z"
    }
   },
   "outputs": [
    {
     "data": {
      "text/html": [
       "6.344444444444444 hour"
      ],
      "text/latex": [
       "$6.344444444444444\\ \\mathrm{hour}$"
      ],
      "text/plain": [
       "6.344444444444444 <Unit('hour')>"
      ]
     },
     "execution_count": 6,
     "metadata": {},
     "output_type": "execute_result"
    }
   ],
   "source": [
    "from openff.units import unit\n",
    "\n",
    "time_per_pdb = 30 * unit.second\n",
    "pdbs_at_a_time = 24\n",
    "(len(ids_without_hets) * time_per_pdb / pdbs_at_a_time).to(unit.hour)"
   ]
  },
  {
   "cell_type": "code",
   "execution_count": 7,
   "id": "f6fb5bf2-c82e-499d-9cc4-7b156d3b81c2",
   "metadata": {
    "execution": {
     "iopub.execute_input": "2024-09-05T07:10:05.511710Z",
     "iopub.status.busy": "2024-09-05T07:10:05.511619Z",
     "iopub.status.idle": "2024-09-05T07:10:05.942546Z",
     "shell.execute_reply": "2024-09-05T07:10:05.942110Z",
     "shell.execute_reply.started": "2024-09-05T07:10:05.511702Z"
    }
   },
   "outputs": [],
   "source": [
    "import gzip\n",
    "from itertools import batched\n",
    "from multiprocessing import Pool\n",
    "from typing import Any, Callable, Iterable, TextIO\n",
    "\n",
    "from openff.toolkit import Topology\n",
    "\n",
    "TEST_PDB_LOADER_SCHEMA = {\n",
    "    \"id\": pl.datatypes.String,\n",
    "    \"err\": pl.datatypes.String,\n",
    "    \"n_molecules\": pl.datatypes.UInt64,\n",
    "    \"n_atoms\": pl.datatypes.UInt64,\n",
    "    \"n_hydrogens\": pl.datatypes.UInt64,\n",
    "}\n",
    "\n",
    "\n",
    "def proc_batch(batch, schema, pdb_loader):\n",
    "    data = {k: [] for k in schema}\n",
    "    for path in batch:\n",
    "        for column in data.values():\n",
    "            column.append(None)\n",
    "        data[\"id\"][-1] = path.stem[3:-4]\n",
    "        try:\n",
    "            with gzip.open(path, \"rt\") as f:\n",
    "                topology = pdb_loader(f)\n",
    "        except Exception as e:\n",
    "            data[\"err\"][-1] = repr(e)\n",
    "            continue\n",
    "        data[\"n_molecules\"][-1] = topology.n_molecules\n",
    "        data[\"n_atoms\"][-1] = topology.n_atoms\n",
    "        data[\"n_hydrogens\"][-1] = sum(\n",
    "            1 for atom in topology.atoms if atom.atomic_number == 1\n",
    "        )\n",
    "\n",
    "    return data\n",
    "\n",
    "\n",
    "def test_pdb_loader(\n",
    "    *,\n",
    "    pdb_loader: Callable[[TextIO], Topology],\n",
    "    chunk_size: int,\n",
    "    threads: int,\n",
    "    paths: Iterable[Path],\n",
    ") -> pl.DataFrame:\n",
    "    df = pl.DataFrame(schema=TEST_PDB_LOADER_SCHEMA)\n",
    "    try:\n",
    "        for i, batch in enumerate(batched(paths, n=chunk_size * threads)):\n",
    "            print(\"batch\", i)\n",
    "            with Pool(threads) as pool:\n",
    "                batch_results = list(\n",
    "                    pool.imap_unordered(\n",
    "                        partial(\n",
    "                            proc_batch, schema=TEST_PDB_LOADER_SCHEMA, pdb_loader=pdb_loader\n",
    "                        ),\n",
    "                        batched(batch, chunk_size),\n",
    "                    )\n",
    "                )\n",
    "    \n",
    "            print(\"concatenating\")\n",
    "            df = pl.concat(\n",
    "                [df, *(pl.DataFrame(d, schema=TEST_PDB_LOADER_SCHEMA) for d in batch_results)]\n",
    "            )\n",
    "            print(\"rechunking\")\n",
    "            df.rechunk()\n",
    "    except KeyboardInterrupt:\n",
    "        print(\"exiting early\")\n",
    "        return df\n",
    "\n",
    "    return df"
   ]
  },
  {
   "cell_type": "code",
   "execution_count": 30,
   "id": "ba690500-816c-420a-babc-32945e156173",
   "metadata": {
    "execution": {
     "iopub.execute_input": "2024-09-03T08:54:10.221104Z",
     "iopub.status.busy": "2024-09-03T08:54:10.220895Z",
     "iopub.status.idle": "2024-09-03T13:37:36.324260Z",
     "shell.execute_reply": "2024-09-03T13:37:36.323784Z",
     "shell.execute_reply.started": "2024-09-03T08:54:10.221088Z"
    }
   },
   "outputs": [
    {
     "name": "stdout",
     "output_type": "stream",
     "text": [
      "batch 0\n",
      "concatenating\n",
      "rechunking\n",
      "batch 1\n",
      "concatenating\n",
      "rechunking\n",
      "batch 2\n",
      "concatenating\n",
      "rechunking\n",
      "batch 3\n",
      "concatenating\n",
      "rechunking\n",
      "batch 4\n",
      "concatenating\n",
      "rechunking\n",
      "batch 5\n",
      "concatenating\n",
      "rechunking\n",
      "batch 6\n",
      "concatenating\n",
      "rechunking\n",
      "batch 7\n",
      "concatenating\n",
      "rechunking\n"
     ]
    }
   ],
   "source": [
    "from functools import partial\n",
    "\n",
    "from openff.pdbscan.pdb import topology_from_pdb\n",
    "\n",
    "custom_pdb_loader_df = test_pdb_loader(\n",
    "    pdb_loader=partial(topology_from_pdb, replace_missing_atoms=True),\n",
    "    chunk_size=100,\n",
    "    threads=24,\n",
    "    paths=list(protein_only_pdbs),\n",
    ")"
   ]
  },
  {
   "cell_type": "code",
   "execution_count": 31,
   "id": "da6901b6-2165-478c-8837-1cb7febba65d",
   "metadata": {
    "execution": {
     "iopub.execute_input": "2024-09-03T14:10:01.267547Z",
     "iopub.status.busy": "2024-09-03T14:10:01.267338Z",
     "iopub.status.idle": "2024-09-03T14:10:01.272129Z",
     "shell.execute_reply": "2024-09-03T14:10:01.271838Z",
     "shell.execute_reply.started": "2024-09-03T14:10:01.267529Z"
    }
   },
   "outputs": [
    {
     "data": {
      "text/html": [
       "<div><style>\n",
       ".dataframe > thead > tr,\n",
       ".dataframe > tbody > tr {\n",
       "  text-align: right;\n",
       "  white-space: pre-wrap;\n",
       "}\n",
       "</style>\n",
       "<small>shape: (18_272, 5)</small><table border=\"1\" class=\"dataframe\"><thead><tr><th>id</th><th>err</th><th>n_molecules</th><th>n_atoms</th><th>n_hydrogens</th></tr><tr><td>str</td><td>str</td><td>u64</td><td>u64</td><td>u64</td></tr></thead><tbody><tr><td>&quot;7saz&quot;</td><td>null</td><td>13</td><td>11348</td><td>5627</td></tr><tr><td>&quot;3mv2&quot;</td><td>null</td><td>11</td><td>28254</td><td>13973</td></tr><tr><td>&quot;2lyc&quot;</td><td>&quot;NoMatchingResidueDefinitionErr…</td><td>null</td><td>null</td><td>null</td></tr><tr><td>&quot;5hm1&quot;</td><td>null</td><td>11</td><td>6045</td><td>2947</td></tr><tr><td>&quot;6bzk&quot;</td><td>&quot;NoMatchingResidueDefinitionErr…</td><td>null</td><td>null</td><td>null</td></tr><tr><td>&hellip;</td><td>&hellip;</td><td>&hellip;</td><td>&hellip;</td><td>&hellip;</td></tr><tr><td>&quot;7v1m&quot;</td><td>null</td><td>15</td><td>16214</td><td>8019</td></tr><tr><td>&quot;2dj0&quot;</td><td>&quot;NoMatchingResidueDefinitionErr…</td><td>null</td><td>null</td><td>null</td></tr><tr><td>&quot;2irt&quot;</td><td>null</td><td>3</td><td>4481</td><td>2186</td></tr><tr><td>&quot;2lca&quot;</td><td>&quot;NoMatchingResidueDefinitionErr…</td><td>null</td><td>null</td><td>null</td></tr><tr><td>&quot;7nrn&quot;</td><td>null</td><td>39</td><td>24417</td><td>11918</td></tr></tbody></table></div>"
      ],
      "text/plain": [
       "shape: (18_272, 5)\n",
       "┌──────┬─────────────────────────────────┬─────────────┬─────────┬─────────────┐\n",
       "│ id   ┆ err                             ┆ n_molecules ┆ n_atoms ┆ n_hydrogens │\n",
       "│ ---  ┆ ---                             ┆ ---         ┆ ---     ┆ ---         │\n",
       "│ str  ┆ str                             ┆ u64         ┆ u64     ┆ u64         │\n",
       "╞══════╪═════════════════════════════════╪═════════════╪═════════╪═════════════╡\n",
       "│ 7saz ┆ null                            ┆ 13          ┆ 11348   ┆ 5627        │\n",
       "│ 3mv2 ┆ null                            ┆ 11          ┆ 28254   ┆ 13973       │\n",
       "│ 2lyc ┆ NoMatchingResidueDefinitionErr… ┆ null        ┆ null    ┆ null        │\n",
       "│ 5hm1 ┆ null                            ┆ 11          ┆ 6045    ┆ 2947        │\n",
       "│ 6bzk ┆ NoMatchingResidueDefinitionErr… ┆ null        ┆ null    ┆ null        │\n",
       "│ …    ┆ …                               ┆ …           ┆ …       ┆ …           │\n",
       "│ 7v1m ┆ null                            ┆ 15          ┆ 16214   ┆ 8019        │\n",
       "│ 2dj0 ┆ NoMatchingResidueDefinitionErr… ┆ null        ┆ null    ┆ null        │\n",
       "│ 2irt ┆ null                            ┆ 3           ┆ 4481    ┆ 2186        │\n",
       "│ 2lca ┆ NoMatchingResidueDefinitionErr… ┆ null        ┆ null    ┆ null        │\n",
       "│ 7nrn ┆ null                            ┆ 39          ┆ 24417   ┆ 11918       │\n",
       "└──────┴─────────────────────────────────┴─────────────┴─────────┴─────────────┘"
      ]
     },
     "execution_count": 31,
     "metadata": {},
     "output_type": "execute_result"
    }
   ],
   "source": [
    "custom_pdb_loader_df"
   ]
  },
  {
   "cell_type": "code",
   "execution_count": 32,
   "id": "88bba2e3-662d-44c0-84a6-5fa80b2938ac",
   "metadata": {
    "execution": {
     "iopub.execute_input": "2024-09-03T14:11:30.569992Z",
     "iopub.status.busy": "2024-09-03T14:11:30.569827Z",
     "iopub.status.idle": "2024-09-03T14:11:30.580257Z",
     "shell.execute_reply": "2024-09-03T14:11:30.579966Z",
     "shell.execute_reply.started": "2024-09-03T14:11:30.569980Z"
    }
   },
   "outputs": [],
   "source": [
    "custom_pdb_loader_df.write_parquet(\"peptideonly_custom_pdb_loader_df.parquet\")"
   ]
  },
  {
   "cell_type": "code",
   "execution_count": 42,
   "id": "3f428e45-d155-4909-814c-84aa10398ce5",
   "metadata": {
    "execution": {
     "iopub.execute_input": "2024-09-03T14:16:31.497579Z",
     "iopub.status.busy": "2024-09-03T14:16:31.497114Z",
     "iopub.status.idle": "2024-09-03T14:16:31.502778Z",
     "shell.execute_reply": "2024-09-03T14:16:31.502467Z",
     "shell.execute_reply.started": "2024-09-03T14:16:31.497565Z"
    }
   },
   "outputs": [
    {
     "data": {
      "text/html": [
       "<div><style>\n",
       ".dataframe > thead > tr,\n",
       ".dataframe > tbody > tr {\n",
       "  text-align: right;\n",
       "  white-space: pre-wrap;\n",
       "}\n",
       "</style>\n",
       "<small>shape: (7_949, 2)</small><table border=\"1\" class=\"dataframe\"><thead><tr><th>id</th><th>err</th></tr><tr><td>str</td><td>str</td></tr></thead><tbody><tr><td>&quot;2lyc&quot;</td><td>&quot;NoMatchingResidueDefinitionErr…</td></tr><tr><td>&quot;6bzk&quot;</td><td>&quot;NoMatchingResidueDefinitionErr…</td></tr><tr><td>&quot;2jqz&quot;</td><td>&quot;NoMatchingResidueDefinitionErr…</td></tr><tr><td>&quot;2m86&quot;</td><td>&quot;NoMatchingResidueDefinitionErr…</td></tr><tr><td>&quot;2lnb&quot;</td><td>&quot;NoMatchingResidueDefinitionErr…</td></tr><tr><td>&hellip;</td><td>&hellip;</td></tr><tr><td>&quot;7r9e&quot;</td><td>&quot;NoMatchingResidueDefinitionErr…</td></tr><tr><td>&quot;2k9z&quot;</td><td>&quot;NoMatchingResidueDefinitionErr…</td></tr><tr><td>&quot;1n02&quot;</td><td>&quot;NoMatchingResidueDefinitionErr…</td></tr><tr><td>&quot;2dj0&quot;</td><td>&quot;NoMatchingResidueDefinitionErr…</td></tr><tr><td>&quot;2lca&quot;</td><td>&quot;NoMatchingResidueDefinitionErr…</td></tr></tbody></table></div>"
      ],
      "text/plain": [
       "shape: (7_949, 2)\n",
       "┌──────┬─────────────────────────────────┐\n",
       "│ id   ┆ err                             │\n",
       "│ ---  ┆ ---                             │\n",
       "│ str  ┆ str                             │\n",
       "╞══════╪═════════════════════════════════╡\n",
       "│ 2lyc ┆ NoMatchingResidueDefinitionErr… │\n",
       "│ 6bzk ┆ NoMatchingResidueDefinitionErr… │\n",
       "│ 2jqz ┆ NoMatchingResidueDefinitionErr… │\n",
       "│ 2m86 ┆ NoMatchingResidueDefinitionErr… │\n",
       "│ 2lnb ┆ NoMatchingResidueDefinitionErr… │\n",
       "│ …    ┆ …                               │\n",
       "│ 7r9e ┆ NoMatchingResidueDefinitionErr… │\n",
       "│ 2k9z ┆ NoMatchingResidueDefinitionErr… │\n",
       "│ 1n02 ┆ NoMatchingResidueDefinitionErr… │\n",
       "│ 2dj0 ┆ NoMatchingResidueDefinitionErr… │\n",
       "│ 2lca ┆ NoMatchingResidueDefinitionErr… │\n",
       "└──────┴─────────────────────────────────┘"
      ]
     },
     "execution_count": 42,
     "metadata": {},
     "output_type": "execute_result"
    }
   ],
   "source": [
    "errors = custom_pdb_loader_df.filter(pl.col(\"err\").is_not_null()).select([\"id\", \"err\"])\n",
    "errors"
   ]
  },
  {
   "cell_type": "code",
   "execution_count": 43,
   "id": "387fd840-c458-4a88-9440-6802d311a377",
   "metadata": {
    "execution": {
     "iopub.execute_input": "2024-09-03T14:16:32.623526Z",
     "iopub.status.busy": "2024-09-03T14:16:32.623347Z",
     "iopub.status.idle": "2024-09-03T14:16:32.626518Z",
     "shell.execute_reply": "2024-09-03T14:16:32.626215Z",
     "shell.execute_reply.started": "2024-09-03T14:16:32.623514Z"
    }
   },
   "outputs": [
    {
     "data": {
      "text/plain": [
       "('2lyc',\n",
       " 'NoMatchingResidueDefinitionError(\"No residue definitions covered all atoms in MET#1:A\\\\nThe following definitions were considered:\\\\n    0: [(\\'H1\\', 8)] were not among HG3 (or its synonym 2HG), HG2 (or its synonym 1HG), H2 (or its synonym HN2), CA, HB2 (or its synonym 1HB), HA, HE2 (or its synonym 2HE), H, C, SD, OXT, HXT, O, CE, HE3 (or its synonym 3HE), CG, HE1 (or its synonym 1HE), CB, N, HB3 (or its synonym 2HB)\")')"
      ]
     },
     "execution_count": 43,
     "metadata": {},
     "output_type": "execute_result"
    }
   ],
   "source": [
    "errors[0, 0], errors[0, 1]"
   ]
  },
  {
   "cell_type": "code",
   "execution_count": 48,
   "id": "46c5ba42-6921-4438-bf71-93ed32c1ec6b",
   "metadata": {
    "execution": {
     "iopub.execute_input": "2024-09-03T14:25:03.472657Z",
     "iopub.status.busy": "2024-09-03T14:25:03.472446Z",
     "iopub.status.idle": "2024-09-03T14:25:04.516615Z",
     "shell.execute_reply": "2024-09-03T14:25:04.516132Z",
     "shell.execute_reply.started": "2024-09-03T14:25:03.472641Z"
    }
   },
   "outputs": [
    {
     "name": "stderr",
     "output_type": "stream",
     "text": [
      "/home/joshmitchell/Documents/openff/openff-pdbscan/.soap/test/lib/python3.12/site-packages/openff/toolkit/topology/topology.py:1785: SyntaxWarning: invalid escape sequence '\\['\n",
      "  smi = re.sub(\"\\[[A-Za-z]{1,2}\\]\", \"[*]\", smi)\n",
      "/home/joshmitchell/Documents/openff/openff-pdbscan/.soap/test/lib/python3.12/site-packages/openff/toolkit/utils/rdkit_wrapper.py:1670: SyntaxWarning: invalid escape sequence '\\*'\n",
      "  \"\"\"\n"
     ]
    },
    {
     "ename": "UnassignedChemistryInPDBError",
     "evalue": "Some bonds or atoms in the input could not be identified.\n\nHint: The following residues were assigned names that do not match the residue name in the input, or could not be assigned residue names at all. This may indicate that atoms are missing from the input or some other error. The OpenFF Toolkit requires all atoms, including hydrogens, to be explicit in the input to avoid ambiguities in protonation state or bond order:\n    Input residue A:MET#0001 contains atoms matching substructures {'No match', 'PEPTIDE_BOND'}\n    Input residue A:SER#0130 contains atoms matching substructures {'PEPTIDE_BOND', 'No match'}\n\nError: The following 23 atoms exist in the input but could not be assigned chemical information from the substructure library:\n    Atom     0 (N) in residue A:MET#0001\n    Atom     1 (CA) in residue A:MET#0001\n    Atom     4 (CB) in residue A:MET#0001\n    Atom     5 (CG) in residue A:MET#0001\n    Atom     6 (SD) in residue A:MET#0001\n    Atom     7 (CE) in residue A:MET#0001\n    Atom     8 (H) in residue A:MET#0001\n    Atom     9 (HA) in residue A:MET#0001\n    Atom    10 (HB2) in residue A:MET#0001\n    Atom    11 (HB3) in residue A:MET#0001\n    Atom    12 (HG2) in residue A:MET#0001\n    Atom    13 (HG3) in residue A:MET#0001\n    Atom    14 (HE1) in residue A:MET#0001\n    Atom    15 (HE2) in residue A:MET#0001\n    Atom    16 (HE3) in residue A:MET#0001\n    Atom  2213 (C) in residue A:SER#0130\n    Atom  2214 (O) in residue A:SER#0130\n    Atom  2215 (CB) in residue A:SER#0130\n    Atom  2216 (OG) in residue A:SER#0130\n    Atom  2218 (HA) in residue A:SER#0130\n    Atom  2219 (HB2) in residue A:SER#0130\n    Atom  2220 (HB3) in residue A:SER#0130\n    Atom  2221 (HG) in residue A:SER#0130\n",
     "output_type": "error",
     "traceback": [
      "\u001b[0;31m---------------------------------------------------------------------------\u001b[0m",
      "\u001b[0;31mUnassignedChemistryInPDBError\u001b[0m             Traceback (most recent call last)",
      "Cell \u001b[0;32mIn[48], line 3\u001b[0m\n\u001b[1;32m      1\u001b[0m \u001b[38;5;28;01mfrom\u001b[39;00m \u001b[38;5;21;01mopenff\u001b[39;00m\u001b[38;5;21;01m.\u001b[39;00m\u001b[38;5;21;01mtoolkit\u001b[39;00m \u001b[38;5;28;01mimport\u001b[39;00m Topology\n\u001b[0;32m----> 3\u001b[0m pdb_2lyc \u001b[38;5;241m=\u001b[39m \u001b[43mTopology\u001b[49m\u001b[38;5;241;43m.\u001b[39;49m\u001b[43mfrom_pdb\u001b[49m\u001b[43m(\u001b[49m\u001b[38;5;124;43m\"\u001b[39;49m\u001b[38;5;124;43m/home/joshmitchell/Downloads/2lyc.pdb\u001b[39;49m\u001b[38;5;124;43m\"\u001b[39;49m\u001b[43m)\u001b[49m\n",
      "File \u001b[0;32m~/Documents/openff/openff-pdbscan/.soap/test/lib/python3.12/site-packages/openff/utilities/utilities.py:80\u001b[0m, in \u001b[0;36mrequires_package.<locals>.inner_decorator.<locals>.wrapper\u001b[0;34m(*args, **kwargs)\u001b[0m\n\u001b[1;32m     77\u001b[0m \u001b[38;5;28;01mexcept\u001b[39;00m \u001b[38;5;167;01mException\u001b[39;00m \u001b[38;5;28;01mas\u001b[39;00m e:\n\u001b[1;32m     78\u001b[0m     \u001b[38;5;28;01mraise\u001b[39;00m e\n\u001b[0;32m---> 80\u001b[0m \u001b[38;5;28;01mreturn\u001b[39;00m \u001b[43mfunction\u001b[49m\u001b[43m(\u001b[49m\u001b[38;5;241;43m*\u001b[39;49m\u001b[43margs\u001b[49m\u001b[43m,\u001b[49m\u001b[43m \u001b[49m\u001b[38;5;241;43m*\u001b[39;49m\u001b[38;5;241;43m*\u001b[39;49m\u001b[43mkwargs\u001b[49m\u001b[43m)\u001b[49m\n",
      "File \u001b[0;32m~/Documents/openff/openff-pdbscan/.soap/test/lib/python3.12/site-packages/openff/toolkit/topology/topology.py:1797\u001b[0m, in \u001b[0;36mTopology.from_pdb\u001b[0;34m(cls, file_path, unique_molecules, toolkit_registry, _custom_substructures, _additional_substructures)\u001b[0m\n\u001b[1;32m   1791\u001b[0m substructure_dictionary[\u001b[38;5;124m\"\u001b[39m\u001b[38;5;124mADDITIONAL_SUBSTRUCTURE_OVERLAP\u001b[39m\u001b[38;5;124m\"\u001b[39m] \u001b[38;5;241m=\u001b[39m {}\n\u001b[1;32m   1793\u001b[0m coords_angstrom \u001b[38;5;241m=\u001b[39m np\u001b[38;5;241m.\u001b[39marray(\n\u001b[1;32m   1794\u001b[0m     [[\u001b[38;5;241m*\u001b[39mvec3\u001b[38;5;241m.\u001b[39mvalue_in_unit(openmm_unit\u001b[38;5;241m.\u001b[39mangstrom)] \u001b[38;5;28;01mfor\u001b[39;00m vec3 \u001b[38;5;129;01min\u001b[39;00m pdb\u001b[38;5;241m.\u001b[39mgetPositions()]\n\u001b[1;32m   1795\u001b[0m )\n\u001b[0;32m-> 1797\u001b[0m topology \u001b[38;5;241m=\u001b[39m \u001b[43mtoolkit_registry\u001b[49m\u001b[38;5;241;43m.\u001b[39;49m\u001b[43mcall\u001b[49m\u001b[43m(\u001b[49m\n\u001b[1;32m   1798\u001b[0m \u001b[43m    \u001b[49m\u001b[38;5;124;43m\"\u001b[39;49m\u001b[38;5;124;43m_polymer_openmm_pdbfile_to_offtop\u001b[39;49m\u001b[38;5;124;43m\"\u001b[39;49m\u001b[43m,\u001b[49m\n\u001b[1;32m   1799\u001b[0m \u001b[43m    \u001b[49m\u001b[38;5;28;43mcls\u001b[39;49m\u001b[43m,\u001b[49m\n\u001b[1;32m   1800\u001b[0m \u001b[43m    \u001b[49m\u001b[43mpdb\u001b[49m\u001b[43m,\u001b[49m\n\u001b[1;32m   1801\u001b[0m \u001b[43m    \u001b[49m\u001b[43msubstructure_dictionary\u001b[49m\u001b[43m,\u001b[49m\n\u001b[1;32m   1802\u001b[0m \u001b[43m    \u001b[49m\u001b[43mcoords_angstrom\u001b[49m\u001b[43m,\u001b[49m\n\u001b[1;32m   1803\u001b[0m \u001b[43m    \u001b[49m\u001b[43m_custom_substructures\u001b[49m\u001b[43m,\u001b[49m\n\u001b[1;32m   1804\u001b[0m \u001b[43m\u001b[49m\u001b[43m)\u001b[49m\n\u001b[1;32m   1806\u001b[0m \u001b[38;5;28;01mfor\u001b[39;00m off_atom, atom \u001b[38;5;129;01min\u001b[39;00m \u001b[38;5;28mzip\u001b[39m([\u001b[38;5;241m*\u001b[39mtopology\u001b[38;5;241m.\u001b[39matoms], pdb\u001b[38;5;241m.\u001b[39mtopology\u001b[38;5;241m.\u001b[39matoms()):\n\u001b[1;32m   1807\u001b[0m     off_atom\u001b[38;5;241m.\u001b[39mmetadata[\u001b[38;5;124m\"\u001b[39m\u001b[38;5;124mresidue_name\u001b[39m\u001b[38;5;124m\"\u001b[39m] \u001b[38;5;241m=\u001b[39m atom\u001b[38;5;241m.\u001b[39mresidue\u001b[38;5;241m.\u001b[39mname\n",
      "File \u001b[0;32m~/Documents/openff/openff-pdbscan/.soap/test/lib/python3.12/site-packages/openff/toolkit/utils/toolkit_registry.py:370\u001b[0m, in \u001b[0;36mToolkitRegistry.call\u001b[0;34m(self, method_name, raise_exception_types, *args, **kwargs)\u001b[0m\n\u001b[1;32m    368\u001b[0m             \u001b[38;5;28;01mfor\u001b[39;00m exception_type \u001b[38;5;129;01min\u001b[39;00m raise_exception_types:\n\u001b[1;32m    369\u001b[0m                 \u001b[38;5;28;01mif\u001b[39;00m \u001b[38;5;28misinstance\u001b[39m(e, exception_type):\n\u001b[0;32m--> 370\u001b[0m                     \u001b[38;5;28;01mraise\u001b[39;00m e\n\u001b[1;32m    371\u001b[0m             errors\u001b[38;5;241m.\u001b[39mappend((toolkit, e))\n\u001b[1;32m    373\u001b[0m \u001b[38;5;66;03m# No toolkit was found to provide the requested capability\u001b[39;00m\n\u001b[1;32m    374\u001b[0m \u001b[38;5;66;03m# TODO: Can we help developers by providing a check for typos in expected method names?\u001b[39;00m\n",
      "File \u001b[0;32m~/Documents/openff/openff-pdbscan/.soap/test/lib/python3.12/site-packages/openff/toolkit/utils/toolkit_registry.py:366\u001b[0m, in \u001b[0;36mToolkitRegistry.call\u001b[0;34m(self, method_name, raise_exception_types, *args, **kwargs)\u001b[0m\n\u001b[1;32m    364\u001b[0m method \u001b[38;5;241m=\u001b[39m \u001b[38;5;28mgetattr\u001b[39m(toolkit, method_name)\n\u001b[1;32m    365\u001b[0m \u001b[38;5;28;01mtry\u001b[39;00m:\n\u001b[0;32m--> 366\u001b[0m     \u001b[38;5;28;01mreturn\u001b[39;00m \u001b[43mmethod\u001b[49m\u001b[43m(\u001b[49m\u001b[38;5;241;43m*\u001b[39;49m\u001b[43margs\u001b[49m\u001b[43m,\u001b[49m\u001b[43m \u001b[49m\u001b[38;5;241;43m*\u001b[39;49m\u001b[38;5;241;43m*\u001b[39;49m\u001b[43mkwargs\u001b[49m\u001b[43m)\u001b[49m\n\u001b[1;32m    367\u001b[0m \u001b[38;5;28;01mexcept\u001b[39;00m \u001b[38;5;167;01mException\u001b[39;00m \u001b[38;5;28;01mas\u001b[39;00m e:\n\u001b[1;32m    368\u001b[0m     \u001b[38;5;28;01mfor\u001b[39;00m exception_type \u001b[38;5;129;01min\u001b[39;00m raise_exception_types:\n",
      "File \u001b[0;32m~/Documents/openff/openff-pdbscan/.soap/test/lib/python3.12/site-packages/openff/toolkit/utils/rdkit_wrapper.py:328\u001b[0m, in \u001b[0;36mRDKitToolkitWrapper._polymer_openmm_pdbfile_to_offtop\u001b[0;34m(self, topology_class, pdbfile, substructure_dictionary, coords_angstrom, _custom_substructures)\u001b[0m\n\u001b[1;32m    321\u001b[0m custom_substructure_dictionary \u001b[38;5;241m=\u001b[39m \u001b[38;5;28mself\u001b[39m\u001b[38;5;241m.\u001b[39m_prepare_custom_substructures(\n\u001b[1;32m    322\u001b[0m     _custom_substructures\n\u001b[1;32m    323\u001b[0m )\n\u001b[1;32m    324\u001b[0m substructure_dictionary\u001b[38;5;241m.\u001b[39mupdate(\n\u001b[1;32m    325\u001b[0m     custom_substructure_dictionary\n\u001b[1;32m    326\u001b[0m )  \u001b[38;5;66;03m# concats both dicts, unique keys are enforced in previous function\u001b[39;00m\n\u001b[0;32m--> 328\u001b[0m rdkit_mol \u001b[38;5;241m=\u001b[39m \u001b[38;5;28;43mself\u001b[39;49m\u001b[38;5;241;43m.\u001b[39;49m\u001b[43m_polymer_openmm_topology_to_rdmol\u001b[49m\u001b[43m(\u001b[49m\n\u001b[1;32m    329\u001b[0m \u001b[43m    \u001b[49m\u001b[43momm_top\u001b[49m\u001b[43m,\u001b[49m\u001b[43m \u001b[49m\u001b[43msubstructure_dictionary\u001b[49m\n\u001b[1;32m    330\u001b[0m \u001b[43m\u001b[49m\u001b[43m)\u001b[49m\n\u001b[1;32m    332\u001b[0m rdmol_conformer \u001b[38;5;241m=\u001b[39m Chem\u001b[38;5;241m.\u001b[39mConformer()\n\u001b[1;32m    333\u001b[0m \u001b[38;5;28;01mfor\u001b[39;00m atom_idx \u001b[38;5;129;01min\u001b[39;00m \u001b[38;5;28mrange\u001b[39m(rdkit_mol\u001b[38;5;241m.\u001b[39mGetNumAtoms()):\n",
      "File \u001b[0;32m~/Documents/openff/openff-pdbscan/.soap/test/lib/python3.12/site-packages/openff/toolkit/utils/rdkit_wrapper.py:825\u001b[0m, in \u001b[0;36mRDKitToolkitWrapper._polymer_openmm_topology_to_rdmol\u001b[0;34m(self, omm_top, substructure_library)\u001b[0m\n\u001b[1;32m    814\u001b[0m             symbols \u001b[38;5;241m=\u001b[39m \u001b[38;5;28msorted\u001b[39m(\n\u001b[1;32m    815\u001b[0m                 [\n\u001b[1;32m    816\u001b[0m                     SYMBOLS[atom\u001b[38;5;241m.\u001b[39mGetAtomicNum()]\n\u001b[0;32m   (...)\u001b[0m\n\u001b[1;32m    819\u001b[0m                 ]\n\u001b[1;32m    820\u001b[0m             )\n\u001b[1;32m    821\u001b[0m             resname_to_symbols_and_atomnames[resname]\u001b[38;5;241m.\u001b[39mappend(\n\u001b[1;32m    822\u001b[0m                 (symbols, atom_names)\n\u001b[1;32m    823\u001b[0m             )\n\u001b[0;32m--> 825\u001b[0m     \u001b[38;5;28;01mraise\u001b[39;00m UnassignedChemistryInPDBError(\n\u001b[1;32m    826\u001b[0m         substructure_library\u001b[38;5;241m=\u001b[39mresname_to_symbols_and_atomnames,\n\u001b[1;32m    827\u001b[0m         omm_top\u001b[38;5;241m=\u001b[39momm_top,\n\u001b[1;32m    828\u001b[0m         unassigned_atoms\u001b[38;5;241m=\u001b[39munassigned_atoms,\n\u001b[1;32m    829\u001b[0m         unassigned_bonds\u001b[38;5;241m=\u001b[39munassigned_bonds,\n\u001b[1;32m    830\u001b[0m         matches\u001b[38;5;241m=\u001b[39mmatches,\n\u001b[1;32m    831\u001b[0m     )\n\u001b[1;32m    833\u001b[0m \u001b[38;5;66;03m# set some properties to later remember what matches were made\u001b[39;00m\n\u001b[1;32m    834\u001b[0m \u001b[38;5;28;01mfor\u001b[39;00m atom \u001b[38;5;129;01min\u001b[39;00m mol\u001b[38;5;241m.\u001b[39mGetAtoms():\n",
      "\u001b[0;31mUnassignedChemistryInPDBError\u001b[0m: Some bonds or atoms in the input could not be identified.\n\nHint: The following residues were assigned names that do not match the residue name in the input, or could not be assigned residue names at all. This may indicate that atoms are missing from the input or some other error. The OpenFF Toolkit requires all atoms, including hydrogens, to be explicit in the input to avoid ambiguities in protonation state or bond order:\n    Input residue A:MET#0001 contains atoms matching substructures {'No match', 'PEPTIDE_BOND'}\n    Input residue A:SER#0130 contains atoms matching substructures {'PEPTIDE_BOND', 'No match'}\n\nError: The following 23 atoms exist in the input but could not be assigned chemical information from the substructure library:\n    Atom     0 (N) in residue A:MET#0001\n    Atom     1 (CA) in residue A:MET#0001\n    Atom     4 (CB) in residue A:MET#0001\n    Atom     5 (CG) in residue A:MET#0001\n    Atom     6 (SD) in residue A:MET#0001\n    Atom     7 (CE) in residue A:MET#0001\n    Atom     8 (H) in residue A:MET#0001\n    Atom     9 (HA) in residue A:MET#0001\n    Atom    10 (HB2) in residue A:MET#0001\n    Atom    11 (HB3) in residue A:MET#0001\n    Atom    12 (HG2) in residue A:MET#0001\n    Atom    13 (HG3) in residue A:MET#0001\n    Atom    14 (HE1) in residue A:MET#0001\n    Atom    15 (HE2) in residue A:MET#0001\n    Atom    16 (HE3) in residue A:MET#0001\n    Atom  2213 (C) in residue A:SER#0130\n    Atom  2214 (O) in residue A:SER#0130\n    Atom  2215 (CB) in residue A:SER#0130\n    Atom  2216 (OG) in residue A:SER#0130\n    Atom  2218 (HA) in residue A:SER#0130\n    Atom  2219 (HB2) in residue A:SER#0130\n    Atom  2220 (HB3) in residue A:SER#0130\n    Atom  2221 (HG) in residue A:SER#0130\n"
     ]
    }
   ],
   "source": [
    "from openff.toolkit import Topology\n",
    "\n",
    "pdb_2lyc = Topology.from_pdb(\"/home/joshmitchell/Downloads/2lyc.pdb\")"
   ]
  },
  {
   "cell_type": "code",
   "execution_count": 47,
   "id": "79b0a586-41f9-4e28-9447-a7844911aa1c",
   "metadata": {
    "execution": {
     "iopub.execute_input": "2024-09-03T14:20:35.488958Z",
     "iopub.status.busy": "2024-09-03T14:20:35.488769Z",
     "iopub.status.idle": "2024-09-03T14:20:35.491475Z",
     "shell.execute_reply": "2024-09-03T14:20:35.491193Z",
     "shell.execute_reply.started": "2024-09-03T14:20:35.488945Z"
    }
   },
   "outputs": [
    {
     "data": {
      "text/plain": [
       "<Topology; 1 chains, 130 residues, 2222 atoms, 2241 bonds>"
      ]
     },
     "execution_count": 47,
     "metadata": {},
     "output_type": "execute_result"
    }
   ],
   "source": [
    "# TODO: Get all the IDs with proteins only and hydrogens and load them directly in the toolkit"
   ]
  },
  {
   "cell_type": "code",
   "execution_count": 8,
   "id": "9aa8b8c7-62f6-47f0-bef1-41156dd09d84",
   "metadata": {
    "execution": {
     "iopub.execute_input": "2024-09-04T11:37:07.832346Z",
     "iopub.status.busy": "2024-09-04T11:37:07.831967Z",
     "iopub.status.idle": "2024-09-04T11:38:34.510960Z",
     "shell.execute_reply": "2024-09-04T11:38:34.510661Z",
     "shell.execute_reply.started": "2024-09-04T11:37:07.832334Z"
    }
   },
   "outputs": [
    {
     "data": {
      "text/html": [
       "<div><style>\n",
       ".dataframe > thead > tr,\n",
       ".dataframe > tbody > tr {\n",
       "  text-align: right;\n",
       "  white-space: pre-wrap;\n",
       "}\n",
       "</style>\n",
       "<small>shape: (9_977, 1)</small><table border=\"1\" class=\"dataframe\"><thead><tr><th>id</th></tr><tr><td>str</td></tr></thead><tbody><tr><td>&quot;2krm&quot;</td></tr><tr><td>&quot;2cqr&quot;</td></tr><tr><td>&quot;1wjo&quot;</td></tr><tr><td>&quot;7qto&quot;</td></tr><tr><td>&quot;2k1k&quot;</td></tr><tr><td>&hellip;</td></tr><tr><td>&quot;5nca&quot;</td></tr><tr><td>&quot;1fra&quot;</td></tr><tr><td>&quot;2lvg&quot;</td></tr><tr><td>&quot;1cww&quot;</td></tr><tr><td>&quot;5noc&quot;</td></tr></tbody></table></div>"
      ],
      "text/plain": [
       "shape: (9_977, 1)\n",
       "┌──────┐\n",
       "│ id   │\n",
       "│ ---  │\n",
       "│ str  │\n",
       "╞══════╡\n",
       "│ 2krm │\n",
       "│ 2cqr │\n",
       "│ 1wjo │\n",
       "│ 7qto │\n",
       "│ 2k1k │\n",
       "│ …    │\n",
       "│ 5nca │\n",
       "│ 1fra │\n",
       "│ 2lvg │\n",
       "│ 1cww │\n",
       "│ 5noc │\n",
       "└──────┘"
      ]
     },
     "execution_count": 8,
     "metadata": {},
     "output_type": "execute_result"
    }
   ],
   "source": [
    "ids_without_hets_with_hydrogen = (\n",
    "    pl.scan_parquet(\"/home/joshmitchell/Downloads/pdb/coords_parquet/coords_*.parquet\")\n",
    "    .select(pl.col(\"id\", \"element\"))\n",
    "    .unique()\n",
    "    .filter(pl.col(\"id\").is_in(ids_with_hets).not_())\n",
    "    .filter(pl.col(\"element\") == \"H\")\n",
    "    .select(pl.col(\"id\"))\n",
    "    .collect(streaming=True)\n",
    ")\n",
    "ids_without_hets_with_hydrogen"
   ]
  },
  {
   "cell_type": "code",
   "execution_count": 9,
   "id": "a19a03a8-bc1e-4f3e-8711-fcd24aa12a3d",
   "metadata": {
    "execution": {
     "iopub.execute_input": "2024-09-05T07:10:05.946943Z",
     "iopub.status.busy": "2024-09-05T07:10:05.946827Z",
     "iopub.status.idle": "2024-09-05T07:10:05.956962Z",
     "shell.execute_reply": "2024-09-05T07:10:05.956692Z",
     "shell.execute_reply.started": "2024-09-05T07:10:05.946933Z"
    }
   },
   "outputs": [],
   "source": [
    "def series_to_list(series):\n",
    "    return list(tup[0] for tup in series.iter_rows())\n",
    "\n",
    "def ids_to_pdbs(ids: list[str]) -> list[Path]:\n",
    "    pdbs = {\n",
    "        path\n",
    "        for path in Path(\"/home/joshmitchell/Downloads/pdb\").glob(\"*/*.ent.gz\")\n",
    "        if path.stem[3:7] in ids\n",
    "    }\n",
    "    assert len(ids) == len"
   ]
  },
  {
   "cell_type": "code",
   "execution_count": 58,
   "id": "5ef24300-8dd1-4f70-b95f-3f24d7659932",
   "metadata": {
    "execution": {
     "iopub.execute_input": "2024-09-03T14:40:11.140007Z",
     "iopub.status.busy": "2024-09-03T14:40:11.139713Z",
     "iopub.status.idle": "2024-09-03T16:04:18.640751Z",
     "shell.execute_reply": "2024-09-03T16:04:18.640420Z",
     "shell.execute_reply.started": "2024-09-03T14:40:11.139994Z"
    }
   },
   "outputs": [
    {
     "name": "stdout",
     "output_type": "stream",
     "text": [
      "batch 0\n",
      "concatenating\n",
      "rechunking\n",
      "batch 1\n",
      "concatenating\n",
      "rechunking\n",
      "batch 2\n",
      "concatenating\n",
      "rechunking\n",
      "batch 3\n",
      "concatenating\n",
      "rechunking\n",
      "batch 4\n",
      "concatenating\n",
      "rechunking\n"
     ]
    },
    {
     "data": {
      "text/html": [
       "<div><style>\n",
       ".dataframe > thead > tr,\n",
       ".dataframe > tbody > tr {\n",
       "  text-align: right;\n",
       "  white-space: pre-wrap;\n",
       "}\n",
       "</style>\n",
       "<small>shape: (9_977, 5)</small><table border=\"1\" class=\"dataframe\"><thead><tr><th>id</th><th>err</th><th>n_molecules</th><th>n_atoms</th><th>n_hydrogens</th></tr><tr><td>str</td><td>str</td><td>u64</td><td>u64</td><td>u64</td></tr></thead><tbody><tr><td>&quot;1v60&quot;</td><td>&quot;UnassignedChemistryInPDBError(…</td><td>null</td><td>null</td><td>null</td></tr><tr><td>&quot;2afe&quot;</td><td>&quot;UnassignedChemistryInPDBError(…</td><td>null</td><td>null</td><td>null</td></tr><tr><td>&quot;2bbx&quot;</td><td>&quot;UnassignedChemistryInPDBError(…</td><td>null</td><td>null</td><td>null</td></tr><tr><td>&quot;2lq0&quot;</td><td>&quot;UnassignedChemistryInPDBError(…</td><td>null</td><td>null</td><td>null</td></tr><tr><td>&quot;2l04&quot;</td><td>&quot;UnassignedChemistryInPDBError(…</td><td>null</td><td>null</td><td>null</td></tr><tr><td>&hellip;</td><td>&hellip;</td><td>&hellip;</td><td>&hellip;</td><td>&hellip;</td></tr><tr><td>&quot;2ksg&quot;</td><td>null</td><td>1</td><td>696</td><td>358</td></tr><tr><td>&quot;2k9u&quot;</td><td>null</td><td>2</td><td>2109</td><td>1045</td></tr><tr><td>&quot;2ko3&quot;</td><td>null</td><td>1</td><td>1239</td><td>639</td></tr><tr><td>&quot;2lpi&quot;</td><td>&quot;UnassignedChemistryInPDBError(…</td><td>null</td><td>null</td><td>null</td></tr><tr><td>&quot;2myx&quot;</td><td>&quot;UnassignedChemistryInPDBError(…</td><td>null</td><td>null</td><td>null</td></tr></tbody></table></div>"
      ],
      "text/plain": [
       "shape: (9_977, 5)\n",
       "┌──────┬─────────────────────────────────┬─────────────┬─────────┬─────────────┐\n",
       "│ id   ┆ err                             ┆ n_molecules ┆ n_atoms ┆ n_hydrogens │\n",
       "│ ---  ┆ ---                             ┆ ---         ┆ ---     ┆ ---         │\n",
       "│ str  ┆ str                             ┆ u64         ┆ u64     ┆ u64         │\n",
       "╞══════╪═════════════════════════════════╪═════════════╪═════════╪═════════════╡\n",
       "│ 1v60 ┆ UnassignedChemistryInPDBError(… ┆ null        ┆ null    ┆ null        │\n",
       "│ 2afe ┆ UnassignedChemistryInPDBError(… ┆ null        ┆ null    ┆ null        │\n",
       "│ 2bbx ┆ UnassignedChemistryInPDBError(… ┆ null        ┆ null    ┆ null        │\n",
       "│ 2lq0 ┆ UnassignedChemistryInPDBError(… ┆ null        ┆ null    ┆ null        │\n",
       "│ 2l04 ┆ UnassignedChemistryInPDBError(… ┆ null        ┆ null    ┆ null        │\n",
       "│ …    ┆ …                               ┆ …           ┆ …       ┆ …           │\n",
       "│ 2ksg ┆ null                            ┆ 1           ┆ 696     ┆ 358         │\n",
       "│ 2k9u ┆ null                            ┆ 2           ┆ 2109    ┆ 1045        │\n",
       "│ 2ko3 ┆ null                            ┆ 1           ┆ 1239    ┆ 639         │\n",
       "│ 2lpi ┆ UnassignedChemistryInPDBError(… ┆ null        ┆ null    ┆ null        │\n",
       "│ 2myx ┆ UnassignedChemistryInPDBError(… ┆ null        ┆ null    ┆ null        │\n",
       "└──────┴─────────────────────────────────┴─────────────┴─────────┴─────────────┘"
      ]
     },
     "execution_count": 58,
     "metadata": {},
     "output_type": "execute_result"
    }
   ],
   "source": [
    "(pdbs), f\"{len(ids)=}, {len(pdbs)=}\"\n",
    "    return list(pdbs)\n",
    "\n",
    "topology_from_pdb_proteins_with_hydrogens = test_pdb_loader(\n",
    "    pdb_loader=Topology.from_pdb,\n",
    "    chunk_size=100,\n",
    "    threads=24,\n",
    "    paths=ids_to_pdbs(series_to_list(ids_without_hets_with_hydrogen)),\n",
    ")\n",
    "topology_from_pdb_proteins_with_hydrogens"
   ]
  },
  {
   "cell_type": "code",
   "execution_count": 59,
   "id": "98923df9-1565-49ad-bcb7-2be455b66c09",
   "metadata": {
    "execution": {
     "iopub.execute_input": "2024-09-03T16:04:18.641581Z",
     "iopub.status.busy": "2024-09-03T16:04:18.641433Z",
     "iopub.status.idle": "2024-09-03T16:04:18.786655Z",
     "shell.execute_reply": "2024-09-03T16:04:18.786350Z",
     "shell.execute_reply.started": "2024-09-03T16:04:18.641563Z"
    }
   },
   "outputs": [],
   "source": [
    "topology_from_pdb_proteins_with_hydrogens.write_parquet(\"peptideonly_hydrogens_shippedtopfrompdb_df.parquet\")"
   ]
  },
  {
   "cell_type": "code",
   "execution_count": 60,
   "id": "d06a5420-e0d2-48b8-be52-d1fabfde93b4",
   "metadata": {
    "execution": {
     "iopub.execute_input": "2024-09-04T00:31:47.980743Z",
     "iopub.status.busy": "2024-09-04T00:31:47.980539Z",
     "iopub.status.idle": "2024-09-04T00:31:47.984392Z",
     "shell.execute_reply": "2024-09-04T00:31:47.984146Z",
     "shell.execute_reply.started": "2024-09-04T00:31:47.980727Z"
    }
   },
   "outputs": [
    {
     "data": {
      "text/html": [
       "<div><style>\n",
       ".dataframe > thead > tr,\n",
       ".dataframe > tbody > tr {\n",
       "  text-align: right;\n",
       "  white-space: pre-wrap;\n",
       "}\n",
       "</style>\n",
       "<small>shape: (5_744, 2)</small><table border=\"1\" class=\"dataframe\"><thead><tr><th>id</th><th>err</th></tr><tr><td>str</td><td>str</td></tr></thead><tbody><tr><td>&quot;1v60&quot;</td><td>&quot;UnassignedChemistryInPDBError(…</td></tr><tr><td>&quot;2afe&quot;</td><td>&quot;UnassignedChemistryInPDBError(…</td></tr><tr><td>&quot;2bbx&quot;</td><td>&quot;UnassignedChemistryInPDBError(…</td></tr><tr><td>&quot;2lq0&quot;</td><td>&quot;UnassignedChemistryInPDBError(…</td></tr><tr><td>&quot;2l04&quot;</td><td>&quot;UnassignedChemistryInPDBError(…</td></tr><tr><td>&hellip;</td><td>&hellip;</td></tr><tr><td>&quot;1wf0&quot;</td><td>&quot;UnassignedChemistryInPDBError(…</td></tr><tr><td>&quot;1pi7&quot;</td><td>&quot;UnassignedChemistryInPDBError(…</td></tr><tr><td>&quot;2l32&quot;</td><td>&quot;UnassignedChemistryInPDBError(…</td></tr><tr><td>&quot;2lpi&quot;</td><td>&quot;UnassignedChemistryInPDBError(…</td></tr><tr><td>&quot;2myx&quot;</td><td>&quot;UnassignedChemistryInPDBError(…</td></tr></tbody></table></div>"
      ],
      "text/plain": [
       "shape: (5_744, 2)\n",
       "┌──────┬─────────────────────────────────┐\n",
       "│ id   ┆ err                             │\n",
       "│ ---  ┆ ---                             │\n",
       "│ str  ┆ str                             │\n",
       "╞══════╪═════════════════════════════════╡\n",
       "│ 1v60 ┆ UnassignedChemistryInPDBError(… │\n",
       "│ 2afe ┆ UnassignedChemistryInPDBError(… │\n",
       "│ 2bbx ┆ UnassignedChemistryInPDBError(… │\n",
       "│ 2lq0 ┆ UnassignedChemistryInPDBError(… │\n",
       "│ 2l04 ┆ UnassignedChemistryInPDBError(… │\n",
       "│ …    ┆ …                               │\n",
       "│ 1wf0 ┆ UnassignedChemistryInPDBError(… │\n",
       "│ 1pi7 ┆ UnassignedChemistryInPDBError(… │\n",
       "│ 2l32 ┆ UnassignedChemistryInPDBError(… │\n",
       "│ 2lpi ┆ UnassignedChemistryInPDBError(… │\n",
       "│ 2myx ┆ UnassignedChemistryInPDBError(… │\n",
       "└──────┴─────────────────────────────────┘"
      ]
     },
     "execution_count": 60,
     "metadata": {},
     "output_type": "execute_result"
    }
   ],
   "source": [
    "errors = topology_from_pdb_proteins_with_hydrogens.filter(pl.col(\"err\").is_not_null()).select([\"id\", \"err\"])\n",
    "errors"
   ]
  },
  {
   "cell_type": "code",
   "execution_count": 8,
   "id": "39abe85b-0f48-42c0-bcf5-b8ddaea32b37",
   "metadata": {
    "execution": {
     "iopub.execute_input": "2024-09-05T07:10:05.943143Z",
     "iopub.status.busy": "2024-09-05T07:10:05.942961Z",
     "iopub.status.idle": "2024-09-05T07:10:05.946424Z",
     "shell.execute_reply": "2024-09-05T07:10:05.946057Z",
     "shell.execute_reply.started": "2024-09-05T07:10:05.943133Z"
    }
   },
   "outputs": [],
   "source": [
    "from tempfile import NamedTemporaryFile\n",
    "from functools import partial\n",
    "from openmm.app import PDBFile\n",
    "\n",
    "def topology_via_pdbfixer(file: TextIO) -> Topology:\n",
    "    from pdbfixer import PDBFixer\n",
    "\n",
    "    fixer = PDBFixer(pdbfile=file)\n",
    "    fixer.findMissingResidues()\n",
    "    \n",
    "    # This section removes terminal loops\n",
    "    chainLengths = [len([*chain.residues()]) for chain in fixer.topology.chains()]\n",
    "    for chainidx, residx in list(fixer.missingResidues):\n",
    "        if residx == 0:\n",
    "            fixer.missingResidues[chainidx, residx] = []\n",
    "        elif residx == chainLengths[chainidx]:\n",
    "            fixer.missingResidues[chainidx, residx] = []\n",
    "    \n",
    "    fixer.findNonstandardResidues()\n",
    "    fixer.replaceNonstandardResidues()\n",
    "    fixer.removeHeterogens(keepWater=True)\n",
    "    fixer.findMissingAtoms()\n",
    "    fixer.addMissingAtoms()\n",
    "    fixer.addMissingHydrogens(pH=7.4)\n",
    "\n",
    "    with NamedTemporaryFile(suffix=\".pdb\") as temp_pdb:\n",
    "        with open(temp_pdb.name, 'wt') as f:\n",
    "            PDBFile.writeFile(fixer.topology, fixer.positions, file=f)\n",
    "        topology = Topology.from_pdb(temp_pdb.name)\n",
    "    return topology"
   ]
  },
  {
   "cell_type": "code",
   "execution_count": 31,
   "id": "9247861a-dcac-4ffe-a3d7-869365d68fd2",
   "metadata": {
    "execution": {
     "iopub.execute_input": "2024-09-05T05:50:20.573824Z",
     "iopub.status.busy": "2024-09-05T05:50:20.573638Z",
     "iopub.status.idle": "2024-09-05T05:50:20.580830Z",
     "shell.execute_reply": "2024-09-05T05:50:20.580509Z",
     "shell.execute_reply.started": "2024-09-05T05:50:20.573808Z"
    }
   },
   "outputs": [],
   "source": [
    "%load_ext snakeviz"
   ]
  },
  {
   "cell_type": "code",
   "execution_count": 34,
   "id": "9a98dbd0-0c3b-4c37-a0b6-63ebc7f52670",
   "metadata": {
    "execution": {
     "iopub.execute_input": "2024-09-05T05:52:20.923641Z",
     "iopub.status.busy": "2024-09-05T05:52:20.923411Z",
     "iopub.status.idle": "2024-09-05T05:52:34.364219Z",
     "shell.execute_reply": "2024-09-05T05:52:34.363829Z",
     "shell.execute_reply.started": "2024-09-05T05:52:20.923623Z"
    }
   },
   "outputs": [
    {
     "name": "stdout",
     "output_type": "stream",
     "text": [
      " \n",
      "*** Profile stats marshalled to file '/tmp/tmp5f0xxr72'.\n",
      "Embedding SnakeViz in this document...\n",
      "<function display at 0x7961c299d1c0>\n"
     ]
    },
    {
     "data": {
      "text/html": [
       "\n",
       "<iframe id='snakeviz-0a7025f4-6b4b-11ef-8790-e0d4e850acd5' frameborder=0 seamless width='100%' height='1000'></iframe>\n",
       "<script>document.getElementById(\"snakeviz-0a7025f4-6b4b-11ef-8790-e0d4e850acd5\").setAttribute(\"src\", \"http://\" + document.location.hostname + \":8080/snakeviz/%2Ftmp%2Ftmp5f0xxr72\")</script>\n"
      ],
      "text/plain": [
       "<IPython.core.display.HTML object>"
      ]
     },
     "metadata": {},
     "output_type": "display_data"
    }
   ],
   "source": [
    "%%snakeviz\n",
    "with gzip.open(list(protein_only_pdbs)[1], 'rt') as f:\n",
    "    topology_via_pdbfixer(f)"
   ]
  },
  {
   "cell_type": "code",
   "execution_count": 11,
   "id": "653e2fd5-4c5c-497b-8b44-b320aca36d89",
   "metadata": {
    "execution": {
     "iopub.execute_input": "2024-09-05T07:10:45.027601Z",
     "iopub.status.busy": "2024-09-05T07:10:45.027438Z",
     "iopub.status.idle": "2024-09-05T07:10:45.030166Z",
     "shell.execute_reply": "2024-09-05T07:10:45.029810Z",
     "shell.execute_reply.started": "2024-09-05T07:10:45.027591Z"
    }
   },
   "outputs": [],
   "source": [
    "from typing import Sequence, Iterable\n",
    "import numpy as np\n",
    "\n",
    "def subsample[T](sequence: Sequence[T], n: int, seed=None) -> Iterable[T]:\n",
    "    for index in np.random.default_rng(seed).integers(low=0, high=len(sequence), size=n):\n",
    "        yield sequence[index]"
   ]
  },
  {
   "cell_type": "code",
   "execution_count": 12,
   "id": "e0ef47fb-7ff4-46e1-b809-734be900f162",
   "metadata": {
    "execution": {
     "iopub.execute_input": "2024-09-05T07:10:45.157914Z",
     "iopub.status.busy": "2024-09-05T07:10:45.157745Z",
     "iopub.status.idle": "2024-09-05T18:16:24.571225Z",
     "shell.execute_reply": "2024-09-05T18:16:24.570750Z",
     "shell.execute_reply.started": "2024-09-05T07:10:45.157901Z"
    }
   },
   "outputs": [
    {
     "name": "stdout",
     "output_type": "stream",
     "text": [
      "batch 0\n",
      "concatenating\n",
      "rechunking\n",
      "batch 1\n",
      "concatenating\n",
      "rechunking\n",
      "batch 2\n",
      "concatenating\n",
      "rechunking\n",
      "batch 3\n",
      "concatenating\n",
      "rechunking\n",
      "batch 4\n",
      "concatenating\n",
      "rechunking\n",
      "batch 5\n",
      "concatenating\n",
      "rechunking\n",
      "batch 6\n",
      "concatenating\n",
      "rechunking\n",
      "batch 7\n",
      "concatenating\n",
      "rechunking\n",
      "batch 8\n",
      "concatenating\n",
      "rechunking\n",
      "batch 9\n",
      "concatenating\n",
      "rechunking\n"
     ]
    },
    {
     "data": {
      "text/html": [
       "<div><style>\n",
       ".dataframe > thead > tr,\n",
       ".dataframe > tbody > tr {\n",
       "  text-align: right;\n",
       "  white-space: pre-wrap;\n",
       "}\n",
       "</style>\n",
       "<small>shape: (100, 5)</small><table border=\"1\" class=\"dataframe\"><thead><tr><th>id</th><th>err</th><th>n_molecules</th><th>n_atoms</th><th>n_hydrogens</th></tr><tr><td>str</td><td>str</td><td>u64</td><td>u64</td><td>u64</td></tr></thead><tbody><tr><td>&quot;1s5r&quot;</td><td>null</td><td>2</td><td>1795</td><td>883</td></tr><tr><td>&quot;1ym7&quot;</td><td>&quot;UnassignedChemistryInPDBError(…</td><td>null</td><td>null</td><td>null</td></tr><tr><td>&quot;7egm&quot;</td><td>&quot;UnassignedChemistryInPDBError(…</td><td>null</td><td>null</td><td>null</td></tr><tr><td>&quot;7xex&quot;</td><td>&quot;UnassignedChemistryInPDBError(…</td><td>null</td><td>null</td><td>null</td></tr><tr><td>&quot;2eem&quot;</td><td>null</td><td>1</td><td>540</td><td>268</td></tr><tr><td>&hellip;</td><td>&hellip;</td><td>&hellip;</td><td>&hellip;</td><td>&hellip;</td></tr><tr><td>&quot;2kdd&quot;</td><td>null</td><td>2</td><td>1802</td><td>930</td></tr><tr><td>&quot;1tgl&quot;</td><td>null</td><td>1</td><td>4038</td><td>1985</td></tr><tr><td>&quot;2ly4&quot;</td><td>&quot;UnassignedChemistryInPDBError(…</td><td>null</td><td>null</td><td>null</td></tr><tr><td>&quot;8w1s&quot;</td><td>null</td><td>11</td><td>163628</td><td>81781</td></tr><tr><td>&quot;1x8e&quot;</td><td>&quot;UnassignedChemistryInPDBError(…</td><td>null</td><td>null</td><td>null</td></tr></tbody></table></div>"
      ],
      "text/plain": [
       "shape: (100, 5)\n",
       "┌──────┬─────────────────────────────────┬─────────────┬─────────┬─────────────┐\n",
       "│ id   ┆ err                             ┆ n_molecules ┆ n_atoms ┆ n_hydrogens │\n",
       "│ ---  ┆ ---                             ┆ ---         ┆ ---     ┆ ---         │\n",
       "│ str  ┆ str                             ┆ u64         ┆ u64     ┆ u64         │\n",
       "╞══════╪═════════════════════════════════╪═════════════╪═════════╪═════════════╡\n",
       "│ 1s5r ┆ null                            ┆ 2           ┆ 1795    ┆ 883         │\n",
       "│ 1ym7 ┆ UnassignedChemistryInPDBError(… ┆ null        ┆ null    ┆ null        │\n",
       "│ 7egm ┆ UnassignedChemistryInPDBError(… ┆ null        ┆ null    ┆ null        │\n",
       "│ 7xex ┆ UnassignedChemistryInPDBError(… ┆ null        ┆ null    ┆ null        │\n",
       "│ 2eem ┆ null                            ┆ 1           ┆ 540     ┆ 268         │\n",
       "│ …    ┆ …                               ┆ …           ┆ …       ┆ …           │\n",
       "│ 2kdd ┆ null                            ┆ 2           ┆ 1802    ┆ 930         │\n",
       "│ 1tgl ┆ null                            ┆ 1           ┆ 4038    ┆ 1985        │\n",
       "│ 2ly4 ┆ UnassignedChemistryInPDBError(… ┆ null        ┆ null    ┆ null        │\n",
       "│ 8w1s ┆ null                            ┆ 11          ┆ 163628  ┆ 81781       │\n",
       "│ 1x8e ┆ UnassignedChemistryInPDBError(… ┆ null        ┆ null    ┆ null        │\n",
       "└──────┴─────────────────────────────────┴─────────────┴─────────┴─────────────┘"
      ]
     },
     "execution_count": 12,
     "metadata": {},
     "output_type": "execute_result"
    }
   ],
   "source": [
    "pdbfixer_pdb_loader_df = test_pdb_loader(\n",
    "    pdb_loader=topology_via_pdbfixer,\n",
    "    chunk_size=10,\n",
    "    threads=1,\n",
    "    paths=subsample(list(protein_only_pdbs), 100, seed=314),\n",
    ")\n",
    "pdbfixer_pdb_loader_df.write_parquet(\"peptideonly_pdbfixer_df.parquet\")\n",
    "pdbfixer_pdb_loader_df"
   ]
  },
  {
   "cell_type": "code",
   "execution_count": 13,
   "id": "ad16ce78-2d46-440e-bc7e-fb91789eb647",
   "metadata": {
    "execution": {
     "iopub.execute_input": "2024-09-06T02:57:33.635764Z",
     "iopub.status.busy": "2024-09-06T02:57:33.635482Z",
     "iopub.status.idle": "2024-09-06T02:57:33.639956Z",
     "shell.execute_reply": "2024-09-06T02:57:33.639691Z",
     "shell.execute_reply.started": "2024-09-06T02:57:33.635735Z"
    }
   },
   "outputs": [
    {
     "data": {
      "text/html": [
       "<div><style>\n",
       ".dataframe > thead > tr,\n",
       ".dataframe > tbody > tr {\n",
       "  text-align: right;\n",
       "  white-space: pre-wrap;\n",
       "}\n",
       "</style>\n",
       "<small>shape: (42, 2)</small><table border=\"1\" class=\"dataframe\"><thead><tr><th>id</th><th>err</th></tr><tr><td>str</td><td>str</td></tr></thead><tbody><tr><td>&quot;1ym7&quot;</td><td>&quot;UnassignedChemistryInPDBError(…</td></tr><tr><td>&quot;7egm&quot;</td><td>&quot;UnassignedChemistryInPDBError(…</td></tr><tr><td>&quot;7xex&quot;</td><td>&quot;UnassignedChemistryInPDBError(…</td></tr><tr><td>&quot;6wwa&quot;</td><td>&quot;UnassignedChemistryInPDBError(…</td></tr><tr><td>&quot;8hbj&quot;</td><td>&quot;UnassignedChemistryInPDBError(…</td></tr><tr><td>&hellip;</td><td>&hellip;</td></tr><tr><td>&quot;5y4o&quot;</td><td>&quot;UnassignedChemistryInPDBError(…</td></tr><tr><td>&quot;5k5g&quot;</td><td>&quot;UnassignedChemistryInPDBError(…</td></tr><tr><td>&quot;6rc8&quot;</td><td>&quot;UnassignedChemistryInPDBError(…</td></tr><tr><td>&quot;2ly4&quot;</td><td>&quot;UnassignedChemistryInPDBError(…</td></tr><tr><td>&quot;1x8e&quot;</td><td>&quot;UnassignedChemistryInPDBError(…</td></tr></tbody></table></div>"
      ],
      "text/plain": [
       "shape: (42, 2)\n",
       "┌──────┬─────────────────────────────────┐\n",
       "│ id   ┆ err                             │\n",
       "│ ---  ┆ ---                             │\n",
       "│ str  ┆ str                             │\n",
       "╞══════╪═════════════════════════════════╡\n",
       "│ 1ym7 ┆ UnassignedChemistryInPDBError(… │\n",
       "│ 7egm ┆ UnassignedChemistryInPDBError(… │\n",
       "│ 7xex ┆ UnassignedChemistryInPDBError(… │\n",
       "│ 6wwa ┆ UnassignedChemistryInPDBError(… │\n",
       "│ 8hbj ┆ UnassignedChemistryInPDBError(… │\n",
       "│ …    ┆ …                               │\n",
       "│ 5y4o ┆ UnassignedChemistryInPDBError(… │\n",
       "│ 5k5g ┆ UnassignedChemistryInPDBError(… │\n",
       "│ 6rc8 ┆ UnassignedChemistryInPDBError(… │\n",
       "│ 2ly4 ┆ UnassignedChemistryInPDBError(… │\n",
       "│ 1x8e ┆ UnassignedChemistryInPDBError(… │\n",
       "└──────┴─────────────────────────────────┘"
      ]
     },
     "execution_count": 13,
     "metadata": {},
     "output_type": "execute_result"
    }
   ],
   "source": [
    "errors = pdbfixer_pdb_loader_df.filter(pl.col(\"err\").is_not_null()).select([\"id\", \"err\"])\n",
    "errors"
   ]
  },
  {
   "cell_type": "code",
   "execution_count": 16,
   "id": "2253f426-535d-4bf2-a7da-91e08baf112b",
   "metadata": {
    "execution": {
     "iopub.execute_input": "2024-09-06T04:26:38.958996Z",
     "iopub.status.busy": "2024-09-06T04:26:38.958767Z",
     "iopub.status.idle": "2024-09-06T04:26:38.962148Z",
     "shell.execute_reply": "2024-09-06T04:26:38.961903Z",
     "shell.execute_reply.started": "2024-09-06T04:26:38.958981Z"
    }
   },
   "outputs": [
    {
     "data": {
      "text/html": [
       "<div><style>\n",
       ".dataframe > thead > tr,\n",
       ".dataframe > tbody > tr {\n",
       "  text-align: right;\n",
       "  white-space: pre-wrap;\n",
       "}\n",
       "</style>\n",
       "<small>shape: (1, 5)</small><table border=\"1\" class=\"dataframe\"><thead><tr><th>id</th><th>err</th><th>n_molecules</th><th>n_atoms</th><th>n_hydrogens</th></tr><tr><td>str</td><td>str</td><td>u64</td><td>u64</td><td>u64</td></tr></thead><tbody><tr><td>&quot;7n9u&quot;</td><td>&quot;KeyError(&#x27;UNK&#x27;)&quot;</td><td>null</td><td>null</td><td>null</td></tr></tbody></table></div>"
      ],
      "text/plain": [
       "shape: (1, 5)\n",
       "┌──────┬─────────────────┬─────────────┬─────────┬─────────────┐\n",
       "│ id   ┆ err             ┆ n_molecules ┆ n_atoms ┆ n_hydrogens │\n",
       "│ ---  ┆ ---             ┆ ---         ┆ ---     ┆ ---         │\n",
       "│ str  ┆ str             ┆ u64         ┆ u64     ┆ u64         │\n",
       "╞══════╪═════════════════╪═════════════╪═════════╪═════════════╡\n",
       "│ 7n9u ┆ KeyError('UNK') ┆ null        ┆ null    ┆ null        │\n",
       "└──────┴─────────────────┴─────────────┴─────────┴─────────────┘"
      ]
     },
     "execution_count": 16,
     "metadata": {},
     "output_type": "execute_result"
    }
   ],
   "source": [
    "pdbfixer_pdb_loader_df.filter(pl.col(\"err\").str.starts_with(\"UnassignedChemistryInPDBError\").not_())"
   ]
  },
  {
   "cell_type": "code",
   "execution_count": null,
   "id": "fba134db-b6e3-4c25-8e3b-018bfc4f2421",
   "metadata": {},
   "outputs": [],
   "source": [
    "try:\n",
    "    assert False\n",
    "except Exception as e:\n",
    "    "
   ]
  },
  {
   "cell_type": "code",
   "execution_count": 3,
   "id": "c6d5c507-954d-4714-b802-4b3180db912d",
   "metadata": {
    "execution": {
     "iopub.execute_input": "2024-12-03T03:49:28.764985Z",
     "iopub.status.busy": "2024-12-03T03:49:28.764635Z",
     "iopub.status.idle": "2024-12-03T03:49:28.769099Z",
     "shell.execute_reply": "2024-12-03T03:49:28.768886Z",
     "shell.execute_reply.started": "2024-12-03T03:49:28.764969Z"
    }
   },
   "outputs": [
    {
     "name": "stderr",
     "output_type": "stream",
     "text": [
      "/home/joshmitchell/Documents/openff/openff-pdbscan/.soap/test/lib/python3.12/site-packages/MDAnalysis/topology/tables.py:52: DeprecationWarning: Deprecated in version 2.8.0\n",
      "MDAnalysis.topology.tables has been moved to MDAnalysis.guesser.tables. This import point will be removed in MDAnalysis version 3.0.0\n",
      "  warnings.warn(wmsg, category=DeprecationWarning)\n"
     ]
    },
    {
     "data": {
      "text/plain": [
       "{'H': 1.1,\n",
       " 'HE': 1.4,\n",
       " 'LI': 1.82,\n",
       " 'BE': 1.53,\n",
       " 'B': 1.92,\n",
       " 'C': 1.7,\n",
       " 'N': 1.55,\n",
       " 'O': 1.52,\n",
       " 'F': 1.47,\n",
       " 'NE': 1.54,\n",
       " 'NA': 2.27,\n",
       " 'MG': 1.73,\n",
       " 'AL': 1.84,\n",
       " 'SI': 2.1,\n",
       " 'P': 1.8,\n",
       " 'S': 1.8,\n",
       " 'CL': 1.75,\n",
       " 'AR': 1.88,\n",
       " 'K': 2.75,\n",
       " 'CA': 2.31,\n",
       " 'NI': 1.63,\n",
       " 'CU': 1.4,\n",
       " 'ZN': 1.39,\n",
       " 'GA': 1.87,\n",
       " 'GE': 2.11,\n",
       " 'AA': 1.85,\n",
       " 'SE': 1.9,\n",
       " 'BR': 1.85,\n",
       " 'KR': 2.02,\n",
       " 'RR': 3.03,\n",
       " 'SR': 2.49,\n",
       " 'PD': 1.63,\n",
       " 'AG': 1.72,\n",
       " 'CD': 1.58,\n",
       " 'IN': 1.93,\n",
       " 'SN': 2.17,\n",
       " 'SB': 2.06,\n",
       " 'TE': 2.06,\n",
       " 'I': 1.98,\n",
       " 'XE': 2.16,\n",
       " 'CS': 3.43,\n",
       " 'BA': 2.68,\n",
       " 'PT': 1.75,\n",
       " 'AU': 1.66,\n",
       " 'HH': 1.55,\n",
       " 'TL': 1.96,\n",
       " 'PB': 2.02,\n",
       " 'BI': 2.07,\n",
       " 'PO': 1.97,\n",
       " 'AT': 2.02,\n",
       " 'RN': 2.2,\n",
       " 'FR': 3.48,\n",
       " 'RA': 2.83,\n",
       " 'U': 1.86}"
      ]
     },
     "execution_count": 3,
     "metadata": {},
     "output_type": "execute_result"
    }
   ],
   "source": [
    "import MDAnalysis.topology.tables\n",
    "\n",
    "MDAnalysis.topology.tables.vdwradii"
   ]
  },
  {
   "cell_type": "code",
   "execution_count": 4,
   "id": "56af2a85-22d5-49c2-aa62-0c59a0e95714",
   "metadata": {
    "execution": {
     "iopub.execute_input": "2024-12-03T03:51:01.065735Z",
     "iopub.status.busy": "2024-12-03T03:51:01.065473Z",
     "iopub.status.idle": "2024-12-03T03:51:01.073407Z",
     "shell.execute_reply": "2024-12-03T03:51:01.073026Z",
     "shell.execute_reply.started": "2024-12-03T03:51:01.065723Z"
    }
   },
   "outputs": [
    {
     "ename": "ModuleNotFoundError",
     "evalue": "No module named 'mda'",
     "output_type": "error",
     "traceback": [
      "\u001b[0;31m---------------------------------------------------------------------------\u001b[0m",
      "\u001b[0;31mModuleNotFoundError\u001b[0m                       Traceback (most recent call last)",
      "Cell \u001b[0;32mIn[4], line 2\u001b[0m\n\u001b[1;32m      1\u001b[0m \u001b[38;5;28;01mimport\u001b[39;00m \u001b[38;5;21;01mMDAnalysis\u001b[39;00m \u001b[38;5;28;01mas\u001b[39;00m \u001b[38;5;21;01mmda\u001b[39;00m\n\u001b[0;32m----> 2\u001b[0m \u001b[38;5;28;01mimport\u001b[39;00m \u001b[38;5;21;01mmda\u001b[39;00m\u001b[38;5;21;01m.\u001b[39;00m\u001b[38;5;21;01mtopology\u001b[39;00m\u001b[38;5;21;01m.\u001b[39;00m\u001b[38;5;21;01mtables\u001b[39;00m\n",
      "\u001b[0;31mModuleNotFoundError\u001b[0m: No module named 'mda'"
     ]
    }
   ],
   "source": [
    "import MDAnalysis as mda\n",
    "import mda.topology.tables"
   ]
  },
  {
   "cell_type": "code",
   "execution_count": null,
   "id": "41232b22-b588-44f0-a172-4c5d0c0efa74",
   "metadata": {},
   "outputs": [],
   "source": []
  }
 ],
 "metadata": {
  "kernelspec": {
   "display_name": "Python 3 (ipykernel)",
   "language": "python",
   "name": "python3"
  },
  "language_info": {
   "codemirror_mode": {
    "name": "ipython",
    "version": 3
   },
   "file_extension": ".py",
   "mimetype": "text/x-python",
   "name": "python",
   "nbconvert_exporter": "python",
   "pygments_lexer": "ipython3",
   "version": "3.12.7"
  },
  "widgets": {
   "application/vnd.jupyter.widget-state+json": {
    "state": {},
    "version_major": 2,
    "version_minor": 0
   }
  }
 },
 "nbformat": 4,
 "nbformat_minor": 5
}
