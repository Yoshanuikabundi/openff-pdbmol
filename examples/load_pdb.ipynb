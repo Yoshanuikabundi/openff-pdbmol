{
 "cells": [
  {
   "cell_type": "code",
   "execution_count": 1,
   "id": "06633713-98f5-4bce-a5ba-c9a1eca91d5b",
   "metadata": {
    "execution": {
     "iopub.execute_input": "2024-12-06T08:41:27.261903Z",
     "iopub.status.busy": "2024-12-06T08:41:27.261802Z",
     "iopub.status.idle": "2024-12-06T08:41:28.027514Z",
     "shell.execute_reply": "2024-12-06T08:41:28.027216Z",
     "shell.execute_reply.started": "2024-12-06T08:41:27.261892Z"
    }
   },
   "outputs": [
    {
     "data": {
      "application/vnd.jupyter.widget-view+json": {
       "model_id": "38640a9517374f21bc6e42066a2015e4",
       "version_major": 2,
       "version_minor": 0
      },
      "text/plain": []
     },
     "metadata": {},
     "output_type": "display_data"
    }
   ],
   "source": [
    "from openff.toolkit import Molecule\n",
    "from utils import draw_molecule\n",
    "\n",
    "from openff.pdbscan.pdb import topology_from_pdb, CCD_RESIDUE_DEFINITION_CACHE\n",
    "\n",
    "%load_ext snakeviz"
   ]
  },
  {
   "cell_type": "code",
   "execution_count": 2,
   "id": "c4674acd-d970-40ef-8646-cd6269b5611d",
   "metadata": {
    "execution": {
     "iopub.execute_input": "2024-12-06T08:41:28.028149Z",
     "iopub.status.busy": "2024-12-06T08:41:28.027958Z",
     "iopub.status.idle": "2024-12-06T08:41:28.031975Z",
     "shell.execute_reply": "2024-12-06T08:41:28.031711Z",
     "shell.execute_reply.started": "2024-12-06T08:41:28.028136Z"
    }
   },
   "outputs": [
    {
     "data": {
      "text/plain": [
       "CcdCache(path=/home/joshmitchell/Documents/openff/openff-pdbscan/openff/.ccd_cache, preload=['ALA', 'ARG', 'ASN', 'ASP', 'CYS', 'GLN', 'GLU', 'GLY', 'HIS', 'ILE', 'LEU', 'LYS', 'MET', 'PHE', 'PRO', 'SER', 'THR', 'TRP', 'TYR', 'VAL', 'ACE'], patches={'*': <function disambiguate_alt_ids at 0x7dc9bd192840>, 'ACE': <function fix_caps at 0x7dc9bdbd6020>, 'NME': <function combine_patches.<locals>.<lambda> at 0x7dc9bd192980>, 'NA': <function add_synonyms at 0x7dc9bd1927a0>, 'CL': <function add_synonyms at 0x7dc9bd1927a0>})"
      ]
     },
     "execution_count": 2,
     "metadata": {},
     "output_type": "execute_result"
    }
   ],
   "source": [
    "CCD_RESIDUE_DEFINITION_CACHE"
   ]
  },
  {
   "cell_type": "code",
   "execution_count": 3,
   "id": "f518380a-1824-44a9-8dec-b1211a95ae56",
   "metadata": {
    "execution": {
     "iopub.execute_input": "2024-12-06T08:41:28.032317Z",
     "iopub.status.busy": "2024-12-06T08:41:28.032224Z",
     "iopub.status.idle": "2024-12-06T08:41:28.047649Z",
     "shell.execute_reply": "2024-12-06T08:41:28.047429Z",
     "shell.execute_reply.started": "2024-12-06T08:41:28.032308Z"
    }
   },
   "outputs": [
    {
     "data": {
      "image/svg+xml": [
       "<svg xmlns=\"http://www.w3.org/2000/svg\" xmlns:rdkit=\"http://www.rdkit.org/xml\" xmlns:xlink=\"http://www.w3.org/1999/xlink\" version=\"1.1\" baseProfile=\"full\" xml:space=\"preserve\" width=\"500px\" height=\"300px\" viewBox=\"0 0 500 300\">\n",
       "<!-- END OF HEADER -->\n",
       "<rect style=\"opacity:1.0;fill:#FFFFFF;stroke:none\" width=\"500.0\" height=\"300.0\" x=\"0.0\" y=\"0.0\"> </rect>\n",
       "<path class=\"bond-0 atom-0 atom-1\" d=\"M 223.1,32.4 L 220.7,41.2\" style=\"fill:none;fill-rule:evenodd;stroke:#000000;stroke-width:2.0px;stroke-linecap:butt;stroke-linejoin:miter;stroke-opacity:1\"/>\n",
       "<path class=\"bond-0 atom-0 atom-1\" d=\"M 220.7,41.2 L 218.3,50.1\" style=\"fill:none;fill-rule:evenodd;stroke:#FF0000;stroke-width:2.0px;stroke-linecap:butt;stroke-linejoin:miter;stroke-opacity:1\"/>\n",
       "<path class=\"bond-1 atom-1 atom-2\" d=\"M 224.3,68.2 L 233.3,77.3\" style=\"fill:none;fill-rule:evenodd;stroke:#FF0000;stroke-width:2.0px;stroke-linecap:butt;stroke-linejoin:miter;stroke-opacity:1\"/>\n",
       "<path class=\"bond-1 atom-1 atom-2\" d=\"M 233.3,77.3 L 242.2,86.4\" style=\"fill:none;fill-rule:evenodd;stroke:#000000;stroke-width:2.0px;stroke-linecap:butt;stroke-linejoin:miter;stroke-opacity:1\"/>\n",
       "<path class=\"bond-2 atom-2 atom-3\" d=\"M 241.4,89.5 L 256.2,85.7\" style=\"fill:none;fill-rule:evenodd;stroke:#000000;stroke-width:2.0px;stroke-linecap:butt;stroke-linejoin:miter;stroke-opacity:1\"/>\n",
       "<path class=\"bond-2 atom-2 atom-3\" d=\"M 256.2,85.7 L 271.1,81.8\" style=\"fill:none;fill-rule:evenodd;stroke:#FF0000;stroke-width:2.0px;stroke-linecap:butt;stroke-linejoin:miter;stroke-opacity:1\"/>\n",
       "<path class=\"bond-2 atom-2 atom-3\" d=\"M 239.9,84.0 L 254.8,80.2\" style=\"fill:none;fill-rule:evenodd;stroke:#000000;stroke-width:2.0px;stroke-linecap:butt;stroke-linejoin:miter;stroke-opacity:1\"/>\n",
       "<path class=\"bond-2 atom-2 atom-3\" d=\"M 254.8,80.2 L 269.6,76.3\" style=\"fill:none;fill-rule:evenodd;stroke:#FF0000;stroke-width:2.0px;stroke-linecap:butt;stroke-linejoin:miter;stroke-opacity:1\"/>\n",
       "<path class=\"bond-3 atom-2 atom-4\" d=\"M 242.2,86.4 L 232.3,122.7\" style=\"fill:none;fill-rule:evenodd;stroke:#000000;stroke-width:2.0px;stroke-linecap:butt;stroke-linejoin:miter;stroke-opacity:1\"/>\n",
       "<path class=\"bond-4 atom-4 atom-5\" d=\"M 232.3,122.7 L 213.0,141.4\" style=\"fill:none;fill-rule:evenodd;stroke:#000000;stroke-width:2.0px;stroke-linecap:butt;stroke-linejoin:miter;stroke-opacity:1\"/>\n",
       "<path class=\"bond-5 atom-4 atom-6\" d=\"M 232.3,122.7 L 203.3,114.8\" style=\"fill:none;fill-rule:evenodd;stroke:#000000;stroke-width:2.0px;stroke-linecap:butt;stroke-linejoin:miter;stroke-opacity:1\"/>\n",
       "<path class=\"bond-6 atom-4 atom-7\" d=\"M 232.3,122.7 L 259.2,150.1\" style=\"fill:none;fill-rule:evenodd;stroke:#000000;stroke-width:2.0px;stroke-linecap:butt;stroke-linejoin:miter;stroke-opacity:1\"/>\n",
       "<path class=\"bond-7 atom-7 atom-8\" d=\"M 259.2,150.1 L 288.4,157.9\" style=\"fill:none;fill-rule:evenodd;stroke:#000000;stroke-width:2.0px;stroke-linecap:butt;stroke-linejoin:miter;stroke-opacity:1\"/>\n",
       "<path class=\"bond-8 atom-7 atom-9\" d=\"M 259.2,150.1 L 278.6,130.8\" style=\"fill:none;fill-rule:evenodd;stroke:#000000;stroke-width:2.0px;stroke-linecap:butt;stroke-linejoin:miter;stroke-opacity:1\"/>\n",
       "<path class=\"bond-9 atom-7 atom-10\" d=\"M 259.2,150.1 L 249.5,187.2\" style=\"fill:none;fill-rule:evenodd;stroke:#000000;stroke-width:2.0px;stroke-linecap:butt;stroke-linejoin:miter;stroke-opacity:1\"/>\n",
       "<path class=\"bond-10 atom-10 atom-11\" d=\"M 245.9,186.7 L 246.1,186.0\" style=\"fill:none;fill-rule:evenodd;stroke:#000000;stroke-width:1.0px;stroke-linecap:butt;stroke-linejoin:miter;stroke-opacity:1\"/>\n",
       "<path class=\"bond-10 atom-10 atom-11\" d=\"M 242.4,186.1 L 242.8,184.8\" style=\"fill:none;fill-rule:evenodd;stroke:#000000;stroke-width:1.0px;stroke-linecap:butt;stroke-linejoin:miter;stroke-opacity:1\"/>\n",
       "<path class=\"bond-10 atom-10 atom-11\" d=\"M 238.9,185.6 L 239.4,183.5\" style=\"fill:none;fill-rule:evenodd;stroke:#000000;stroke-width:1.0px;stroke-linecap:butt;stroke-linejoin:miter;stroke-opacity:1\"/>\n",
       "<path class=\"bond-10 atom-10 atom-11\" d=\"M 235.4,185.1 L 236.1,182.3\" style=\"fill:none;fill-rule:evenodd;stroke:#000000;stroke-width:1.0px;stroke-linecap:butt;stroke-linejoin:miter;stroke-opacity:1\"/>\n",
       "<path class=\"bond-10 atom-10 atom-11\" d=\"M 231.9,184.5 L 232.8,181.1\" style=\"fill:none;fill-rule:evenodd;stroke:#000000;stroke-width:1.0px;stroke-linecap:butt;stroke-linejoin:miter;stroke-opacity:1\"/>\n",
       "<path class=\"bond-10 atom-10 atom-11\" d=\"M 228.4,184.0 L 229.4,179.9\" style=\"fill:none;fill-rule:evenodd;stroke:#000000;stroke-width:1.0px;stroke-linecap:butt;stroke-linejoin:miter;stroke-opacity:1\"/>\n",
       "<path class=\"bond-10 atom-10 atom-11\" d=\"M 224.9,183.5 L 226.1,178.7\" style=\"fill:none;fill-rule:evenodd;stroke:#000000;stroke-width:1.0px;stroke-linecap:butt;stroke-linejoin:miter;stroke-opacity:1\"/>\n",
       "<path class=\"bond-10 atom-10 atom-11\" d=\"M 221.4,183.0 L 222.8,177.5\" style=\"fill:none;fill-rule:evenodd;stroke:#000000;stroke-width:1.0px;stroke-linecap:butt;stroke-linejoin:miter;stroke-opacity:1\"/>\n",
       "<path class=\"bond-11 atom-10 atom-12\" d=\"M 249.5,187.2 L 276.1,213.8\" style=\"fill:none;fill-rule:evenodd;stroke:#000000;stroke-width:2.0px;stroke-linecap:butt;stroke-linejoin:miter;stroke-opacity:1\"/>\n",
       "<path class=\"bond-12 atom-12 atom-13\" d=\"M 275.3,217.0 L 290.1,212.9\" style=\"fill:none;fill-rule:evenodd;stroke:#000000;stroke-width:2.0px;stroke-linecap:butt;stroke-linejoin:miter;stroke-opacity:1\"/>\n",
       "<path class=\"bond-12 atom-12 atom-13\" d=\"M 290.1,212.9 L 304.9,208.9\" style=\"fill:none;fill-rule:evenodd;stroke:#FF0000;stroke-width:2.0px;stroke-linecap:butt;stroke-linejoin:miter;stroke-opacity:1\"/>\n",
       "<path class=\"bond-12 atom-12 atom-13\" d=\"M 273.8,211.5 L 288.6,207.4\" style=\"fill:none;fill-rule:evenodd;stroke:#000000;stroke-width:2.0px;stroke-linecap:butt;stroke-linejoin:miter;stroke-opacity:1\"/>\n",
       "<path class=\"bond-12 atom-12 atom-13\" d=\"M 288.6,207.4 L 303.4,203.4\" style=\"fill:none;fill-rule:evenodd;stroke:#FF0000;stroke-width:2.0px;stroke-linecap:butt;stroke-linejoin:miter;stroke-opacity:1\"/>\n",
       "<path class=\"bond-13 atom-12 atom-14\" d=\"M 276.1,213.8 L 272.5,227.3\" style=\"fill:none;fill-rule:evenodd;stroke:#000000;stroke-width:2.0px;stroke-linecap:butt;stroke-linejoin:miter;stroke-opacity:1\"/>\n",
       "<path class=\"bond-13 atom-12 atom-14\" d=\"M 272.5,227.3 L 268.9,240.9\" style=\"fill:none;fill-rule:evenodd;stroke:#FF0000;stroke-width:2.0px;stroke-linecap:butt;stroke-linejoin:miter;stroke-opacity:1\"/>\n",
       "<path class=\"bond-14 atom-14 atom-15\" d=\"M 275.1,258.9 L 280.4,264.2\" style=\"fill:none;fill-rule:evenodd;stroke:#FF0000;stroke-width:2.0px;stroke-linecap:butt;stroke-linejoin:miter;stroke-opacity:1\"/>\n",
       "<path class=\"bond-14 atom-14 atom-15\" d=\"M 280.4,264.2 L 285.7,269.4\" style=\"fill:none;fill-rule:evenodd;stroke:#000000;stroke-width:2.0px;stroke-linecap:butt;stroke-linejoin:miter;stroke-opacity:1\"/>\n",
       "<path class=\"bond-15 atom-10 atom-16\" d=\"M 249.5,187.2 L 239.8,196.8\" style=\"fill:none;fill-rule:evenodd;stroke:#000000;stroke-width:2.0px;stroke-linecap:butt;stroke-linejoin:miter;stroke-opacity:1\"/>\n",
       "<path class=\"bond-15 atom-10 atom-16\" d=\"M 239.8,196.8 L 230.1,206.4\" style=\"fill:none;fill-rule:evenodd;stroke:#0000FF;stroke-width:2.0px;stroke-linecap:butt;stroke-linejoin:miter;stroke-opacity:1\"/>\n",
       "<path class=\"bond-16 atom-16 atom-17\" d=\"M 215.4,211.7 L 204.5,208.7\" style=\"fill:none;fill-rule:evenodd;stroke:#0000FF;stroke-width:2.0px;stroke-linecap:butt;stroke-linejoin:miter;stroke-opacity:1\"/>\n",
       "<path class=\"bond-16 atom-16 atom-17\" d=\"M 204.5,208.7 L 193.7,205.7\" style=\"fill:none;fill-rule:evenodd;stroke:#000000;stroke-width:2.0px;stroke-linecap:butt;stroke-linejoin:miter;stroke-opacity:1\"/>\n",
       "<path class=\"bond-17 atom-16 atom-18\" d=\"M 225.2,223.1 L 227.5,232.0\" style=\"fill:none;fill-rule:evenodd;stroke:#0000FF;stroke-width:2.0px;stroke-linecap:butt;stroke-linejoin:miter;stroke-opacity:1\"/>\n",
       "<path class=\"bond-17 atom-16 atom-18\" d=\"M 227.5,232.0 L 229.9,240.9\" style=\"fill:none;fill-rule:evenodd;stroke:#000000;stroke-width:2.0px;stroke-linecap:butt;stroke-linejoin:miter;stroke-opacity:1\"/>\n",
       "<path d=\"M 241.8,85.9 L 242.2,86.4 L 241.7,88.2\" style=\"fill:none;stroke:#000000;stroke-width:2.0px;stroke-linecap:butt;stroke-linejoin:miter;stroke-opacity:1;\"/>\n",
       "<path d=\"M 274.8,212.5 L 276.1,213.8 L 276.0,214.5\" style=\"fill:none;stroke:#000000;stroke-width:2.0px;stroke-linecap:butt;stroke-linejoin:miter;stroke-opacity:1;\"/>\n",
       "<path class=\"atom-0\" d=\"M 219.4 15.0 L 221.6 15.0 L 221.6 21.8 L 229.8 21.8 L 229.8 15.0 L 232.0 15.0 L 232.0 31.1 L 229.8 31.1 L 229.8 23.7 L 221.6 23.7 L 221.6 31.1 L 219.4 31.1 L 219.4 15.0 \" fill=\"#000000\"/>\n",
       "<path class=\"atom-1\" d=\"M 208.3 59.5 Q 208.3 55.7, 210.2 53.5 Q 212.1 51.4, 215.7 51.4 Q 219.3 51.4, 221.2 53.5 Q 223.1 55.7, 223.1 59.5 Q 223.1 63.5, 221.1 65.7 Q 219.2 67.9, 215.7 67.9 Q 212.1 67.9, 210.2 65.7 Q 208.3 63.5, 208.3 59.5 M 215.7 66.1 Q 218.1 66.1, 219.5 64.4 Q 220.8 62.8, 220.8 59.5 Q 220.8 56.4, 219.5 54.8 Q 218.1 53.2, 215.7 53.2 Q 213.2 53.2, 211.9 54.8 Q 210.6 56.4, 210.6 59.5 Q 210.6 62.8, 211.9 64.4 Q 213.2 66.1, 215.7 66.1 \" fill=\"#FF0000\"/>\n",
       "<path class=\"atom-3\" d=\"M 271.6 76.9 Q 271.6 73.0, 273.5 70.9 Q 275.4 68.7, 279.0 68.7 Q 282.6 68.7, 284.5 70.9 Q 286.4 73.0, 286.4 76.9 Q 286.4 80.8, 284.4 83.0 Q 282.5 85.2, 279.0 85.2 Q 275.4 85.2, 273.5 83.0 Q 271.6 80.8, 271.6 76.9 M 279.0 83.4 Q 281.4 83.4, 282.8 81.8 Q 284.1 80.1, 284.1 76.9 Q 284.1 73.7, 282.8 72.1 Q 281.4 70.5, 279.0 70.5 Q 276.5 70.5, 275.2 72.1 Q 273.9 73.7, 273.9 76.9 Q 273.9 80.1, 275.2 81.8 Q 276.5 83.4, 279.0 83.4 \" fill=\"#FF0000\"/>\n",
       "<path class=\"atom-5\" d=\"M 199.2 140.6 L 201.4 140.6 L 201.4 147.5 L 209.6 147.5 L 209.6 140.6 L 211.8 140.6 L 211.8 156.7 L 209.6 156.7 L 209.6 149.3 L 201.4 149.3 L 201.4 156.7 L 199.2 156.7 L 199.2 140.6 \" fill=\"#000000\"/>\n",
       "<path class=\"atom-6\" d=\"M 189.5 104.7 L 191.6 104.7 L 191.6 111.5 L 199.9 111.5 L 199.9 104.7 L 202.1 104.7 L 202.1 120.8 L 199.9 120.8 L 199.9 113.3 L 191.6 113.3 L 191.6 120.8 L 189.5 120.8 L 189.5 104.7 \" fill=\"#000000\"/>\n",
       "<path class=\"atom-8\" d=\"M 289.6 151.8 L 291.8 151.8 L 291.8 158.7 L 300.0 158.7 L 300.0 151.8 L 302.2 151.8 L 302.2 167.9 L 300.0 167.9 L 300.0 160.5 L 291.8 160.5 L 291.8 167.9 L 289.6 167.9 L 289.6 151.8 \" fill=\"#000000\"/>\n",
       "<path class=\"atom-9\" d=\"M 279.9 115.3 L 282.1 115.3 L 282.1 122.1 L 290.3 122.1 L 290.3 115.3 L 292.5 115.3 L 292.5 131.4 L 290.3 131.4 L 290.3 123.9 L 282.1 123.9 L 282.1 131.4 L 279.9 131.4 L 279.9 115.3 \" fill=\"#000000\"/>\n",
       "<path class=\"atom-11\" d=\"M 207.0 169.9 L 209.2 169.9 L 209.2 176.8 L 217.4 176.8 L 217.4 169.9 L 219.6 169.9 L 219.6 186.0 L 217.4 186.0 L 217.4 178.6 L 209.2 178.6 L 209.2 186.0 L 207.0 186.0 L 207.0 169.9 \" fill=\"#000000\"/>\n",
       "<path class=\"atom-13\" d=\"M 305.4 203.8 Q 305.4 200.0, 307.3 197.8 Q 309.2 195.7, 312.8 195.7 Q 316.3 195.7, 318.3 197.8 Q 320.2 200.0, 320.2 203.8 Q 320.2 207.8, 318.2 210.0 Q 316.3 212.2, 312.8 212.2 Q 309.2 212.2, 307.3 210.0 Q 305.4 207.8, 305.4 203.8 M 312.8 210.4 Q 315.2 210.4, 316.5 208.7 Q 317.9 207.1, 317.9 203.8 Q 317.9 200.7, 316.5 199.1 Q 315.2 197.5, 312.8 197.5 Q 310.3 197.5, 309.0 199.1 Q 307.7 200.7, 307.7 203.8 Q 307.7 207.1, 309.0 208.7 Q 310.3 210.4, 312.8 210.4 \" fill=\"#FF0000\"/>\n",
       "<path class=\"atom-14\" d=\"M 259.0 250.3 Q 259.0 246.5, 261.0 244.3 Q 262.9 242.2, 266.4 242.2 Q 270.0 242.2, 271.9 244.3 Q 273.8 246.5, 273.8 250.3 Q 273.8 254.3, 271.9 256.5 Q 270.0 258.7, 266.4 258.7 Q 262.9 258.7, 261.0 256.5 Q 259.0 254.3, 259.0 250.3 M 266.4 256.9 Q 268.9 256.9, 270.2 255.2 Q 271.6 253.6, 271.6 250.3 Q 271.6 247.2, 270.2 245.6 Q 268.9 244.0, 266.4 244.0 Q 264.0 244.0, 262.6 245.6 Q 261.3 247.2, 261.3 250.3 Q 261.3 253.6, 262.6 255.2 Q 264.0 256.9, 266.4 256.9 \" fill=\"#FF0000\"/>\n",
       "<path class=\"atom-15\" d=\"M 286.9 268.9 L 289.1 268.9 L 289.1 275.7 L 297.4 275.7 L 297.4 268.9 L 299.5 268.9 L 299.5 285.0 L 297.4 285.0 L 297.4 277.6 L 289.1 277.6 L 289.1 285.0 L 286.9 285.0 L 286.9 268.9 \" fill=\"#000000\"/>\n",
       "<path class=\"atom-16\" d=\"M 219.2 205.7 L 224.5 214.2 Q 225.0 215.1, 225.8 216.6 Q 226.7 218.1, 226.7 218.2 L 226.7 205.7 L 228.8 205.7 L 228.8 221.8 L 226.6 221.8 L 221.0 212.5 Q 220.3 211.4, 219.6 210.1 Q 218.9 208.9, 218.7 208.5 L 218.7 221.8 L 216.6 221.8 L 216.6 205.7 L 219.2 205.7 \" fill=\"#0000FF\"/>\n",
       "<path class=\"atom-17\" d=\"M 179.8 195.6 L 182.0 195.6 L 182.0 202.4 L 190.3 202.4 L 190.3 195.6 L 192.4 195.6 L 192.4 211.7 L 190.3 211.7 L 190.3 204.2 L 182.0 204.2 L 182.0 211.7 L 179.8 211.7 L 179.8 195.6 \" fill=\"#000000\"/>\n",
       "<path class=\"atom-18\" d=\"M 226.0 242.2 L 228.2 242.2 L 228.2 249.0 L 236.4 249.0 L 236.4 242.2 L 238.6 242.2 L 238.6 258.3 L 236.4 258.3 L 236.4 250.9 L 228.2 250.9 L 228.2 258.3 L 226.0 258.3 L 226.0 242.2 \" fill=\"#000000\"/>\n",
       "</svg>"
      ],
      "text/plain": [
       "<IPython.core.display.SVG object>"
      ]
     },
     "metadata": {},
     "output_type": "display_data"
    }
   ],
   "source": [
    "Molecule.from_smiles(\"[H][O][C](=[O])[C]([H])([H])[C]([H])([H])[C@@]([H])([C](=[O])[O][H])[N]([H])[H]\")"
   ]
  },
  {
   "cell_type": "code",
   "execution_count": 4,
   "id": "2bf113eb-751f-4a75-a6b9-a49e3264068f",
   "metadata": {
    "execution": {
     "iopub.execute_input": "2024-12-06T08:41:28.048028Z",
     "iopub.status.busy": "2024-12-06T08:41:28.047932Z",
     "iopub.status.idle": "2024-12-06T08:41:28.684863Z",
     "shell.execute_reply": "2024-12-06T08:41:28.684454Z",
     "shell.execute_reply.started": "2024-12-06T08:41:28.048019Z"
    }
   },
   "outputs": [
    {
     "name": "stdout",
     "output_type": "stream",
     "text": [
      "matching new residue ACE\n",
      "matched!\n",
      "matching new residue PHE\n",
      "matched!\n",
      "matched!\n",
      "matched!\n",
      "name in pdb file missing from res def 1: 'H' {'N': 'N', 'CA': 'CA', 'C': 'C', 'O': 'O', 'CB': 'CB', 'CG': 'CG', 'CD1': 'CD1', 'CD2': 'CD2', 'CE1': 'CE1', 'CE2': 'CE2', 'CZ': 'CZ', 'OXT': 'OXT', 'HA': 'HA', 'HB2': 'HB2', 'HB3': 'HB3', 'HD1': 'HD1', 'HD2': 'HD2', 'HE1': 'HE1', 'HE2': 'HE2', 'HZ': 'HZ', 'HXT': 'HXT', 'H1': 'H1', 'H2': 'H2', '1HB': 'HB2', '2HB': 'HB3'}\n",
      "name in pdb file missing from res def 1: 'H' {'N': 'N', 'CA': 'CA', 'C': 'C', 'O': 'O', 'CB': 'CB', 'CG': 'CG', 'CD1': 'CD1', 'CD2': 'CD2', 'CE1': 'CE1', 'CE2': 'CE2', 'CZ': 'CZ', 'OXT': 'OXT', 'HA': 'HA', 'HB2': 'HB2', 'HB3': 'HB3', 'HD1': 'HD1', 'HD2': 'HD2', 'HE1': 'HE1', 'HE2': 'HE2', 'HZ': 'HZ', 'H1': 'H1', 'H2': 'H2', 'H3': 'H3', '1HB': 'HB2', '2HB': 'HB3'}\n",
      "matched!\n",
      "name in pdb file missing from res def 1: 'H' {'N': 'N', 'CA': 'CA', 'C': 'C', 'O': 'O', 'CB': 'CB', 'CG': 'CG', 'CD1': 'CD1', 'CD2': 'CD2', 'CE1': 'CE1', 'CE2': 'CE2', 'CZ': 'CZ', 'HA': 'HA', 'HB2': 'HB2', 'HB3': 'HB3', 'HD1': 'HD1', 'HD2': 'HD2', 'HE1': 'HE1', 'HE2': 'HE2', 'HZ': 'HZ', 'H1': 'H1', 'H2': 'H2', 'H3': 'H3', '1HB': 'HB2', '2HB': 'HB3'}\n",
      "linking_atom='N'\n"
     ]
    },
    {
     "ename": "TypeError",
     "evalue": "unhashable type: 'list'",
     "output_type": "error",
     "traceback": [
      "\u001b[0;31m---------------------------------------------------------------------------\u001b[0m",
      "\u001b[0;31mTypeError\u001b[0m                                 Traceback (most recent call last)",
      "Cell \u001b[0;32mIn[4], line 3\u001b[0m\n\u001b[1;32m      1\u001b[0m \u001b[38;5;66;03m# %%snakeviz\u001b[39;00m\n\u001b[1;32m      2\u001b[0m \u001b[38;5;66;03m# top = topology_from_pdb(\"/home/joshmitchell/Downloads/2p41.pdb\")\u001b[39;00m\n\u001b[0;32m----> 3\u001b[0m top \u001b[38;5;241m=\u001b[39m \u001b[43mtopology_from_pdb\u001b[49m\u001b[43m(\u001b[49m\n\u001b[1;32m      4\u001b[0m \u001b[43m    \u001b[49m\u001b[38;5;124;43m\"\u001b[39;49m\u001b[38;5;124;43m5ap1_prepared.pdb\u001b[39;49m\u001b[38;5;124;43m\"\u001b[39;49m\u001b[43m,\u001b[49m\n\u001b[1;32m      5\u001b[0m \u001b[43m    \u001b[49m\u001b[38;5;66;43;03m# unknown_molecules=[\u001b[39;49;00m\n\u001b[1;32m      6\u001b[0m \u001b[43m    \u001b[49m\u001b[38;5;66;43;03m#     Molecule.from_smiles(\u001b[39;49;00m\n\u001b[1;32m      7\u001b[0m \u001b[43m    \u001b[49m\u001b[38;5;66;43;03m#         \"O=C([O-])Cn1cc(cn1)c2ccc(cc2OCC#N)Nc3ccc(c(n3)NC4CCCCC4)C#N\"\u001b[39;49;00m\n\u001b[1;32m      8\u001b[0m \u001b[43m    \u001b[49m\u001b[38;5;66;43;03m#     )\u001b[39;49;00m\n\u001b[1;32m      9\u001b[0m \u001b[43m    \u001b[49m\u001b[38;5;66;43;03m# ],\u001b[39;49;00m\n\u001b[1;32m     10\u001b[0m \u001b[43m)\u001b[49m\n",
      "File \u001b[0;32m~/Documents/openff/openff-pdbscan/openff/pdbscan/pdb/_pdb.py:222\u001b[0m, in \u001b[0;36mtopology_from_pdb\u001b[0;34m(path, use_canonical_names, residue_database)\u001b[0m\n\u001b[1;32m    219\u001b[0m \u001b[38;5;28;01mfor\u001b[39;00m match \u001b[38;5;129;01min\u001b[39;00m this_matches:\n\u001b[1;32m    220\u001b[0m     \u001b[38;5;66;03m# TODO: Simplify this and factor out into function with logic in PdbData.subset_matches_residue\u001b[39;00m\n\u001b[1;32m    221\u001b[0m     \u001b[38;5;28;01mif\u001b[39;00m \u001b[38;5;28mlen\u001b[39m(match\u001b[38;5;241m.\u001b[39mmissing_atoms) \u001b[38;5;241m!=\u001b[39m \u001b[38;5;241m0\u001b[39m:\n\u001b[0;32m--> 222\u001b[0m         prior_bond_mismatched \u001b[38;5;241m=\u001b[39m \u001b[43mmatch\u001b[49m\u001b[38;5;241;43m.\u001b[39;49m\u001b[43mexpect_prior_bond\u001b[49m \u001b[38;5;241m!=\u001b[39m \u001b[38;5;28many\u001b[39m(\n\u001b[1;32m    223\u001b[0m             prev_match\u001b[38;5;241m.\u001b[39mexpect_posterior_bond\n\u001b[1;32m    224\u001b[0m             \u001b[38;5;28;01mfor\u001b[39;00m prev_match \u001b[38;5;129;01min\u001b[39;00m prev_filtered_matches\n\u001b[1;32m    225\u001b[0m         )\n\u001b[1;32m    226\u001b[0m         \u001b[38;5;28;01mif\u001b[39;00m prior_bond_mismatched:\n\u001b[1;32m    227\u001b[0m             \u001b[38;5;28;01mcontinue\u001b[39;00m\n",
      "File \u001b[0;32m~/Documents/openff/openff-pdbscan/.soap/test/lib/python3.12/functools.py:993\u001b[0m, in \u001b[0;36mcached_property.__get__\u001b[0;34m(self, instance, owner)\u001b[0m\n\u001b[1;32m    991\u001b[0m val \u001b[38;5;241m=\u001b[39m cache\u001b[38;5;241m.\u001b[39mget(\u001b[38;5;28mself\u001b[39m\u001b[38;5;241m.\u001b[39mattrname, _NOT_FOUND)\n\u001b[1;32m    992\u001b[0m \u001b[38;5;28;01mif\u001b[39;00m val \u001b[38;5;129;01mis\u001b[39;00m _NOT_FOUND:\n\u001b[0;32m--> 993\u001b[0m     val \u001b[38;5;241m=\u001b[39m \u001b[38;5;28;43mself\u001b[39;49m\u001b[38;5;241;43m.\u001b[39;49m\u001b[43mfunc\u001b[49m\u001b[43m(\u001b[49m\u001b[43minstance\u001b[49m\u001b[43m)\u001b[49m\n\u001b[1;32m    994\u001b[0m     \u001b[38;5;28;01mtry\u001b[39;00m:\n\u001b[1;32m    995\u001b[0m         cache[\u001b[38;5;28mself\u001b[39m\u001b[38;5;241m.\u001b[39mattrname] \u001b[38;5;241m=\u001b[39m val\n",
      "File \u001b[0;32m~/Documents/openff/openff-pdbscan/openff/pdbscan/pdb/_pdb_data.py:43\u001b[0m, in \u001b[0;36mResidueMatch.expect_prior_bond\u001b[0;34m(self)\u001b[0m\n\u001b[1;32m     41\u001b[0m linking_atom \u001b[38;5;241m=\u001b[39m \u001b[38;5;28mself\u001b[39m\u001b[38;5;241m.\u001b[39mresidue_definition\u001b[38;5;241m.\u001b[39mlinking_bond\u001b[38;5;241m.\u001b[39matom2\n\u001b[1;32m     42\u001b[0m \u001b[38;5;28mprint\u001b[39m(\u001b[38;5;124mf\u001b[39m\u001b[38;5;124m\"\u001b[39m\u001b[38;5;132;01m{\u001b[39;00mlinking_atom\u001b[38;5;132;01m=}\u001b[39;00m\u001b[38;5;124m\"\u001b[39m)\n\u001b[0;32m---> 43\u001b[0m bonded_to_linking_atom \u001b[38;5;241m=\u001b[39m \u001b[38;5;28;43mself\u001b[39;49m\u001b[38;5;241;43m.\u001b[39;49m\u001b[43mresidue_definition\u001b[49m\u001b[38;5;241;43m.\u001b[39;49m\u001b[43matoms_bonded_to\u001b[49m\u001b[43m(\u001b[49m\u001b[43mlinking_atom\u001b[49m\u001b[43m)\u001b[49m\n\u001b[1;32m     44\u001b[0m \u001b[38;5;28mprint\u001b[39m(\u001b[38;5;124mf\u001b[39m\u001b[38;5;124m\"\u001b[39m\u001b[38;5;132;01m{\u001b[39;00mlinking_atom\u001b[38;5;132;01m=}\u001b[39;00m\u001b[38;5;124m, \u001b[39m\u001b[38;5;132;01m{\u001b[39;00mbonded_to_linking_atom\u001b[38;5;132;01m=}\u001b[39;00m\u001b[38;5;124m\"\u001b[39m)\n\u001b[1;32m     46\u001b[0m \u001b[38;5;66;03m# TODO: Check all leaving atoms for the prior bond\u001b[39;00m\n",
      "File \u001b[0;32m<string>:3\u001b[0m, in \u001b[0;36m__hash__\u001b[0;34m(self)\u001b[0m\n",
      "\u001b[0;31mTypeError\u001b[0m: unhashable type: 'list'"
     ]
    }
   ],
   "source": [
    "# %%snakeviz\n",
    "# top = topology_from_pdb(\"/home/joshmitchell/Downloads/2p41.pdb\")\n",
    "top = topology_from_pdb(\n",
    "    \"5ap1_prepared.pdb\",\n",
    "    # unknown_molecules=[\n",
    "    #     Molecule.from_smiles(\n",
    "    #         \"O=C([O-])Cn1cc(cn1)c2ccc(cc2OCC#N)Nc3ccc(c(n3)NC4CCCCC4)C#N\"\n",
    "    #     )\n",
    "    # ],\n",
    ")"
   ]
  },
  {
   "cell_type": "code",
   "execution_count": null,
   "id": "6cb8164f-eeb0-42fd-9ec6-4f156ad2beaa",
   "metadata": {
    "execution": {
     "iopub.status.busy": "2024-09-01T09:31:43.226254Z",
     "iopub.status.idle": "2024-09-01T09:31:43.226379Z",
     "shell.execute_reply": "2024-09-01T09:31:43.226323Z",
     "shell.execute_reply.started": "2024-09-01T09:31:43.226317Z"
    }
   },
   "outputs": [],
   "source": [
    "w = top.visualize()\n",
    "# w.add_representation(\n",
    "#     \"licorice\",\n",
    "#     # sele=\"not hydrogen\",\n",
    "# )\n",
    "w"
   ]
  },
  {
   "cell_type": "code",
   "execution_count": null,
   "id": "d7c4a268-601b-481d-bb9e-4d23f44bb3a4",
   "metadata": {
    "execution": {
     "iopub.status.busy": "2024-09-01T09:31:43.226742Z",
     "iopub.status.idle": "2024-09-01T09:31:43.226855Z",
     "shell.execute_reply": "2024-09-01T09:31:43.226803Z",
     "shell.execute_reply.started": "2024-09-01T09:31:43.226798Z"
    }
   },
   "outputs": [],
   "source": [
    "from openff.toolkit import Topology\n",
    "\n",
    "old_top = Topology.from_pdb(\n",
    "    \"5ap1_prepared.pdb\",\n",
    "    unique_molecules=[\n",
    "        Molecule.from_smiles(\n",
    "            \"O=C([O-])Cn1cc(cn1)c2ccc(cc2OCC#N)Nc3ccc(c(n3)NC4CCCCC4)C#N\"\n",
    "        )\n",
    "    ],\n",
    ")"
   ]
  },
  {
   "cell_type": "code",
   "execution_count": null,
   "id": "61dbb57b-8c37-425b-abf1-b777b057c2bb",
   "metadata": {
    "execution": {
     "iopub.status.busy": "2024-09-01T09:31:43.227168Z",
     "iopub.status.idle": "2024-09-01T09:31:43.227281Z",
     "shell.execute_reply": "2024-09-01T09:31:43.227232Z",
     "shell.execute_reply.started": "2024-09-01T09:31:43.227227Z"
    }
   },
   "outputs": [],
   "source": [
    "w = old_top.visualize()\n",
    "w.add_representation(\n",
    "    \"licorice\",\n",
    "    # sele=\"not hydrogen\",\n",
    ")\n",
    "w"
   ]
  },
  {
   "cell_type": "code",
   "execution_count": null,
   "id": "725be2b6-df56-4e2a-aa9f-4b49b7b877de",
   "metadata": {
    "execution": {
     "iopub.status.busy": "2024-09-01T09:31:43.227952Z",
     "iopub.status.idle": "2024-09-01T09:31:43.228076Z",
     "shell.execute_reply": "2024-09-01T09:31:43.228020Z",
     "shell.execute_reply.started": "2024-09-01T09:31:43.228014Z"
    }
   },
   "outputs": [],
   "source": [
    "for i, (new, old) in enumerate(zip(top.atoms, top.atoms)):\n",
    "    assert new.name == old.name, f\"{new.name=} != {old.name=} (index {i})\"\n",
    "    assert (\n",
    "        new.atomic_number == old.atomic_number\n",
    "    ), f\"{new.atomic_number=} != {old.atomic_number=} (index {i})\"\n",
    "    assert (\n",
    "        new.formal_charge == old.formal_charge\n",
    "    ), f\"{new.formal_charge=} != {old.formal_charge=} (index {i})\"\n",
    "    assert (\n",
    "        new.stereochemistry == old.stereochemistry\n",
    "    ), f\"{new.stereochemistry=} != {old.stereochemistry=} (index {i})\"\n",
    "    assert (\n",
    "        new.is_aromatic == old.is_aromatic\n",
    "    ), f\"{new.is_aromatic=} != {old.is_aromatic=} (index {i})\""
   ]
  },
  {
   "cell_type": "code",
   "execution_count": null,
   "id": "9f851aab-df86-485d-a0e2-023f0f6ece47",
   "metadata": {
    "execution": {
     "iopub.status.busy": "2024-09-01T09:31:43.228505Z",
     "iopub.status.idle": "2024-09-01T09:31:43.228623Z",
     "shell.execute_reply": "2024-09-01T09:31:43.228568Z",
     "shell.execute_reply.started": "2024-09-01T09:31:43.228563Z"
    }
   },
   "outputs": [],
   "source": [
    "for i, (new, old) in enumerate(zip(top.bonds, top.bonds)):\n",
    "    assert new.atom1_index == old.atom1_index, f\"{new.atom1_index=} != {old.atom1_index=} (index {i})\"\n",
    "    assert new.atom2_index == old.atom2_index, f\"{new.atom2_index=} != {old.atom2_index=} (index {i})\"\n",
    "    assert (\n",
    "        new.bond_order == old.bond_order\n",
    "    ), f\"{new.bond_order=} != {old.bond_order=} (index {i})\"\n",
    "    assert (\n",
    "        new.stereochemistry == old.stereochemistry\n",
    "    ), f\"{new.stereochemistry=} != {old.stereochemistry=} (index {i})\"\n",
    "    assert (\n",
    "        new.is_aromatic == old.is_aromatic\n",
    "    ), f\"{new.is_aromatic=} != {old.is_aromatic=} (index {i})\""
   ]
  },
  {
   "cell_type": "code",
   "execution_count": null,
   "id": "709287ad-182a-492b-8b8d-f3d11c333dbe",
   "metadata": {
    "execution": {
     "iopub.status.busy": "2024-09-01T09:31:43.228982Z",
     "iopub.status.idle": "2024-09-01T09:31:43.229094Z",
     "shell.execute_reply": "2024-09-01T09:31:43.229042Z",
     "shell.execute_reply.started": "2024-09-01T09:31:43.229037Z"
    },
    "scrolled": true
   },
   "outputs": [],
   "source": [
    "for i, (new, old) in enumerate(zip(top.atoms, old_top.atoms)):\n",
    "    if (\n",
    "        new.name != old.name \n",
    "        or new.metadata[\"residue_name\"] != old.metadata[\"residue_name\"]\n",
    "        or new.metadata[\"residue_number\"] != old.metadata[\"residue_number\"]\n",
    "        or new.formal_charge != old.formal_charge\n",
    "    ):\n",
    "        print(\n",
    "            f\"{i: >5}\", \n",
    "            f\"{new.name: >5}\", \n",
    "            f\"{new.metadata[\"residue_name\"]: >5}\", \n",
    "            f\"{new.metadata[\"residue_number\"]: >5}\", \n",
    "            f\"{new.formal_charge.m: >5}\", \n",
    "            f\"{old.name: >5}\", \n",
    "            f\"{old.metadata[\"residue_name\"]: >5}\", \n",
    "            f\"{old.metadata[\"residue_number\"]: >5}\", \n",
    "            f\"{old.formal_charge.m: >5}\", \n",
    "        )"
   ]
  },
  {
   "cell_type": "code",
   "execution_count": null,
   "id": "4f177762-301c-49d4-92e2-5f021cd52145",
   "metadata": {
    "execution": {
     "iopub.status.busy": "2024-09-01T09:31:43.229538Z",
     "iopub.status.idle": "2024-09-01T09:31:43.229681Z",
     "shell.execute_reply": "2024-09-01T09:31:43.229605Z",
     "shell.execute_reply.started": "2024-09-01T09:31:43.229598Z"
    }
   },
   "outputs": [],
   "source": [
    "from openff.units import unit\n",
    "\n",
    "assert (top.get_positions() - old_top.get_positions() < 1e-6 * unit.nanometer).all()"
   ]
  },
  {
   "cell_type": "code",
   "execution_count": null,
   "id": "85e22802-125c-42a8-ba2c-0fa8662eb680",
   "metadata": {},
   "outputs": [],
   "source": []
  },
  {
   "cell_type": "code",
   "execution_count": null,
   "id": "64be5111-500f-436c-9b0d-5051ac9bd243",
   "metadata": {},
   "outputs": [],
   "source": []
  }
 ],
 "metadata": {
  "kernelspec": {
   "display_name": "Python 3 (ipykernel)",
   "language": "python",
   "name": "python3"
  },
  "language_info": {
   "codemirror_mode": {
    "name": "ipython",
    "version": 3
   },
   "file_extension": ".py",
   "mimetype": "text/x-python",
   "name": "python",
   "nbconvert_exporter": "python",
   "pygments_lexer": "ipython3",
   "version": "3.12.7"
  },
  "widgets": {
   "application/vnd.jupyter.widget-state+json": {
    "state": {
     "38640a9517374f21bc6e42066a2015e4": {
      "model_module": "nglview-js-widgets",
      "model_module_version": "3.0.8",
      "model_name": "ColormakerRegistryModel",
      "state": {
       "_msg_ar": [],
       "_msg_q": [],
       "_ready": true,
       "layout": "IPY_MODEL_674fcbf06f5144c29b2f3a68d20658de"
      }
     },
     "674fcbf06f5144c29b2f3a68d20658de": {
      "model_module": "@jupyter-widgets/base",
      "model_module_version": "2.0.0",
      "model_name": "LayoutModel",
      "state": {}
     }
    },
    "version_major": 2,
    "version_minor": 0
   }
  }
 },
 "nbformat": 4,
 "nbformat_minor": 5
}
