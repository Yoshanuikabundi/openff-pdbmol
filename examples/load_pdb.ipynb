{
 "cells": [
  {
   "cell_type": "code",
   "execution_count": 1,
   "id": "06633713-98f5-4bce-a5ba-c9a1eca91d5b",
   "metadata": {
    "execution": {
     "iopub.execute_input": "2024-08-28T15:40:34.595096Z",
     "iopub.status.busy": "2024-08-28T15:40:34.594693Z",
     "iopub.status.idle": "2024-08-28T15:40:35.188991Z",
     "shell.execute_reply": "2024-08-28T15:40:35.188644Z",
     "shell.execute_reply.started": "2024-08-28T15:40:34.595071Z"
    }
   },
   "outputs": [
    {
     "data": {
      "application/vnd.jupyter.widget-view+json": {
       "model_id": "85a4313ec9354b77ab53083d5e1e587a",
       "version_major": 2,
       "version_minor": 0
      },
      "text/plain": []
     },
     "metadata": {},
     "output_type": "display_data"
    }
   ],
   "source": [
    "from openff.toolkit import Molecule\n",
    "\n",
    "from openff.pdbscan.pdb import topology_from_pdb\n",
    "\n",
    "%load_ext snakeviz"
   ]
  },
  {
   "cell_type": "code",
   "execution_count": 2,
   "id": "2bf113eb-751f-4a75-a6b9-a49e3264068f",
   "metadata": {
    "execution": {
     "iopub.execute_input": "2024-08-28T15:40:35.189713Z",
     "iopub.status.busy": "2024-08-28T15:40:35.189488Z",
     "iopub.status.idle": "2024-08-28T15:40:37.255517Z",
     "shell.execute_reply": "2024-08-28T15:40:37.255009Z",
     "shell.execute_reply.started": "2024-08-28T15:40:35.189700Z"
    }
   },
   "outputs": [
    {
     "ename": "MissingAtomsFromPDBError",
     "evalue": "The following atoms from the CCD were missing from the PDB file:\n    Atom H in residue A:ACE#0001\n    Atom H2 in residue A:PHE#0002\n    Atom HE2 in residue A:GLU#0032\n    Atom HE2 in residue A:GLU#0045\n    Atom HE2 in residue A:GLU#0046\n    Atom HD2 in residue A:ASP#0048\n    Atom HD2 in residue A:ASP#0053\n    Atom HE2 in residue A:GLU#0058\n    Atom HE2 in residue A:HIS#0068\n    Atom HD2 in residue A:ASP#0070\n    Atom HD2 in residue A:ASP#0077\n    Atom HE2 in residue A:GLU#0079\n    Atom HD2 in residue A:ASP#0082\n    Atom HE2 in residue A:GLU#0090\n    Atom HD2 in residue A:ASP#0095\n    Atom HD2 in residue A:ASP#0107\n    Atom HE2 in residue A:GLU#0110\n    Atom HE2 in residue A:GLU#0120\n    Atom HE2 in residue A:HIS#0123\n    Atom HD1 in residue A:HIS#0126\n    Atom HE2 in residue A:HIS#0128\n    Atom HD1 in residue A:HIS#0132\n    Atom HD2 in residue A:ASP#0134\n    Atom HD2 in residue A:ASP#0144\n    Atom HD2 in residue A:ASP#0151\n    Atom HD2 in residue A:ASP#0161\n    Atom HD2 in residue A:ASP#0168\n    Atom HE2 in residue A:GLU#0180\n    Atom HD2 in residue A:ASP#0184\n    Atom HE2 in residue A:GLU#0190\n    Atom HD2 in residue A:ASP#0203\n    Atom HD1 in residue A:HIS#0232\n    Atom HD2 in residue A:ASP#0236\n    Atom HE2 in residue A:HIS#0239\n    Atom HE2 in residue A:GLU#0240\n    Atom HE2 in residue A:GLU#0242\n    Atom HD2 in residue A:ASP#0245\n    Atom HE2 in residue A:GLU#0248\n    Atom HD2 in residue A:ASP#0250\n    Atom HD2 in residue A:ASP#0253\n    Atom HD2 in residue A:ASP#0262\n    Atom HE2 in residue A:GLU#0271\n    Atom HD1 in residue A:HIS#0275\n    Atom OXT in residue A:THR#0282\n    Atom HXT in residue A:THR#0282\n    Atom HN1 in residue A:NME#0283",
     "output_type": "error",
     "traceback": [
      "\u001b[0;31m---------------------------------------------------------------------------\u001b[0m",
      "\u001b[0;31mMissingAtomsFromPDBError\u001b[0m                  Traceback (most recent call last)",
      "Cell \u001b[0;32mIn[2], line 3\u001b[0m\n\u001b[1;32m      1\u001b[0m \u001b[38;5;66;03m# %%snakeviz\u001b[39;00m\n\u001b[1;32m      2\u001b[0m \u001b[38;5;66;03m# top = topology_from_pdb(\"/home/joshmitchell/Downloads/2p41.pdb\")\u001b[39;00m\n\u001b[0;32m----> 3\u001b[0m top \u001b[38;5;241m=\u001b[39m \u001b[43mtopology_from_pdb\u001b[49m\u001b[43m(\u001b[49m\n\u001b[1;32m      4\u001b[0m \u001b[43m    \u001b[49m\u001b[38;5;124;43m\"\u001b[39;49m\u001b[38;5;124;43m5ap1_prepared.pdb\u001b[39;49m\u001b[38;5;124;43m\"\u001b[39;49m\u001b[43m,\u001b[49m\n\u001b[1;32m      5\u001b[0m \u001b[43m    \u001b[49m\u001b[43mreplace_missing_atoms\u001b[49m\u001b[38;5;241;43m=\u001b[39;49m\u001b[38;5;28;43;01mFalse\u001b[39;49;00m\u001b[43m,\u001b[49m\n\u001b[1;32m      6\u001b[0m \u001b[43m    \u001b[49m\u001b[43munknown_molecules\u001b[49m\u001b[38;5;241;43m=\u001b[39;49m\u001b[43m[\u001b[49m\n\u001b[1;32m      7\u001b[0m \u001b[43m        \u001b[49m\u001b[43mMolecule\u001b[49m\u001b[38;5;241;43m.\u001b[39;49m\u001b[43mfrom_smiles\u001b[49m\u001b[43m(\u001b[49m\u001b[38;5;124;43m\"\u001b[39;49m\u001b[38;5;124;43mO=C([O-])Cn1cc(cn1)c2ccc(cc2OCC#N)Nc3ccc(c(n3)NC4CCCCC4)C#N\u001b[39;49m\u001b[38;5;124;43m\"\u001b[39;49m\u001b[43m)\u001b[49m\n\u001b[1;32m      8\u001b[0m \u001b[43m    \u001b[49m\u001b[43m]\u001b[49m\u001b[43m,\u001b[49m\n\u001b[1;32m      9\u001b[0m \u001b[43m)\u001b[49m\n",
      "File \u001b[0;32m~/Documents/openff/openff-pdbscan/openff/pdbscan/pdb.py:1007\u001b[0m, in \u001b[0;36mtopology_from_pdb\u001b[0;34m(path, replace_missing_atoms, use_canonical_names, unknown_molecules, residue_database, synonyms)\u001b[0m\n\u001b[1;32m   1005\u001b[0m                 missing_atoms\u001b[38;5;241m.\u001b[39mappend(atom)\n\u001b[1;32m   1006\u001b[0m     \u001b[38;5;28;01mif\u001b[39;00m missing_atoms:\n\u001b[0;32m-> 1007\u001b[0m         \u001b[38;5;28;01mraise\u001b[39;00m MissingAtomsFromPDBError(missing_atoms)\n\u001b[1;32m   1009\u001b[0m \u001b[38;5;28;01mif\u001b[39;00m \u001b[38;5;129;01mnot\u001b[39;00m use_canonical_names:\n\u001b[1;32m   1010\u001b[0m     \u001b[38;5;28;01mfor\u001b[39;00m molecule \u001b[38;5;129;01min\u001b[39;00m molecules:\n",
      "\u001b[0;31mMissingAtomsFromPDBError\u001b[0m: The following atoms from the CCD were missing from the PDB file:\n    Atom H in residue A:ACE#0001\n    Atom H2 in residue A:PHE#0002\n    Atom HE2 in residue A:GLU#0032\n    Atom HE2 in residue A:GLU#0045\n    Atom HE2 in residue A:GLU#0046\n    Atom HD2 in residue A:ASP#0048\n    Atom HD2 in residue A:ASP#0053\n    Atom HE2 in residue A:GLU#0058\n    Atom HE2 in residue A:HIS#0068\n    Atom HD2 in residue A:ASP#0070\n    Atom HD2 in residue A:ASP#0077\n    Atom HE2 in residue A:GLU#0079\n    Atom HD2 in residue A:ASP#0082\n    Atom HE2 in residue A:GLU#0090\n    Atom HD2 in residue A:ASP#0095\n    Atom HD2 in residue A:ASP#0107\n    Atom HE2 in residue A:GLU#0110\n    Atom HE2 in residue A:GLU#0120\n    Atom HE2 in residue A:HIS#0123\n    Atom HD1 in residue A:HIS#0126\n    Atom HE2 in residue A:HIS#0128\n    Atom HD1 in residue A:HIS#0132\n    Atom HD2 in residue A:ASP#0134\n    Atom HD2 in residue A:ASP#0144\n    Atom HD2 in residue A:ASP#0151\n    Atom HD2 in residue A:ASP#0161\n    Atom HD2 in residue A:ASP#0168\n    Atom HE2 in residue A:GLU#0180\n    Atom HD2 in residue A:ASP#0184\n    Atom HE2 in residue A:GLU#0190\n    Atom HD2 in residue A:ASP#0203\n    Atom HD1 in residue A:HIS#0232\n    Atom HD2 in residue A:ASP#0236\n    Atom HE2 in residue A:HIS#0239\n    Atom HE2 in residue A:GLU#0240\n    Atom HE2 in residue A:GLU#0242\n    Atom HD2 in residue A:ASP#0245\n    Atom HE2 in residue A:GLU#0248\n    Atom HD2 in residue A:ASP#0250\n    Atom HD2 in residue A:ASP#0253\n    Atom HD2 in residue A:ASP#0262\n    Atom HE2 in residue A:GLU#0271\n    Atom HD1 in residue A:HIS#0275\n    Atom OXT in residue A:THR#0282\n    Atom HXT in residue A:THR#0282\n    Atom HN1 in residue A:NME#0283"
     ]
    }
   ],
   "source": [
    "# %%snakeviz\n",
    "# top = topology_from_pdb(\"/home/joshmitchell/Downloads/2p41.pdb\")\n",
    "top = topology_from_pdb(\n",
    "    \"5ap1_prepared.pdb\",\n",
    "    replace_missing_atoms=False,\n",
    "    unknown_molecules=[\n",
    "        Molecule.from_smiles(\"O=C([O-])Cn1cc(cn1)c2ccc(cc2OCC#N)Nc3ccc(c(n3)NC4CCCCC4)C#N\")\n",
    "    ],\n",
    ")"
   ]
  },
  {
   "cell_type": "code",
   "execution_count": 3,
   "id": "6cb8164f-eeb0-42fd-9ec6-4f156ad2beaa",
   "metadata": {
    "execution": {
     "iopub.execute_input": "2024-08-28T15:39:16.484960Z",
     "iopub.status.busy": "2024-08-28T15:39:16.484787Z",
     "iopub.status.idle": "2024-08-28T15:39:21.697589Z",
     "shell.execute_reply": "2024-08-28T15:39:21.697162Z",
     "shell.execute_reply.started": "2024-08-28T15:39:16.484948Z"
    }
   },
   "outputs": [
    {
     "data": {
      "application/vnd.jupyter.widget-view+json": {
       "model_id": "a24d76076a8d45deb9e68a77c9e13764",
       "version_major": 2,
       "version_minor": 0
      },
      "text/plain": [
       "NGLWidget()"
      ]
     },
     "metadata": {},
     "output_type": "display_data"
    }
   ],
   "source": [
    "w = top.visualize()\n",
    "w.add_representation(\"licorice\", sele=\"not hydrogen\")\n",
    "w"
   ]
  },
  {
   "cell_type": "code",
   "execution_count": 17,
   "id": "ac4f2bf6-6ee6-491c-a1bf-8dbbc679201c",
   "metadata": {
    "execution": {
     "iopub.execute_input": "2024-08-28T15:31:01.312834Z",
     "iopub.status.busy": "2024-08-28T15:31:01.312671Z",
     "iopub.status.idle": "2024-08-28T15:31:01.424092Z",
     "shell.execute_reply": "2024-08-28T15:31:01.423759Z",
     "shell.execute_reply.started": "2024-08-28T15:31:01.312823Z"
    }
   },
   "outputs": [
    {
     "data": {
      "application/vnd.jupyter.widget-view+json": {
       "model_id": "e3c6ac04f6c7402fa373b919e8f2bc71",
       "version_major": 2,
       "version_minor": 0
      },
      "text/plain": [
       "NGLWidget()"
      ]
     },
     "metadata": {},
     "output_type": "display_data"
    }
   ],
   "source": [
    "w = top.molecule(1).visualize(\"nglview\")\n",
    "w.clear_representations()\n",
    "w.add_representation(\n",
    "    \"licorice\",\n",
    "    # sele=\"not hydrogen\",\n",
    "    multipleBond=True,\n",
    ")\n",
    "w"
   ]
  },
  {
   "cell_type": "code",
   "execution_count": 26,
   "id": "40e63bc7-f50f-443b-9209-dd4a57890812",
   "metadata": {
    "execution": {
     "iopub.execute_input": "2024-08-28T15:34:20.704301Z",
     "iopub.status.busy": "2024-08-28T15:34:20.704087Z",
     "iopub.status.idle": "2024-08-28T15:34:20.706822Z",
     "shell.execute_reply": "2024-08-28T15:34:20.706542Z",
     "shell.execute_reply.started": "2024-08-28T15:34:20.704286Z"
    }
   },
   "outputs": [
    {
     "data": {
      "text/plain": [
       "{'residue_name': 'PHE', 'leaving': False, 'residue_number': 2, 'insertion_code': '', 'chain_id': 'A'}"
      ]
     },
     "execution_count": 26,
     "metadata": {},
     "output_type": "execute_result"
    }
   ],
   "source": [
    "top.molecule(1).atom(0).metadata"
   ]
  },
  {
   "cell_type": "code",
   "execution_count": null,
   "id": "5859c047-6905-413e-b078-76fdd9c20b36",
   "metadata": {},
   "outputs": [],
   "source": []
  }
 ],
 "metadata": {
  "kernelspec": {
   "display_name": "Python 3 (ipykernel)",
   "language": "python",
   "name": "python3"
  },
  "language_info": {
   "codemirror_mode": {
    "name": "ipython",
    "version": 3
   },
   "file_extension": ".py",
   "mimetype": "text/x-python",
   "name": "python",
   "nbconvert_exporter": "python",
   "pygments_lexer": "ipython3",
   "version": "3.12.3"
  },
  "widgets": {
   "application/vnd.jupyter.widget-state+json": {
    "state": {
     "37bd31ade3144304a22e0cc74dfb1bb3": {
      "model_module": "@jupyter-widgets/base",
      "model_module_version": "2.0.0",
      "model_name": "LayoutModel",
      "state": {}
     },
     "85a4313ec9354b77ab53083d5e1e587a": {
      "model_module": "nglview-js-widgets",
      "model_module_version": "3.0.8",
      "model_name": "ColormakerRegistryModel",
      "state": {
       "_msg_ar": [],
       "_msg_q": [],
       "_ready": true,
       "layout": "IPY_MODEL_37bd31ade3144304a22e0cc74dfb1bb3"
      }
     }
    },
    "version_major": 2,
    "version_minor": 0
   }
  }
 },
 "nbformat": 4,
 "nbformat_minor": 5
}
